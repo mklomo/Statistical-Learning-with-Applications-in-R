{
 "cells": [
  {
   "cell_type": "markdown",
   "metadata": {},
   "source": [
    "# Classification\n",
    "\n",
    "This data set consists of percentage returns for the S&P 500 stock index over 1, 250 days, from the\n",
    "beginning of 2001 until the end of 2005. For each date, we have recorded the percentage returns for each of the five previous trading days, Lag1 through Lag5.  Volume (the number of shares traded on the previous day, in billions), Today (the percentage return on the date in question) and Direction (whether the market was Up or Down on this\n",
    "date). Our goal is to predict Direction (a qualitative response) using the other features."
   ]
  },
  {
   "cell_type": "code",
   "execution_count": 139,
   "metadata": {},
   "outputs": [
    {
     "data": {
      "text/html": [
       "<ol class=list-inline>\n",
       "\t<li>'Year'</li>\n",
       "\t<li>'Lag1'</li>\n",
       "\t<li>'Lag2'</li>\n",
       "\t<li>'Lag3'</li>\n",
       "\t<li>'Lag4'</li>\n",
       "\t<li>'Lag5'</li>\n",
       "\t<li>'Volume'</li>\n",
       "\t<li>'Today'</li>\n",
       "\t<li>'Direction'</li>\n",
       "</ol>\n"
      ],
      "text/latex": [
       "\\begin{enumerate*}\n",
       "\\item 'Year'\n",
       "\\item 'Lag1'\n",
       "\\item 'Lag2'\n",
       "\\item 'Lag3'\n",
       "\\item 'Lag4'\n",
       "\\item 'Lag5'\n",
       "\\item 'Volume'\n",
       "\\item 'Today'\n",
       "\\item 'Direction'\n",
       "\\end{enumerate*}\n"
      ],
      "text/markdown": [
       "1. 'Year'\n",
       "2. 'Lag1'\n",
       "3. 'Lag2'\n",
       "4. 'Lag3'\n",
       "5. 'Lag4'\n",
       "6. 'Lag5'\n",
       "7. 'Volume'\n",
       "8. 'Today'\n",
       "9. 'Direction'\n",
       "\n",
       "\n"
      ],
      "text/plain": [
       "[1] \"Year\"      \"Lag1\"      \"Lag2\"      \"Lag3\"      \"Lag4\"      \"Lag5\"     \n",
       "[7] \"Volume\"    \"Today\"     \"Direction\""
      ]
     },
     "metadata": {},
     "output_type": "display_data"
    }
   ],
   "source": [
    "library(ISLR2)\n",
    "\n",
    "\n",
    "# Preview of Columns\n",
    "names(Smarket)"
   ]
  },
  {
   "cell_type": "code",
   "execution_count": 140,
   "metadata": {},
   "outputs": [
    {
     "data": {
      "text/html": [
       "<ol class=list-inline>\n",
       "\t<li>1250</li>\n",
       "\t<li>9</li>\n",
       "</ol>\n"
      ],
      "text/latex": [
       "\\begin{enumerate*}\n",
       "\\item 1250\n",
       "\\item 9\n",
       "\\end{enumerate*}\n"
      ],
      "text/markdown": [
       "1. 1250\n",
       "2. 9\n",
       "\n",
       "\n"
      ],
      "text/plain": [
       "[1] 1250    9"
      ]
     },
     "metadata": {},
     "output_type": "display_data"
    }
   ],
   "source": [
    "# Dimensions of Dataset\n",
    "\n",
    "dim(Smarket)"
   ]
  },
  {
   "cell_type": "code",
   "execution_count": 141,
   "metadata": {},
   "outputs": [
    {
     "data": {
      "text/plain": [
       "      Year           Lag1                Lag2                Lag3          \n",
       " Min.   :2001   Min.   :-4.922000   Min.   :-4.922000   Min.   :-4.922000  \n",
       " 1st Qu.:2002   1st Qu.:-0.639500   1st Qu.:-0.639500   1st Qu.:-0.640000  \n",
       " Median :2003   Median : 0.039000   Median : 0.039000   Median : 0.038500  \n",
       " Mean   :2003   Mean   : 0.003834   Mean   : 0.003919   Mean   : 0.001716  \n",
       " 3rd Qu.:2004   3rd Qu.: 0.596750   3rd Qu.: 0.596750   3rd Qu.: 0.596750  \n",
       " Max.   :2005   Max.   : 5.733000   Max.   : 5.733000   Max.   : 5.733000  \n",
       "      Lag4                Lag5              Volume           Today          \n",
       " Min.   :-4.922000   Min.   :-4.92200   Min.   :0.3561   Min.   :-4.922000  \n",
       " 1st Qu.:-0.640000   1st Qu.:-0.64000   1st Qu.:1.2574   1st Qu.:-0.639500  \n",
       " Median : 0.038500   Median : 0.03850   Median :1.4229   Median : 0.038500  \n",
       " Mean   : 0.001636   Mean   : 0.00561   Mean   :1.4783   Mean   : 0.003138  \n",
       " 3rd Qu.: 0.596750   3rd Qu.: 0.59700   3rd Qu.:1.6417   3rd Qu.: 0.596750  \n",
       " Max.   : 5.733000   Max.   : 5.73300   Max.   :3.1525   Max.   : 5.733000  \n",
       " Direction \n",
       " Down:602  \n",
       " Up  :648  \n",
       "           \n",
       "           \n",
       "           \n",
       "           "
      ]
     },
     "metadata": {},
     "output_type": "display_data"
    }
   ],
   "source": [
    "# Summary of the dataset\n",
    "\n",
    "summary(Smarket)"
   ]
  },
  {
   "cell_type": "code",
   "execution_count": 142,
   "metadata": {},
   "outputs": [
    {
     "data": {
      "text/html": [
       "<table>\n",
       "<thead><tr><th></th><th scope=col>Year</th><th scope=col>Lag1</th><th scope=col>Lag2</th><th scope=col>Lag3</th><th scope=col>Lag4</th><th scope=col>Lag5</th><th scope=col>Volume</th><th scope=col>Today</th></tr></thead>\n",
       "<tbody>\n",
       "\t<tr><th scope=row>Year</th><td>1.00000000  </td><td> 0.029699649</td><td> 0.030596422</td><td> 0.033194581</td><td> 0.035688718</td><td> 0.029787995</td><td> 0.53900647 </td><td> 0.030095229</td></tr>\n",
       "\t<tr><th scope=row>Lag1</th><td>0.02969965  </td><td> 1.000000000</td><td>-0.026294328</td><td>-0.010803402</td><td>-0.002985911</td><td>-0.005674606</td><td> 0.04090991 </td><td>-0.026155045</td></tr>\n",
       "\t<tr><th scope=row>Lag2</th><td>0.03059642  </td><td>-0.026294328</td><td> 1.000000000</td><td>-0.025896670</td><td>-0.010853533</td><td>-0.003557949</td><td>-0.04338321 </td><td>-0.010250033</td></tr>\n",
       "\t<tr><th scope=row>Lag3</th><td>0.03319458  </td><td>-0.010803402</td><td>-0.025896670</td><td> 1.000000000</td><td>-0.024051036</td><td>-0.018808338</td><td>-0.04182369 </td><td>-0.002447647</td></tr>\n",
       "\t<tr><th scope=row>Lag4</th><td>0.03568872  </td><td>-0.002985911</td><td>-0.010853533</td><td>-0.024051036</td><td> 1.000000000</td><td>-0.027083641</td><td>-0.04841425 </td><td>-0.006899527</td></tr>\n",
       "\t<tr><th scope=row>Lag5</th><td>0.02978799  </td><td>-0.005674606</td><td>-0.003557949</td><td>-0.018808338</td><td>-0.027083641</td><td> 1.000000000</td><td>-0.02200231 </td><td>-0.034860083</td></tr>\n",
       "\t<tr><th scope=row>Volume</th><td>0.53900647  </td><td> 0.040909908</td><td>-0.043383215</td><td>-0.041823686</td><td>-0.048414246</td><td>-0.022002315</td><td> 1.00000000 </td><td> 0.014591823</td></tr>\n",
       "\t<tr><th scope=row>Today</th><td>0.03009523  </td><td>-0.026155045</td><td>-0.010250033</td><td>-0.002447647</td><td>-0.006899527</td><td>-0.034860083</td><td> 0.01459182 </td><td> 1.000000000</td></tr>\n",
       "</tbody>\n",
       "</table>\n"
      ],
      "text/latex": [
       "\\begin{tabular}{r|llllllll}\n",
       "  & Year & Lag1 & Lag2 & Lag3 & Lag4 & Lag5 & Volume & Today\\\\\n",
       "\\hline\n",
       "\tYear & 1.00000000   &  0.029699649 &  0.030596422 &  0.033194581 &  0.035688718 &  0.029787995 &  0.53900647  &  0.030095229\\\\\n",
       "\tLag1 & 0.02969965   &  1.000000000 & -0.026294328 & -0.010803402 & -0.002985911 & -0.005674606 &  0.04090991  & -0.026155045\\\\\n",
       "\tLag2 & 0.03059642   & -0.026294328 &  1.000000000 & -0.025896670 & -0.010853533 & -0.003557949 & -0.04338321  & -0.010250033\\\\\n",
       "\tLag3 & 0.03319458   & -0.010803402 & -0.025896670 &  1.000000000 & -0.024051036 & -0.018808338 & -0.04182369  & -0.002447647\\\\\n",
       "\tLag4 & 0.03568872   & -0.002985911 & -0.010853533 & -0.024051036 &  1.000000000 & -0.027083641 & -0.04841425  & -0.006899527\\\\\n",
       "\tLag5 & 0.02978799   & -0.005674606 & -0.003557949 & -0.018808338 & -0.027083641 &  1.000000000 & -0.02200231  & -0.034860083\\\\\n",
       "\tVolume & 0.53900647   &  0.040909908 & -0.043383215 & -0.041823686 & -0.048414246 & -0.022002315 &  1.00000000  &  0.014591823\\\\\n",
       "\tToday & 0.03009523   & -0.026155045 & -0.010250033 & -0.002447647 & -0.006899527 & -0.034860083 &  0.01459182  &  1.000000000\\\\\n",
       "\\end{tabular}\n"
      ],
      "text/markdown": [
       "\n",
       "| <!--/--> | Year | Lag1 | Lag2 | Lag3 | Lag4 | Lag5 | Volume | Today |\n",
       "|---|---|---|---|---|---|---|---|---|\n",
       "| Year | 1.00000000   |  0.029699649 |  0.030596422 |  0.033194581 |  0.035688718 |  0.029787995 |  0.53900647  |  0.030095229 |\n",
       "| Lag1 | 0.02969965   |  1.000000000 | -0.026294328 | -0.010803402 | -0.002985911 | -0.005674606 |  0.04090991  | -0.026155045 |\n",
       "| Lag2 | 0.03059642   | -0.026294328 |  1.000000000 | -0.025896670 | -0.010853533 | -0.003557949 | -0.04338321  | -0.010250033 |\n",
       "| Lag3 | 0.03319458   | -0.010803402 | -0.025896670 |  1.000000000 | -0.024051036 | -0.018808338 | -0.04182369  | -0.002447647 |\n",
       "| Lag4 | 0.03568872   | -0.002985911 | -0.010853533 | -0.024051036 |  1.000000000 | -0.027083641 | -0.04841425  | -0.006899527 |\n",
       "| Lag5 | 0.02978799   | -0.005674606 | -0.003557949 | -0.018808338 | -0.027083641 |  1.000000000 | -0.02200231  | -0.034860083 |\n",
       "| Volume | 0.53900647   |  0.040909908 | -0.043383215 | -0.041823686 | -0.048414246 | -0.022002315 |  1.00000000  |  0.014591823 |\n",
       "| Today | 0.03009523   | -0.026155045 | -0.010250033 | -0.002447647 | -0.006899527 | -0.034860083 |  0.01459182  |  1.000000000 |\n",
       "\n"
      ],
      "text/plain": [
       "       Year       Lag1         Lag2         Lag3         Lag4        \n",
       "Year   1.00000000  0.029699649  0.030596422  0.033194581  0.035688718\n",
       "Lag1   0.02969965  1.000000000 -0.026294328 -0.010803402 -0.002985911\n",
       "Lag2   0.03059642 -0.026294328  1.000000000 -0.025896670 -0.010853533\n",
       "Lag3   0.03319458 -0.010803402 -0.025896670  1.000000000 -0.024051036\n",
       "Lag4   0.03568872 -0.002985911 -0.010853533 -0.024051036  1.000000000\n",
       "Lag5   0.02978799 -0.005674606 -0.003557949 -0.018808338 -0.027083641\n",
       "Volume 0.53900647  0.040909908 -0.043383215 -0.041823686 -0.048414246\n",
       "Today  0.03009523 -0.026155045 -0.010250033 -0.002447647 -0.006899527\n",
       "       Lag5         Volume      Today       \n",
       "Year    0.029787995  0.53900647  0.030095229\n",
       "Lag1   -0.005674606  0.04090991 -0.026155045\n",
       "Lag2   -0.003557949 -0.04338321 -0.010250033\n",
       "Lag3   -0.018808338 -0.04182369 -0.002447647\n",
       "Lag4   -0.027083641 -0.04841425 -0.006899527\n",
       "Lag5    1.000000000 -0.02200231 -0.034860083\n",
       "Volume -0.022002315  1.00000000  0.014591823\n",
       "Today  -0.034860083  0.01459182  1.000000000"
      ]
     },
     "metadata": {},
     "output_type": "display_data"
    }
   ],
   "source": [
    "# Pairwise Correlation on all numeric data\n",
    "\n",
    "cor(Smarket[, -9])"
   ]
  },
  {
   "cell_type": "markdown",
   "metadata": {},
   "source": [
    "Correlations between the lag variables and today’s returns are close to zero. There appears to be little\n",
    "correlation between today’s returns and previous days’ returns. The only substantial correlation is between Year and Volume."
   ]
  },
  {
   "cell_type": "code",
   "execution_count": 143,
   "metadata": {},
   "outputs": [
    {
     "name": "stderr",
     "output_type": "stream",
     "text": [
      "The following objects are masked from Smarket (pos = 9):\n",
      "\n",
      "    Direction, Lag1, Lag2, Lag3, Lag4, Lag5, Today, Volume, Year\n",
      "\n",
      "The following objects are masked from Smarket (pos = 11):\n",
      "\n",
      "    Direction, Lag1, Lag2, Lag3, Lag4, Lag5, Today, Volume, Year\n",
      "\n"
     ]
    },
    {
     "data": {
      "image/png": "[encoded data removed]",
      "text/plain": [
       "plot without title"
      ]
     },
     "metadata": {},
     "output_type": "display_data"
    }
   ],
   "source": [
    "# Visualizing increasing Volume\n",
    "\n",
    "attach(Smarket)\n",
    "plot(Volume)"
   ]
  },
  {
   "cell_type": "code",
   "execution_count": 144,
   "metadata": {},
   "outputs": [
    {
     "data": {
      "text/html": [
       "<table>\n",
       "<thead><tr><th></th><th scope=col>Up</th></tr></thead>\n",
       "<tbody>\n",
       "\t<tr><th scope=row>Down</th><td>0</td></tr>\n",
       "\t<tr><th scope=row>Up</th><td>1</td></tr>\n",
       "</tbody>\n",
       "</table>\n"
      ],
      "text/latex": [
       "\\begin{tabular}{r|l}\n",
       "  & Up\\\\\n",
       "\\hline\n",
       "\tDown & 0\\\\\n",
       "\tUp & 1\\\\\n",
       "\\end{tabular}\n"
      ],
      "text/markdown": [
       "\n",
       "| <!--/--> | Up |\n",
       "|---|---|\n",
       "| Down | 0 |\n",
       "| Up | 1 |\n",
       "\n"
      ],
      "text/plain": [
       "     Up\n",
       "Down 0 \n",
       "Up   1 "
      ]
     },
     "metadata": {},
     "output_type": "display_data"
    }
   ],
   "source": [
    "# Verify the Implicitly coded directions\n",
    "contrasts(Smarket$Direction)"
   ]
  },
  {
   "cell_type": "markdown",
   "metadata": {},
   "source": [
    "## Logistic Regression\n",
    "\n",
    "\n",
    "In general, we can perform a regression by modeling the response Y as coming from a particular member of the exponential family (Gaussian, Poisson, Bernoulli), and then transforming the mean of the response so that the transformed mean is a linear function of the predictors. Any regression approach that follows this very general recipe is known as a generalized linear model (GLM). Thus, linear regression, logistic generalized regression, and Poisson regression are three examples of GLMs. Other examples include Gamma regression and negative binomial regression."
   ]
  },
  {
   "cell_type": "code",
   "execution_count": 145,
   "metadata": {},
   "outputs": [
    {
     "data": {
      "text/plain": [
       "\n",
       "Call:\n",
       "glm(formula = Direction ~ Lag1 + Lag2 + Lag3 + Lag4 + Lag5 + \n",
       "    Volume, family = binomial, data = Smarket)\n",
       "\n",
       "Deviance Residuals: \n",
       "   Min      1Q  Median      3Q     Max  \n",
       "-1.446  -1.203   1.065   1.145   1.326  \n",
       "\n",
       "Coefficients:\n",
       "             Estimate Std. Error z value Pr(>|z|)\n",
       "(Intercept) -0.126000   0.240736  -0.523    0.601\n",
       "Lag1        -0.073074   0.050167  -1.457    0.145\n",
       "Lag2        -0.042301   0.050086  -0.845    0.398\n",
       "Lag3         0.011085   0.049939   0.222    0.824\n",
       "Lag4         0.009359   0.049974   0.187    0.851\n",
       "Lag5         0.010313   0.049511   0.208    0.835\n",
       "Volume       0.135441   0.158360   0.855    0.392\n",
       "\n",
       "(Dispersion parameter for binomial family taken to be 1)\n",
       "\n",
       "    Null deviance: 1731.2  on 1249  degrees of freedom\n",
       "Residual deviance: 1727.6  on 1243  degrees of freedom\n",
       "AIC: 1741.6\n",
       "\n",
       "Number of Fisher Scoring iterations: 3\n"
      ]
     },
     "metadata": {},
     "output_type": "display_data"
    }
   ],
   "source": [
    "# Running a logistic regression using the generalized linear model (glm)\n",
    "\n",
    "glm_fit <- glm(\n",
    "    Direction ~ Lag1 + Lag2 + Lag3 + Lag4 + Lag5 + Volume, \n",
    "    data = Smarket,\n",
    "    family = binomial\n",
    ")\n",
    "\n",
    "summary(glm_fit)"
   ]
  },
  {
   "cell_type": "markdown",
   "metadata": {},
   "source": [
    "The smallest p-value here is associated with Lag1. The negative coefficient for this predictor suggests that if the market had a positive return yesterday, then it is less likely to go up today. However, at a value of 0.15, the p-value is still relatively large, and so there is no clear evidence of a real association between Lag1 and Direction."
   ]
  },
  {
   "cell_type": "markdown",
   "metadata": {},
   "source": [
    "### Prediction with Logistic Regression Model\n",
    "\n",
    "The predict() function can be used to predict the probability that the market will go up, given values of the predictors. The type = \"response\" option tells R to output probabilities of the form P(Y = 1|X), as opposed to other information such as the logit. If no dataset is supplied, predict() function, then the probabilities are computed for the training data that was used to fit the logistic regression model."
   ]
  },
  {
   "cell_type": "code",
   "execution_count": 146,
   "metadata": {},
   "outputs": [
    {
     "data": {
      "text/html": [
       "<dl class=dl-horizontal>\n",
       "\t<dt>1</dt>\n",
       "\t\t<dd>0.507084133395402</dd>\n",
       "\t<dt>2</dt>\n",
       "\t\t<dd>0.481467878454591</dd>\n",
       "\t<dt>3</dt>\n",
       "\t\t<dd>0.481138835214201</dd>\n",
       "\t<dt>4</dt>\n",
       "\t\t<dd>0.515222355813022</dd>\n",
       "\t<dt>5</dt>\n",
       "\t\t<dd>0.510781162691538</dd>\n",
       "\t<dt>6</dt>\n",
       "\t\t<dd>0.506956460534911</dd>\n",
       "\t<dt>7</dt>\n",
       "\t\t<dd>0.492650874187038</dd>\n",
       "\t<dt>8</dt>\n",
       "\t\t<dd>0.509229158207377</dd>\n",
       "\t<dt>9</dt>\n",
       "\t\t<dd>0.517613526170958</dd>\n",
       "\t<dt>10</dt>\n",
       "\t\t<dd>0.488837779771376</dd>\n",
       "</dl>\n"
      ],
      "text/latex": [
       "\\begin{description*}\n",
       "\\item[1] 0.507084133395402\n",
       "\\item[2] 0.481467878454591\n",
       "\\item[3] 0.481138835214201\n",
       "\\item[4] 0.515222355813022\n",
       "\\item[5] 0.510781162691538\n",
       "\\item[6] 0.506956460534911\n",
       "\\item[7] 0.492650874187038\n",
       "\\item[8] 0.509229158207377\n",
       "\\item[9] 0.517613526170958\n",
       "\\item[10] 0.488837779771376\n",
       "\\end{description*}\n"
      ],
      "text/markdown": [
       "1\n",
       ":   0.5070841333954022\n",
       ":   0.4814678784545913\n",
       ":   0.4811388352142014\n",
       ":   0.5152223558130225\n",
       ":   0.5107811626915386\n",
       ":   0.5069564605349117\n",
       ":   0.4926508741870388\n",
       ":   0.5092291582073779\n",
       ":   0.51761352617095810\n",
       ":   0.488837779771376\n",
       "\n"
      ],
      "text/plain": [
       "        1         2         3         4         5         6         7         8 \n",
       "0.5070841 0.4814679 0.4811388 0.5152224 0.5107812 0.5069565 0.4926509 0.5092292 \n",
       "        9        10 \n",
       "0.5176135 0.4888378 "
      ]
     },
     "metadata": {},
     "output_type": "display_data"
    }
   ],
   "source": [
    "# Prediction with Logistic Regression Model\n",
    "\n",
    "glm_probs <- predict(glm_fit, type = \"response\")\n",
    "\n",
    "glm_probs[1:10]"
   ]
  },
  {
   "cell_type": "markdown",
   "metadata": {},
   "source": [
    "To make a prediction as to whether the market will go up or down on a particular day, we must convert these predicted probabilities into class labels, Up or Down. The following two commands create a vector of class predictions based on whether the predicted probability of a market increase is greater than or less than 0.5."
   ]
  },
  {
   "cell_type": "code",
   "execution_count": 147,
   "metadata": {},
   "outputs": [
    {
     "data": {
      "text/plain": [
       "        Direction\n",
       "glm_pred Down  Up\n",
       "    Down  145 141\n",
       "    Up    457 507"
      ]
     },
     "metadata": {},
     "output_type": "display_data"
    }
   ],
   "source": [
    "# Create a Default Vector of Down with length = number\n",
    "# of rows in the Smarket Dataset\n",
    "glm_pred <- rep(\"Down\", nrow(Smarket))\n",
    "\n",
    "# For Probabilites > 0.5, pred = \"Up\"\n",
    "glm_pred[glm_probs > 0.5] = \"Up\"\n",
    "\n",
    "# Create a confusion matrix from the above\n",
    "table(glm_pred, Direction)"
   ]
  },
  {
   "cell_type": "markdown",
   "metadata": {},
   "source": [
    "The diagonal elements of the confusion matrix indicate correct predictions, while the off-diagonals represent incorrect predictions. Hence our model correctly predicted that the market would go up on 507 days and that it would go down on 145 days, for a total of 507 + 145 = 652 correct predictions. The mean() function can be used to compute the fraction of days for which the prediction was correct. In this case, logistic regression correctly predicted the movement of the market 52.2% of the time."
   ]
  },
  {
   "cell_type": "code",
   "execution_count": 148,
   "metadata": {},
   "outputs": [
    {
     "data": {
      "text/html": [
       "0.5216"
      ],
      "text/latex": [
       "0.5216"
      ],
      "text/markdown": [
       "0.5216"
      ],
      "text/plain": [
       "[1] 0.5216"
      ]
     },
     "metadata": {},
     "output_type": "display_data"
    }
   ],
   "source": [
    "mean(glm_pred == Direction)"
   ]
  },
  {
   "cell_type": "markdown",
   "metadata": {},
   "source": [
    "At first glance, it appears that the logistic regression model is working a little better than random guessing. However, this result is misleading because we trained and tested the model on the same set of 1, 250 observations. In other words, *100% − 52.2% = 47.8%*, is the training error rate. The training error rate is often overly optimistic—it tends to underestimate the test error rate. In order to better assess the accuracy of the logistic regression model in this setting, we can fit the model using part of the data, and then examine how well it predicts the **held out** data.\n",
    "\n",
    "To implement this strategy, we will first create a vector corresponding to the observations from 2001 through 2004. We will then use this vector to create a held out data set of observations from 2005."
   ]
  },
  {
   "cell_type": "code",
   "execution_count": 149,
   "metadata": {},
   "outputs": [],
   "source": [
    "# Creat a boolean filter using the Year Colum\n",
    "train_index <- (Year < 2005)\n",
    "\n",
    "# Select the Test Predictors \n",
    "smarket_test <- Smarket[!train_index,]\n",
    "\n",
    "# Select the test Response\n",
    "direction_test <- Direction[!train_index]"
   ]
  },
  {
   "cell_type": "code",
   "execution_count": 150,
   "metadata": {},
   "outputs": [],
   "source": [
    "# Perform a logistic regression on the training subset\n",
    "glm_fit2 <- glm(\n",
    "    Direction ~ Lag1 + Lag2 + Lag3 + Lag4 + Lag5 + Volume, \n",
    "    data = Smarket,\n",
    "    family = binomial,\n",
    "    subset = train_index\n",
    ")\n",
    "\n",
    "glm_probs2 <- predict(glm_fit2, smarket_test, type = \"response\")"
   ]
  },
  {
   "cell_type": "markdown",
   "metadata": {},
   "source": [
    "Notice that we have trained and tested our model on two completely separate data sets: training was performed using only the dates before 2005, and testing was performed using only the dates in 2005. Finally, we compute the predictions for 2005 and compare them to the actual movements of the market over that time period."
   ]
  },
  {
   "cell_type": "code",
   "execution_count": 151,
   "metadata": {},
   "outputs": [
    {
     "data": {
      "text/plain": [
       "         direction_test\n",
       "glm_pred2 Down Up\n",
       "     Down   77 97\n",
       "     Up     34 44"
      ]
     },
     "metadata": {},
     "output_type": "display_data"
    }
   ],
   "source": [
    "# Default Resonse\n",
    "glm_pred2 <- rep(\"Down\", nrow(smarket_test))\n",
    "\n",
    "# Now, if the predicted probability is greater than 0.5, Response = \"Up\"\n",
    "glm_pred2[(glm_probs2 > 0.5)] = \"Up\"\n",
    "\n",
    "# Output the Confusion Matrix\n",
    "table(glm_pred2, direction_test)"
   ]
  },
  {
   "cell_type": "code",
   "execution_count": 152,
   "metadata": {},
   "outputs": [
    {
     "data": {
      "text/html": [
       "0.51984126984127"
      ],
      "text/latex": [
       "0.51984126984127"
      ],
      "text/markdown": [
       "0.51984126984127"
      ],
      "text/plain": [
       "[1] 0.5198413"
      ]
     },
     "metadata": {},
     "output_type": "display_data"
    }
   ],
   "source": [
    "# Find the Test error tate\n",
    "mean(glm_pred2 != direction_test)"
   ]
  },
  {
   "cell_type": "markdown",
   "metadata": {},
   "source": [
    "The results are rather disappointing: the test error rate is 52 %, which is worse than random guessing! Of course this result\n",
    "is not all that surprising, given that one would not generally expect to be able to use previous days’ returns to predict future market performance."
   ]
  },
  {
   "cell_type": "markdown",
   "metadata": {},
   "source": [
    "> We recall that the logistic regression model had very underwhelming pvalues associated with all of the predictors, and that the smallest p-value, though not very small, corresponded to Lag1. Perhaps by removing the variables that appear not to be helpful in predicting Direction, we can obtain a more effective model. After all, using predictors that have no relationship with the response tends to cause a deterioration in the test error rate (since such predictors cause an increase in variance without a corresponding decrease in bias), and so removing such predictors may in turn yield an improvement."
   ]
  },
  {
   "cell_type": "code",
   "execution_count": 153,
   "metadata": {},
   "outputs": [
    {
     "data": {
      "text/plain": [
       "         direction_test\n",
       "glm_pred3 Down  Up\n",
       "     Down   35  35\n",
       "     Up     76 106"
      ]
     },
     "metadata": {},
     "output_type": "display_data"
    },
    {
     "data": {
      "text/html": [
       "0.44047619047619"
      ],
      "text/latex": [
       "0.44047619047619"
      ],
      "text/markdown": [
       "0.44047619047619"
      ],
      "text/plain": [
       "[1] 0.4404762"
      ]
     },
     "metadata": {},
     "output_type": "display_data"
    }
   ],
   "source": [
    "# Perform a logistic regression on the training subset\n",
    "glm_fit3 <- glm(\n",
    "    Direction ~ Lag1 + Lag2, \n",
    "    data = Smarket,\n",
    "    family = binomial,\n",
    "    subset = train_index\n",
    ")\n",
    "\n",
    "glm_probs3 <- predict(glm_fit3, smarket_test, type = \"response\")\n",
    "\n",
    "# Default Resonse\n",
    "glm_pred3 <- rep(\"Down\", nrow(smarket_test))\n",
    "\n",
    "# Now, if the predicted probability is greater than 0.5, Response = \"Up\"\n",
    "glm_pred3[(glm_probs3 > 0.5)] = \"Up\"\n",
    "\n",
    "# Output the Confusion Matrix\n",
    "table(glm_pred3, direction_test)\n",
    "\n",
    "# Find the Test error tate\n",
    "mean(glm_pred3 != direction_test)"
   ]
  },
  {
   "cell_type": "markdown",
   "metadata": {},
   "source": [
    "Now the results appear to be a little better: 56% of the daily movements have been correctly predicted. It is worth noting that in this case, a much simpler strategy of predicting that the market will increase every day will also be correct 56% of the time ( 106 / (106 + 76) )! Hence, in terms of overall error rate, the logistic regression method is no better than the naive approach. However, the confusion matrix shows that on days when logistic regression predicts an increase in the market, it has a 58% accuracy rate ((76 + 106)/(76+106+35+35)). This suggests a possible trading strategy of buying on days when the model predicts an increasing market, and avoiding trades on days when a decrease is predicted must be investigated.\n"
   ]
  },
  {
   "cell_type": "code",
   "execution_count": 154,
   "metadata": {},
   "outputs": [
    {
     "data": {
      "text/html": [
       "<dl class=dl-horizontal>\n",
       "\t<dt>1</dt>\n",
       "\t\t<dd>0.479146239171912</dd>\n",
       "\t<dt>2</dt>\n",
       "\t\t<dd>0.496093872956532</dd>\n",
       "</dl>\n"
      ],
      "text/latex": [
       "\\begin{description*}\n",
       "\\item[1] 0.479146239171912\n",
       "\\item[2] 0.496093872956532\n",
       "\\end{description*}\n"
      ],
      "text/markdown": [
       "1\n",
       ":   0.4791462391719122\n",
       ":   0.496093872956532\n",
       "\n"
      ],
      "text/plain": [
       "        1         2 \n",
       "0.4791462 0.4960939 "
      ]
     },
     "metadata": {},
     "output_type": "display_data"
    }
   ],
   "source": [
    "# Prediction with new Data\n",
    "\n",
    "predict(glm_fit3, \n",
    "newdata = data.frame(Lag1 = c(1.2, 1.5), Lag2 = c(1.1, -0.8)),\n",
    "type = \"response\"\n",
    "    )"
   ]
  },
  {
   "cell_type": "markdown",
   "metadata": {},
   "source": [
    "## Linear Discriminant Analysis\n",
    "\n",
    "We fit an LDA model using the function, which is part of the *MASS* library. Notice that the syntax for the lda() function is identical to that of lm(), and to that of glm() except for the absence of the **family** option."
   ]
  },
  {
   "cell_type": "code",
   "execution_count": 155,
   "metadata": {},
   "outputs": [
    {
     "data": {
      "text/plain": [
       "Call:\n",
       "lda(Direction ~ Lag1 + Lag2, data = Smarket, subset = train_index)\n",
       "\n",
       "Prior probabilities of groups:\n",
       "    Down       Up \n",
       "0.491984 0.508016 \n",
       "\n",
       "Group means:\n",
       "            Lag1        Lag2\n",
       "Down  0.04279022  0.03389409\n",
       "Up   -0.03954635 -0.03132544\n",
       "\n",
       "Coefficients of linear discriminants:\n",
       "            LD1\n",
       "Lag1 -0.6420190\n",
       "Lag2 -0.5135293"
      ]
     },
     "metadata": {},
     "output_type": "display_data"
    }
   ],
   "source": [
    "library(MASS)\n",
    "\n",
    "lda_fit <- lda(Direction ~ Lag1 + Lag2, data = Smarket, subset = train_index)\n",
    "\n",
    "lda_fit"
   ]
  },
  {
   "cell_type": "markdown",
   "metadata": {},
   "source": [
    "The LDA output indicates that ˆπ1 = 0.492 and ˆπ2 = 0.508; in other words, 49.2% of the training observations correspond to days during which the market went down. It also provides the group means; these are the average of each predictor within each class, and are used by LDA as estimates of μk. These suggest that there is a tendency for the previous 2 days’ returns to be negative on days when the market increases, and a tendency for the previous days’ returns to be positive on days when the market declines. The\n",
    "coefficients of linear discriminants output provides the linear combination of Lag1 and Lag2 that are used to form the LDA decision rule. In other words, these are the multipliers of the elements of X = x in (4.24). If −0.642 × Lag1 − 0.514 × Lag2 is large, then the LDA classifier will predict a market increase, and if it is small, then the LDA classifier will predict a\n",
    "market decline."
   ]
  },
  {
   "cell_type": "code",
   "execution_count": 156,
   "metadata": {},
   "outputs": [
    {
     "data": {
      "image/png": "[encoded data removed]",
      "text/plain": [
       "plot without title"
      ]
     },
     "metadata": {},
     "output_type": "display_data"
    }
   ],
   "source": [
    "# Plot the lda_fit\n",
    "\n",
    "plot(lda_fit)"
   ]
  },
  {
   "cell_type": "markdown",
   "metadata": {},
   "source": [
    "The plot() function produces plots of the linear discriminants, obtained by computing −0.642×Lag1−0.514×Lag2 for each of the training observations. The Up and Down observations are displayed separately."
   ]
  },
  {
   "cell_type": "code",
   "execution_count": 157,
   "metadata": {},
   "outputs": [
    {
     "data": {
      "text/html": [
       "<ol class=list-inline>\n",
       "\t<li>'class'</li>\n",
       "\t<li>'posterior'</li>\n",
       "\t<li>'x'</li>\n",
       "</ol>\n"
      ],
      "text/latex": [
       "\\begin{enumerate*}\n",
       "\\item 'class'\n",
       "\\item 'posterior'\n",
       "\\item 'x'\n",
       "\\end{enumerate*}\n"
      ],
      "text/markdown": [
       "1. 'class'\n",
       "2. 'posterior'\n",
       "3. 'x'\n",
       "\n",
       "\n"
      ],
      "text/plain": [
       "[1] \"class\"     \"posterior\" \"x\"        "
      ]
     },
     "metadata": {},
     "output_type": "display_data"
    }
   ],
   "source": [
    "# Perform Prediction using the test data\n",
    "\n",
    "lda_pred <- predict(lda_fit, smarket_test)\n",
    "\n",
    "# Field names\n",
    "names(lda_pred)"
   ]
  },
  {
   "cell_type": "markdown",
   "metadata": {},
   "source": [
    "The predict() function returns a list with three elements. The first element, class, contains LDA’s predictions about the movement of the market. The second element, posterior, is a matrix whose kth column contains the posterior probability that the corresponding observation belongs to the kth class."
   ]
  },
  {
   "cell_type": "code",
   "execution_count": 158,
   "metadata": {},
   "outputs": [
    {
     "data": {
      "text/plain": [
       "         direction_test\n",
       "lda_class Down  Up\n",
       "     Down   35  35\n",
       "     Up     76 106"
      ]
     },
     "metadata": {},
     "output_type": "display_data"
    },
    {
     "data": {
      "text/html": [
       "0.55952380952381"
      ],
      "text/latex": [
       "0.55952380952381"
      ],
      "text/markdown": [
       "0.55952380952381"
      ],
      "text/plain": [
       "[1] 0.5595238"
      ]
     },
     "metadata": {},
     "output_type": "display_data"
    }
   ],
   "source": [
    "# Get the predicted classes from lda\n",
    "lda_class <- lda_pred$class \n",
    "\n",
    "# Building a confusion matrix\n",
    "table(lda_class, direction_test)\n",
    "\n",
    "# Get the means\n",
    "mean(lda_class == direction_test)"
   ]
  },
  {
   "cell_type": "code",
   "execution_count": 159,
   "metadata": {},
   "outputs": [
    {
     "data": {
      "text/html": [
       "70"
      ],
      "text/latex": [
       "70"
      ],
      "text/markdown": [
       "70"
      ],
      "text/plain": [
       "[1] 70"
      ]
     },
     "metadata": {},
     "output_type": "display_data"
    },
    {
     "data": {
      "text/html": [
       "182"
      ],
      "text/latex": [
       "182"
      ],
      "text/markdown": [
       "182"
      ],
      "text/plain": [
       "[1] 182"
      ]
     },
     "metadata": {},
     "output_type": "display_data"
    }
   ],
   "source": [
    "# Applying the same Posterior Probability cut-off\n",
    "sum(lda_pred$posterior[, 1] >= 0.5)\n",
    "\n",
    "sum(lda_pred$posterior[, 1] < 0.5)"
   ]
  },
  {
   "cell_type": "markdown",
   "metadata": {},
   "source": [
    "If we wanted to use a posterior probability threshold other than 50% in order to make predictions, then we could easily do so. For instance, suppose that we wish to predict a market decrease only if we are very certain that the market will indeed decrease on that day—say, if the posterior probability is at least 90 %."
   ]
  },
  {
   "cell_type": "code",
   "execution_count": 160,
   "metadata": {},
   "outputs": [
    {
     "data": {
      "text/html": [
       "0"
      ],
      "text/latex": [
       "0"
      ],
      "text/markdown": [
       "0"
      ],
      "text/plain": [
       "[1] 0"
      ]
     },
     "metadata": {},
     "output_type": "display_data"
    }
   ],
   "source": [
    "sum(lda_pred$posterior[, 1] > 0.9)"
   ]
  },
  {
   "cell_type": "markdown",
   "metadata": {},
   "source": [
    "> Notice that the posterior probability output by the model corresponds to the probability that the market will *decrease*:"
   ]
  },
  {
   "cell_type": "code",
   "execution_count": 161,
   "metadata": {},
   "outputs": [
    {
     "data": {
      "text/html": [
       "<table>\n",
       "<thead><tr><th></th><th scope=col>lda_pred.posterior.1.20..1.</th><th scope=col>lda_class.1.20.</th></tr></thead>\n",
       "<tbody>\n",
       "\t<tr><th scope=row>999</th><td>0.4901792</td><td>Up       </td></tr>\n",
       "\t<tr><th scope=row>1000</th><td>0.4792185</td><td>Up       </td></tr>\n",
       "\t<tr><th scope=row>1001</th><td>0.4668185</td><td>Up       </td></tr>\n",
       "\t<tr><th scope=row>1002</th><td>0.4740011</td><td>Up       </td></tr>\n",
       "\t<tr><th scope=row>1003</th><td>0.4927877</td><td>Up       </td></tr>\n",
       "\t<tr><th scope=row>1004</th><td>0.4938562</td><td>Up       </td></tr>\n",
       "\t<tr><th scope=row>1005</th><td>0.4951016</td><td>Up       </td></tr>\n",
       "\t<tr><th scope=row>1006</th><td>0.4872861</td><td>Up       </td></tr>\n",
       "\t<tr><th scope=row>1007</th><td>0.4907013</td><td>Up       </td></tr>\n",
       "\t<tr><th scope=row>1008</th><td>0.4844026</td><td>Up       </td></tr>\n",
       "\t<tr><th scope=row>1009</th><td>0.4906963</td><td>Up       </td></tr>\n",
       "\t<tr><th scope=row>1010</th><td>0.5119988</td><td>Down     </td></tr>\n",
       "\t<tr><th scope=row>1011</th><td>0.4895152</td><td>Up       </td></tr>\n",
       "\t<tr><th scope=row>1012</th><td>0.4706761</td><td>Up       </td></tr>\n",
       "\t<tr><th scope=row>1013</th><td>0.4744593</td><td>Up       </td></tr>\n",
       "\t<tr><th scope=row>1014</th><td>0.4799583</td><td>Up       </td></tr>\n",
       "\t<tr><th scope=row>1015</th><td>0.4935775</td><td>Up       </td></tr>\n",
       "\t<tr><th scope=row>1016</th><td>0.5030894</td><td>Down     </td></tr>\n",
       "\t<tr><th scope=row>1017</th><td>0.4978806</td><td>Up       </td></tr>\n",
       "\t<tr><th scope=row>1018</th><td>0.4886331</td><td>Up       </td></tr>\n",
       "</tbody>\n",
       "</table>\n"
      ],
      "text/latex": [
       "\\begin{tabular}{r|ll}\n",
       "  & lda\\_pred.posterior.1.20..1. & lda\\_class.1.20.\\\\\n",
       "\\hline\n",
       "\t999 & 0.4901792 & Up       \\\\\n",
       "\t1000 & 0.4792185 & Up       \\\\\n",
       "\t1001 & 0.4668185 & Up       \\\\\n",
       "\t1002 & 0.4740011 & Up       \\\\\n",
       "\t1003 & 0.4927877 & Up       \\\\\n",
       "\t1004 & 0.4938562 & Up       \\\\\n",
       "\t1005 & 0.4951016 & Up       \\\\\n",
       "\t1006 & 0.4872861 & Up       \\\\\n",
       "\t1007 & 0.4907013 & Up       \\\\\n",
       "\t1008 & 0.4844026 & Up       \\\\\n",
       "\t1009 & 0.4906963 & Up       \\\\\n",
       "\t1010 & 0.5119988 & Down     \\\\\n",
       "\t1011 & 0.4895152 & Up       \\\\\n",
       "\t1012 & 0.4706761 & Up       \\\\\n",
       "\t1013 & 0.4744593 & Up       \\\\\n",
       "\t1014 & 0.4799583 & Up       \\\\\n",
       "\t1015 & 0.4935775 & Up       \\\\\n",
       "\t1016 & 0.5030894 & Down     \\\\\n",
       "\t1017 & 0.4978806 & Up       \\\\\n",
       "\t1018 & 0.4886331 & Up       \\\\\n",
       "\\end{tabular}\n"
      ],
      "text/markdown": [
       "\n",
       "| <!--/--> | lda_pred.posterior.1.20..1. | lda_class.1.20. |\n",
       "|---|---|---|\n",
       "| 999 | 0.4901792 | Up        |\n",
       "| 1000 | 0.4792185 | Up        |\n",
       "| 1001 | 0.4668185 | Up        |\n",
       "| 1002 | 0.4740011 | Up        |\n",
       "| 1003 | 0.4927877 | Up        |\n",
       "| 1004 | 0.4938562 | Up        |\n",
       "| 1005 | 0.4951016 | Up        |\n",
       "| 1006 | 0.4872861 | Up        |\n",
       "| 1007 | 0.4907013 | Up        |\n",
       "| 1008 | 0.4844026 | Up        |\n",
       "| 1009 | 0.4906963 | Up        |\n",
       "| 1010 | 0.5119988 | Down      |\n",
       "| 1011 | 0.4895152 | Up        |\n",
       "| 1012 | 0.4706761 | Up        |\n",
       "| 1013 | 0.4744593 | Up        |\n",
       "| 1014 | 0.4799583 | Up        |\n",
       "| 1015 | 0.4935775 | Up        |\n",
       "| 1016 | 0.5030894 | Down      |\n",
       "| 1017 | 0.4978806 | Up        |\n",
       "| 1018 | 0.4886331 | Up        |\n",
       "\n"
      ],
      "text/plain": [
       "     lda_pred.posterior.1.20..1. lda_class.1.20.\n",
       "999  0.4901792                   Up             \n",
       "1000 0.4792185                   Up             \n",
       "1001 0.4668185                   Up             \n",
       "1002 0.4740011                   Up             \n",
       "1003 0.4927877                   Up             \n",
       "1004 0.4938562                   Up             \n",
       "1005 0.4951016                   Up             \n",
       "1006 0.4872861                   Up             \n",
       "1007 0.4907013                   Up             \n",
       "1008 0.4844026                   Up             \n",
       "1009 0.4906963                   Up             \n",
       "1010 0.5119988                   Down           \n",
       "1011 0.4895152                   Up             \n",
       "1012 0.4706761                   Up             \n",
       "1013 0.4744593                   Up             \n",
       "1014 0.4799583                   Up             \n",
       "1015 0.4935775                   Up             \n",
       "1016 0.5030894                   Down           \n",
       "1017 0.4978806                   Up             \n",
       "1018 0.4886331                   Up             "
      ]
     },
     "metadata": {},
     "output_type": "display_data"
    }
   ],
   "source": [
    "data.frame(lda_pred$posterior[1:20, 1], lda_class[1:20])\n",
    "\n"
   ]
  },
  {
   "cell_type": "markdown",
   "metadata": {},
   "source": [
    "## Quadratic Discriminant Analysis"
   ]
  },
  {
   "cell_type": "code",
   "execution_count": 162,
   "metadata": {},
   "outputs": [
    {
     "data": {
      "text/plain": [
       "Call:\n",
       "qda(Direction ~ Lag1 + Lag2, data = Smarket, subset = train_index)\n",
       "\n",
       "Prior probabilities of groups:\n",
       "    Down       Up \n",
       "0.491984 0.508016 \n",
       "\n",
       "Group means:\n",
       "            Lag1        Lag2\n",
       "Down  0.04279022  0.03389409\n",
       "Up   -0.03954635 -0.03132544"
      ]
     },
     "metadata": {},
     "output_type": "display_data"
    }
   ],
   "source": [
    "# Fit the QDA model using the qda function from the MASS library\n",
    "qda_fit <- qda(Direction ~ Lag1 + Lag2, data = Smarket, subset = train_index)\n",
    "\n",
    "qda_fit"
   ]
  },
  {
   "cell_type": "markdown",
   "metadata": {},
   "source": [
    "The output contains the group means. But it does not contain the coefficients of the linear discriminants, because the QDA classifier involves a quadratic, rather than a linear, function of the predictors. The predict() function works in exactly the same fashion as for LDA."
   ]
  },
  {
   "cell_type": "code",
   "execution_count": 163,
   "metadata": {},
   "outputs": [
    {
     "data": {
      "text/plain": [
       "         direction_test\n",
       "qda_class Down  Up\n",
       "     Down   30  20\n",
       "     Up     81 121"
      ]
     },
     "metadata": {},
     "output_type": "display_data"
    },
    {
     "data": {
      "text/html": [
       "0.599206349206349"
      ],
      "text/latex": [
       "0.599206349206349"
      ],
      "text/markdown": [
       "0.599206349206349"
      ],
      "text/plain": [
       "[1] 0.5992063"
      ]
     },
     "metadata": {},
     "output_type": "display_data"
    }
   ],
   "source": [
    "# Perform predictions\n",
    "qda_class <- predict(qda_fit, smarket_test)$class\n",
    "\n",
    "# Get the Confusion Matrix\n",
    "table(qda_class, direction_test)\n",
    "\n",
    "mean(qda_class == direction_test)"
   ]
  },
  {
   "cell_type": "markdown",
   "metadata": {},
   "source": [
    "Interestingly, the QDA predictions are accurate almost 60% of the time, even though the 2005 data was not used to fit the model. This level of accuracy is quite impressive for stock market data, which is known to be quite hard to model accurately. This suggests that the quadratic form assumed by QDA may capture the true relationship more accurately than the linear forms assumed by LDA and logistic regression. However, we recommend evaluating this method’s performance on a larger test set before betting\n",
    "that this approach will consistently beat the market!"
   ]
  },
  {
   "cell_type": "markdown",
   "metadata": {},
   "source": [
    "## Naive Bayes\n",
    "\n",
    "Naive Bayes is implemented in R using the naiveBayes() function, which is part of the e1071 library. The syntax is identical to that of lda() and qda(). By default, this implementation of the naive Bayes classifier models each quantitative feature using a Gaussian distribution. However, a kernel density method can also be used to estimate the distributions."
   ]
  },
  {
   "cell_type": "code",
   "execution_count": 164,
   "metadata": {},
   "outputs": [
    {
     "data": {
      "text/plain": [
       "\n",
       "Naive Bayes Classifier for Discrete Predictors\n",
       "\n",
       "Call:\n",
       "naiveBayes.default(x = X, y = Y, laplace = laplace)\n",
       "\n",
       "A-priori probabilities:\n",
       "Y\n",
       "    Down       Up \n",
       "0.491984 0.508016 \n",
       "\n",
       "Conditional probabilities:\n",
       "      Lag1\n",
       "Y             [,1]     [,2]\n",
       "  Down  0.04279022 1.227446\n",
       "  Up   -0.03954635 1.231668\n",
       "\n",
       "      Lag2\n",
       "Y             [,1]     [,2]\n",
       "  Down  0.03389409 1.239191\n",
       "  Up   -0.03132544 1.220765\n"
      ]
     },
     "metadata": {},
     "output_type": "display_data"
    }
   ],
   "source": [
    "library(e1071)\n",
    "\n",
    "nb_fit <- naiveBayes(Direction ~ Lag1 + Lag2, data = Smarket,\n",
    "subset = train_index)\n",
    "\n",
    "nb_fit\n"
   ]
  },
  {
   "cell_type": "code",
   "execution_count": 165,
   "metadata": {},
   "outputs": [
    {
     "data": {
      "text/plain": [
       "        direction_test\n",
       "nb_class Down  Up\n",
       "    Down   28  20\n",
       "    Up     83 121"
      ]
     },
     "metadata": {},
     "output_type": "display_data"
    },
    {
     "data": {
      "text/html": [
       "0.591269841269841"
      ],
      "text/latex": [
       "0.591269841269841"
      ],
      "text/markdown": [
       "0.591269841269841"
      ],
      "text/plain": [
       "[1] 0.5912698"
      ]
     },
     "metadata": {},
     "output_type": "display_data"
    }
   ],
   "source": [
    "# Prediction with Naive Bayes\n",
    "nb_class <- predict(nb_fit, smarket_test)\n",
    "\n",
    "# Confusion Matrix\n",
    "table(nb_class, direction_test)\n",
    "\n",
    "# Accuracy\n",
    "mean(nb_class == direction_test)"
   ]
  },
  {
   "cell_type": "markdown",
   "metadata": {},
   "source": [
    "> Naive Bayes performs very well on this data, with accurate predictions over 59% of the time. This is slightly worse than QDA, but much better than LDA."
   ]
  },
  {
   "cell_type": "code",
   "execution_count": 166,
   "metadata": {},
   "outputs": [
    {
     "data": {
      "text/html": [
       "<table>\n",
       "<thead><tr><th scope=col>Down</th><th scope=col>Up</th></tr></thead>\n",
       "<tbody>\n",
       "\t<tr><td>0.4873164</td><td>0.5126836</td></tr>\n",
       "\t<tr><td>0.4762492</td><td>0.5237508</td></tr>\n",
       "\t<tr><td>0.4653377</td><td>0.5346623</td></tr>\n",
       "\t<tr><td>0.4748652</td><td>0.5251348</td></tr>\n",
       "\t<tr><td>0.4901890</td><td>0.5098110</td></tr>\n",
       "</tbody>\n",
       "</table>\n"
      ],
      "text/latex": [
       "\\begin{tabular}{ll}\n",
       " Down & Up\\\\\n",
       "\\hline\n",
       "\t 0.4873164 & 0.5126836\\\\\n",
       "\t 0.4762492 & 0.5237508\\\\\n",
       "\t 0.4653377 & 0.5346623\\\\\n",
       "\t 0.4748652 & 0.5251348\\\\\n",
       "\t 0.4901890 & 0.5098110\\\\\n",
       "\\end{tabular}\n"
      ],
      "text/markdown": [
       "\n",
       "| Down | Up |\n",
       "|---|---|\n",
       "| 0.4873164 | 0.5126836 |\n",
       "| 0.4762492 | 0.5237508 |\n",
       "| 0.4653377 | 0.5346623 |\n",
       "| 0.4748652 | 0.5251348 |\n",
       "| 0.4901890 | 0.5098110 |\n",
       "\n"
      ],
      "text/plain": [
       "     Down      Up       \n",
       "[1,] 0.4873164 0.5126836\n",
       "[2,] 0.4762492 0.5237508\n",
       "[3,] 0.4653377 0.5346623\n",
       "[4,] 0.4748652 0.5251348\n",
       "[5,] 0.4901890 0.5098110"
      ]
     },
     "metadata": {},
     "output_type": "display_data"
    }
   ],
   "source": [
    "# Displaying Prediction Probabilities\n",
    "\n",
    "nb_pred2 <- predict(nb_fit, smarket_test, type = \"raw\")\n",
    "\n",
    "# Display first 5 rows\n",
    "nb_pred2[1:5, ]"
   ]
  },
  {
   "cell_type": "markdown",
   "metadata": {},
   "source": [
    "## K-Nearest Neighbors\n",
    "\n",
    "We will now perform KNN using the knn() function, which is part of the class library. This function works rather differently from the other modelfitting functions that we have encountered thus far. Rather than a two-step approach in which we first fit the model and then we use the model to make predictions, knn() forms predictions using a single command.\n",
    "\n",
    "The function requires four inputs.\n",
    "1. A matrix containing the predictors associated with the training data,\n",
    "labeled train.X below.\n",
    "2. A matrix containing the predictors associated with the data for which\n",
    "we wish to make predictions, labeled test.X below.\n",
    "3. A vector containing the class labels for the training observations,\n",
    "labeled train.Direction below.\n",
    "4. A value for K, the number of nearest neighbors to be used by the\n",
    "classifier."
   ]
  },
  {
   "cell_type": "code",
   "execution_count": 167,
   "metadata": {},
   "outputs": [],
   "source": [
    "library(class)\n",
    "\n",
    "train_X <- cbind(Lag1, Lag2)[train_index, ]\n",
    "\n",
    "test_X <- cbind(Lag1, Lag2)[!train_index, ]\n",
    "\n",
    "train_direction <- Direction[train_index]"
   ]
  },
  {
   "cell_type": "markdown",
   "metadata": {},
   "source": [
    "> Now the knn() function can be used to predict the market’s movement for the dates in 2005. We set a random seed before we apply knn() because if several observations are tied as nearest neighbors, then R will randomly break the tie. Therefore, a seed must be set in order to ensure reproducibility of results."
   ]
  },
  {
   "cell_type": "code",
   "execution_count": 168,
   "metadata": {},
   "outputs": [
    {
     "data": {
      "text/plain": [
       "        direction_test\n",
       "knn_pred Down Up\n",
       "    Down   43 58\n",
       "    Up     68 83"
      ]
     },
     "metadata": {},
     "output_type": "display_data"
    },
    {
     "data": {
      "text/html": [
       "0.5"
      ],
      "text/latex": [
       "0.5"
      ],
      "text/markdown": [
       "0.5"
      ],
      "text/plain": [
       "[1] 0.5"
      ]
     },
     "metadata": {},
     "output_type": "display_data"
    }
   ],
   "source": [
    "set.seed(1)\n",
    "\n",
    "# Prediction with knn\n",
    "knn_pred <- knn(train_X, test_X, train_direction, k = 1)\n",
    "\n",
    "\n",
    "# Confusion Matrix\n",
    "table(knn_pred, direction_test)\n",
    "\n",
    "# Rate\n",
    "mean(knn_pred == direction_test)"
   ]
  },
  {
   "cell_type": "markdown",
   "metadata": {},
   "source": [
    "> The results using K = 1 are not very good, since only 50% of the observations are correctly predicted. Of course, it may be that K = 1 results in an overly flexible fit to the data. Below, we repeat the analysis using K = 3."
   ]
  },
  {
   "cell_type": "code",
   "execution_count": 169,
   "metadata": {},
   "outputs": [
    {
     "data": {
      "text/plain": [
       "        direction_test\n",
       "knn_pred Down Up\n",
       "    Down   48 54\n",
       "    Up     63 87"
      ]
     },
     "metadata": {},
     "output_type": "display_data"
    },
    {
     "data": {
      "text/html": [
       "0.535714285714286"
      ],
      "text/latex": [
       "0.535714285714286"
      ],
      "text/markdown": [
       "0.535714285714286"
      ],
      "text/plain": [
       "[1] 0.5357143"
      ]
     },
     "metadata": {},
     "output_type": "display_data"
    }
   ],
   "source": [
    "# Prediction with knn\n",
    "knn_pred <- knn(train_X, test_X, train_direction, k = 3)\n",
    "\n",
    "\n",
    "# Confusion Matrix\n",
    "table(knn_pred, direction_test)\n",
    "\n",
    "# Rate\n",
    "mean(knn_pred == direction_test)"
   ]
  },
  {
   "cell_type": "markdown",
   "metadata": {},
   "source": [
    "> The results have improved slightly. But increasing K further turns out\n",
    "to provide no further improvements. It appears that for this data, QDA\n",
    "provides the best results of the methods that we have examined so far."
   ]
  },
  {
   "cell_type": "markdown",
   "metadata": {},
   "source": [
    "\n",
    "KNN does not perform well on the Smarket data but it does often provide\n",
    "impressive results. As an example we will apply the KNN approach to the\n",
    "Caravan data set, which is part of the ISLR2 library. This data set includes 85\n",
    "predictors that measure demographic characteristics for 5,822 individuals.\n",
    "The response variable is Purchase, which indicates whether or not a given\n",
    "individual purchases a caravan insurance policy. In this data set, only 6%\n",
    "of people purchased caravan insurance.\n"
   ]
  },
  {
   "cell_type": "code",
   "execution_count": 170,
   "metadata": {},
   "outputs": [
    {
     "data": {
      "text/html": [
       "<ol class=list-inline>\n",
       "\t<li>5822</li>\n",
       "\t<li>86</li>\n",
       "</ol>\n"
      ],
      "text/latex": [
       "\\begin{enumerate*}\n",
       "\\item 5822\n",
       "\\item 86\n",
       "\\end{enumerate*}\n"
      ],
      "text/markdown": [
       "1. 5822\n",
       "2. 86\n",
       "\n",
       "\n"
      ],
      "text/plain": [
       "[1] 5822   86"
      ]
     },
     "metadata": {},
     "output_type": "display_data"
    }
   ],
   "source": [
    "# Get the dimension of the Caravan dataset\n",
    "\n",
    "dim(Caravan)"
   ]
  },
  {
   "cell_type": "code",
   "execution_count": 171,
   "metadata": {},
   "outputs": [
    {
     "name": "stderr",
     "output_type": "stream",
     "text": [
      "The following objects are masked from Caravan (pos = 7):\n",
      "\n",
      "    AAANHANG, ABESAUT, ABRAND, ABROM, ABYSTAND, AFIETS, AGEZONG,\n",
      "    AINBOED, ALEVEN, AMOTSCO, APERSAUT, APERSONG, APLEZIER, ATRACTOR,\n",
      "    AVRAAUT, AWABEDR, AWALAND, AWAOREG, AWAPART, AWERKT, AZEILPL,\n",
      "    MAANTHUI, MAUT0, MAUT1, MAUT2, MBERARBG, MBERARBO, MBERBOER,\n",
      "    MBERHOOG, MBERMIDD, MBERZELF, MFALLEEN, MFGEKIND, MFWEKIND,\n",
      "    MGEMLEEF, MGEMOMV, MGODGE, MGODOV, MGODPR, MGODRK, MHHUUR, MHKOOP,\n",
      "    MINK123M, MINK3045, MINK4575, MINK7512, MINKGEM, MINKM30, MKOOPKLA,\n",
      "    MOPLHOOG, MOPLLAAG, MOPLMIDD, MOSHOOFD, MOSTYPE, MRELGE, MRELOV,\n",
      "    MRELSA, MSKA, MSKB1, MSKB2, MSKC, MSKD, MZFONDS, MZPART, PAANHANG,\n",
      "    PBESAUT, PBRAND, PBROM, PBYSTAND, PFIETS, PGEZONG, PINBOED, PLEVEN,\n",
      "    PMOTSCO, PPERSAUT, PPERSONG, PPLEZIER, PTRACTOR, Purchase, PVRAAUT,\n",
      "    PWABEDR, PWALAND, PWAOREG, PWAPART, PWERKT, PZEILPL\n",
      "\n"
     ]
    },
    {
     "data": {
      "text/html": [
       "<dl class=dl-horizontal>\n",
       "\t<dt>No</dt>\n",
       "\t\t<dd>5474</dd>\n",
       "\t<dt>Yes</dt>\n",
       "\t\t<dd>348</dd>\n",
       "</dl>\n"
      ],
      "text/latex": [
       "\\begin{description*}\n",
       "\\item[No] 5474\n",
       "\\item[Yes] 348\n",
       "\\end{description*}\n"
      ],
      "text/markdown": [
       "No\n",
       ":   5474Yes\n",
       ":   348\n",
       "\n"
      ],
      "text/plain": [
       "  No  Yes \n",
       "5474  348 "
      ]
     },
     "metadata": {},
     "output_type": "display_data"
    }
   ],
   "source": [
    "attach(Caravan)\n",
    "\n",
    "summary(Purchase)"
   ]
  },
  {
   "cell_type": "markdown",
   "metadata": {},
   "source": [
    "Because the KNN classifier predicts the class of a given test observation by\n",
    "identifying the observations that are nearest to it, the scale of the variables\n",
    "matters. Variables that are on a large scale will have a much larger effect\n",
    "on the distance between the observations, and hence on the KNN classifier,\n",
    "than variables that are on a small scale.\n",
    "\n",
    "A good way to handle this problem is to standardize the data so that all\n",
    "standardize variables are given a mean of zero and a standard deviation of one. Then\n",
    "all variables will be on a comparable scale. The scale() function does just\n",
    "this. In standardizing the data, we exclude column 86, because that is the\n",
    "qualitative Purchase variable."
   ]
  },
  {
   "cell_type": "code",
   "execution_count": 172,
   "metadata": {},
   "outputs": [],
   "source": [
    "# Standardizing the Caravan Dataset\n",
    "\n",
    "standardized_X <- scale(Caravan[, -86])"
   ]
  },
  {
   "cell_type": "markdown",
   "metadata": {},
   "source": [
    "Now every column of standardized.X has a standard deviation of one and\n",
    "a mean of zero.\n",
    "We now split the observations into a test set, containing the first 1,000\n",
    "observations, and a training set, containing the remaining observations.\n",
    "We fit a KNN model on the training data using K = 1, and evaluate its\n",
    "performance on the test data."
   ]
  },
  {
   "cell_type": "code",
   "execution_count": 173,
   "metadata": {},
   "outputs": [],
   "source": [
    "# Hold-out the first 1000 rows for testing\n",
    "test_index <- 1:1000\n",
    "\n",
    "# Derrive the training and testing variables \n",
    "train_X <- standardized_X[-test_index, ]\n",
    "\n",
    "test_X <- standardized_X[test_index, ]\n",
    "\n",
    "# Derrive the test Response \n",
    "test_Y <- Purchase[test_index]\n",
    "\n",
    "train_Y <- Purchase[-test_index]"
   ]
  },
  {
   "cell_type": "code",
   "execution_count": 174,
   "metadata": {},
   "outputs": [
    {
     "data": {
      "text/plain": [
       "        test_Y\n",
       "knn_pred  No Yes\n",
       "     No  874  49\n",
       "     Yes  67  10"
      ]
     },
     "metadata": {},
     "output_type": "display_data"
    },
    {
     "data": {
      "text/html": [
       "0.884"
      ],
      "text/latex": [
       "0.884"
      ],
      "text/markdown": [
       "0.884"
      ],
      "text/plain": [
       "[1] 0.884"
      ]
     },
     "metadata": {},
     "output_type": "display_data"
    }
   ],
   "source": [
    "# Fit the k-NN with k = 1\n",
    "\n",
    "knn_pred <- knn(train_X, test_X, train_Y, k = 1)\n",
    "\n",
    "# Confusion Matrix\n",
    "table(knn_pred, test_Y)\n",
    "\n",
    "# Accuracy\n",
    "mean(knn_pred == test_Y)"
   ]
  },
  {
   "cell_type": "markdown",
   "metadata": {},
   "source": [
    "The vector test is numeric, with values from 1 through 1, 000. Typing\n",
    "standardized.X[test, ] yields the submatrix of the data containing the\n",
    "observations whose indices range from 1 to 1, 000, whereas typing\n",
    "standardized.X[-test, ] yields the submatrix containing the observations\n",
    "whose indices do not range from 1 to 1, 000. The KNN error rate on the\n",
    "1,000 test observations is just under 12%. At first glance, this may appear\n",
    "to be fairly good. However, since only 6% of customers purchased\n",
    "insurance, we could get the error rate down to 6% by always predicting No\n",
    "regardless of the values of the predictors!\n",
    "\n",
    "Suppose that there is some non-trivial cost to trying to sell insurance\n",
    "to a given individual. For instance, perhaps a salesperson must visit each\n",
    "potential customer. If the company tries to sell insurance to a random\n",
    "selection of customers, then the success rate will be only 6 %, which may\n",
    "be far too low given the costs involved. Instead, the company would like\n",
    "to try to sell insurance only to customers who are likely to buy it. So the\n",
    "overall error rate is not of interest. Instead, the fraction of individuals that\n",
    "are correctly predicted to buy insurance is of interest.\n",
    "\n",
    "It turns out that KNN with K = 1 does far better than random guessing\n",
    "among the customers that are predicted to buy insurance. Among 77 such\n",
    "customers, 9, or 11.7 %, actually do purchase insurance. This is double the\n",
    "rate that one would obtain from random guessing."
   ]
  },
  {
   "cell_type": "code",
   "execution_count": 175,
   "metadata": {},
   "outputs": [
    {
     "data": {
      "text/html": [
       "0.12987012987013"
      ],
      "text/latex": [
       "0.12987012987013"
      ],
      "text/markdown": [
       "0.12987012987013"
      ],
      "text/plain": [
       "[1] 0.1298701"
      ]
     },
     "metadata": {},
     "output_type": "display_data"
    }
   ],
   "source": [
    "# Fraction of Individuals likely to buy\n",
    "\n",
    "10 / (10 + 67)"
   ]
  },
  {
   "cell_type": "code",
   "execution_count": 176,
   "metadata": {},
   "outputs": [
    {
     "data": {
      "text/plain": [
       "        test_Y\n",
       "knn_pred  No Yes\n",
       "     No  920  54\n",
       "     Yes  21   5"
      ]
     },
     "metadata": {},
     "output_type": "display_data"
    },
    {
     "data": {
      "text/html": [
       "0.925"
      ],
      "text/latex": [
       "0.925"
      ],
      "text/markdown": [
       "0.925"
      ],
      "text/plain": [
       "[1] 0.925"
      ]
     },
     "metadata": {},
     "output_type": "display_data"
    }
   ],
   "source": [
    "# Using k = 3\n",
    "\n",
    "# Fit the k-NN with k = 1\n",
    "\n",
    "knn_pred <- knn(train_X, test_X, train_Y, k = 3)\n",
    "\n",
    "# Confusion Matrix\n",
    "table(knn_pred, test_Y)\n",
    "\n",
    "# Accuracy\n",
    "mean(knn_pred == test_Y)"
   ]
  },
  {
   "cell_type": "markdown",
   "metadata": {},
   "source": [
    "> Using K = 3, the success rate increases to 19 %, and with K = 5 the rate is\n",
    "26.7 %. This is over four times the rate that results from random guessing.\n",
    "It appears that KNN is finding some real patterns in a difficult data set!"
   ]
  },
  {
   "cell_type": "code",
   "execution_count": 177,
   "metadata": {},
   "outputs": [
    {
     "data": {
      "text/html": [
       "0.192307692307692"
      ],
      "text/latex": [
       "0.192307692307692"
      ],
      "text/markdown": [
       "0.192307692307692"
      ],
      "text/plain": [
       "[1] 0.1923077"
      ]
     },
     "metadata": {},
     "output_type": "display_data"
    }
   ],
   "source": [
    "# Fraction of Individuals likely to buy\n",
    "\n",
    "5 / (21 + 5)"
   ]
  },
  {
   "cell_type": "code",
   "execution_count": 178,
   "metadata": {},
   "outputs": [],
   "source": [
    "# Vector of k\n",
    "k_seq <- 1:20\n",
    "\n",
    "# Initialize an empty list of len(k)\n",
    "accuracy_list <- rep(NULL, length(k_seq))\n",
    "\n",
    "\n",
    "for (k in k_seq) {\n",
    "\n",
    "    # Fit the k-NN with the value of k\n",
    "    knn_pred <- knn(train_X, test_X, train_Y, k = k)\n",
    "\n",
    "    # Find the Accuracy\n",
    "    accuracy <- mean(knn_pred == test_Y)\n",
    "\n",
    "    # Append result to the list\n",
    "    accuracy_list <- append(accuracy_list, accuracy, after = (k - 1))\n",
    "\n",
    "}"
   ]
  },
  {
   "cell_type": "code",
   "execution_count": 179,
   "metadata": {},
   "outputs": [
    {
     "data": {
      "text/html": [
       "<table>\n",
       "<thead><tr><th scope=col>k_seq</th><th scope=col>accuracy_list</th></tr></thead>\n",
       "<tbody>\n",
       "\t<tr><td>1    </td><td>0.882</td></tr>\n",
       "\t<tr><td>2    </td><td>0.888</td></tr>\n",
       "\t<tr><td>3    </td><td>0.926</td></tr>\n",
       "\t<tr><td>4    </td><td>0.927</td></tr>\n",
       "\t<tr><td>5    </td><td>0.934</td></tr>\n",
       "\t<tr><td>6    </td><td>0.939</td></tr>\n",
       "</tbody>\n",
       "</table>\n"
      ],
      "text/latex": [
       "\\begin{tabular}{r|ll}\n",
       " k\\_seq & accuracy\\_list\\\\\n",
       "\\hline\n",
       "\t 1     & 0.882\\\\\n",
       "\t 2     & 0.888\\\\\n",
       "\t 3     & 0.926\\\\\n",
       "\t 4     & 0.927\\\\\n",
       "\t 5     & 0.934\\\\\n",
       "\t 6     & 0.939\\\\\n",
       "\\end{tabular}\n"
      ],
      "text/markdown": [
       "\n",
       "| k_seq | accuracy_list |\n",
       "|---|---|\n",
       "| 1     | 0.882 |\n",
       "| 2     | 0.888 |\n",
       "| 3     | 0.926 |\n",
       "| 4     | 0.927 |\n",
       "| 5     | 0.934 |\n",
       "| 6     | 0.939 |\n",
       "\n"
      ],
      "text/plain": [
       "  k_seq accuracy_list\n",
       "1 1     0.882        \n",
       "2 2     0.888        \n",
       "3 3     0.926        \n",
       "4 4     0.927        \n",
       "5 5     0.934        \n",
       "6 6     0.939        "
      ]
     },
     "metadata": {},
     "output_type": "display_data"
    }
   ],
   "source": [
    "knn_results_df <- data.frame(k_seq, accuracy_list)\n",
    "\n",
    "head(knn_results_df)"
   ]
  },
  {
   "cell_type": "markdown",
   "metadata": {},
   "source": [
    "## Poisson Regression\n",
    "\n"
   ]
  },
  {
   "cell_type": "code",
   "execution_count": 180,
   "metadata": {},
   "outputs": [
    {
     "name": "stderr",
     "output_type": "stream",
     "text": [
      "The following objects are masked from Bikeshare (pos = 5):\n",
      "\n",
      "    atemp, bikers, casual, day, holiday, hr, hum, mnth, registered,\n",
      "    season, temp, weathersit, weekday, windspeed, workingday\n",
      "\n",
      "The following objects are masked from Bikeshare (pos = 6):\n",
      "\n",
      "    atemp, bikers, casual, day, holiday, hr, hum, mnth, registered,\n",
      "    season, temp, weathersit, weekday, windspeed, workingday\n",
      "\n",
      "The following objects are masked from Bikeshare (pos = 7):\n",
      "\n",
      "    atemp, bikers, casual, day, holiday, hr, hum, mnth, registered,\n",
      "    season, temp, weathersit, weekday, windspeed, workingday\n",
      "\n"
     ]
    },
    {
     "data": {
      "text/html": [
       "<ol class=list-inline>\n",
       "\t<li>8645</li>\n",
       "\t<li>15</li>\n",
       "</ol>\n"
      ],
      "text/latex": [
       "\\begin{enumerate*}\n",
       "\\item 8645\n",
       "\\item 15\n",
       "\\end{enumerate*}\n"
      ],
      "text/markdown": [
       "1. 8645\n",
       "2. 15\n",
       "\n",
       "\n"
      ],
      "text/plain": [
       "[1] 8645   15"
      ]
     },
     "metadata": {},
     "output_type": "display_data"
    },
    {
     "data": {
      "text/html": [
       "<ol class=list-inline>\n",
       "\t<li>'season'</li>\n",
       "\t<li>'mnth'</li>\n",
       "\t<li>'day'</li>\n",
       "\t<li>'hr'</li>\n",
       "\t<li>'holiday'</li>\n",
       "\t<li>'weekday'</li>\n",
       "\t<li>'workingday'</li>\n",
       "\t<li>'weathersit'</li>\n",
       "\t<li>'temp'</li>\n",
       "\t<li>'atemp'</li>\n",
       "\t<li>'hum'</li>\n",
       "\t<li>'windspeed'</li>\n",
       "\t<li>'casual'</li>\n",
       "\t<li>'registered'</li>\n",
       "\t<li>'bikers'</li>\n",
       "</ol>\n"
      ],
      "text/latex": [
       "\\begin{enumerate*}\n",
       "\\item 'season'\n",
       "\\item 'mnth'\n",
       "\\item 'day'\n",
       "\\item 'hr'\n",
       "\\item 'holiday'\n",
       "\\item 'weekday'\n",
       "\\item 'workingday'\n",
       "\\item 'weathersit'\n",
       "\\item 'temp'\n",
       "\\item 'atemp'\n",
       "\\item 'hum'\n",
       "\\item 'windspeed'\n",
       "\\item 'casual'\n",
       "\\item 'registered'\n",
       "\\item 'bikers'\n",
       "\\end{enumerate*}\n"
      ],
      "text/markdown": [
       "1. 'season'\n",
       "2. 'mnth'\n",
       "3. 'day'\n",
       "4. 'hr'\n",
       "5. 'holiday'\n",
       "6. 'weekday'\n",
       "7. 'workingday'\n",
       "8. 'weathersit'\n",
       "9. 'temp'\n",
       "10. 'atemp'\n",
       "11. 'hum'\n",
       "12. 'windspeed'\n",
       "13. 'casual'\n",
       "14. 'registered'\n",
       "15. 'bikers'\n",
       "\n",
       "\n"
      ],
      "text/plain": [
       " [1] \"season\"     \"mnth\"       \"day\"        \"hr\"         \"holiday\"   \n",
       " [6] \"weekday\"    \"workingday\" \"weathersit\" \"temp\"       \"atemp\"     \n",
       "[11] \"hum\"        \"windspeed\"  \"casual\"     \"registered\" \"bikers\"    "
      ]
     },
     "metadata": {},
     "output_type": "display_data"
    }
   ],
   "source": [
    "# Attach Bikeshare\n",
    "attach(Bikeshare)\n",
    "\n",
    "# Get the dimensions of the data\n",
    "dim(Bikeshare)\n",
    "\n",
    "# Get the column names\n",
    "names(Bikeshare)"
   ]
  },
  {
   "cell_type": "code",
   "execution_count": 187,
   "metadata": {},
   "outputs": [
    {
     "data": {
      "text/html": [
       "<table>\n",
       "<thead><tr><th></th><th scope=col>2</th><th scope=col>3</th><th scope=col>4</th><th scope=col>5</th><th scope=col>6</th><th scope=col>7</th><th scope=col>8</th><th scope=col>9</th><th scope=col>10</th><th scope=col>11</th><th scope=col>12</th></tr></thead>\n",
       "<tbody>\n",
       "\t<tr><th scope=row>Jan</th><td>0</td><td>0</td><td>0</td><td>0</td><td>0</td><td>0</td><td>0</td><td>0</td><td>0</td><td>0</td><td>0</td></tr>\n",
       "\t<tr><th scope=row>Feb</th><td>1</td><td>0</td><td>0</td><td>0</td><td>0</td><td>0</td><td>0</td><td>0</td><td>0</td><td>0</td><td>0</td></tr>\n",
       "\t<tr><th scope=row>March</th><td>0</td><td>1</td><td>0</td><td>0</td><td>0</td><td>0</td><td>0</td><td>0</td><td>0</td><td>0</td><td>0</td></tr>\n",
       "\t<tr><th scope=row>April</th><td>0</td><td>0</td><td>1</td><td>0</td><td>0</td><td>0</td><td>0</td><td>0</td><td>0</td><td>0</td><td>0</td></tr>\n",
       "\t<tr><th scope=row>May</th><td>0</td><td>0</td><td>0</td><td>1</td><td>0</td><td>0</td><td>0</td><td>0</td><td>0</td><td>0</td><td>0</td></tr>\n",
       "\t<tr><th scope=row>June</th><td>0</td><td>0</td><td>0</td><td>0</td><td>1</td><td>0</td><td>0</td><td>0</td><td>0</td><td>0</td><td>0</td></tr>\n",
       "\t<tr><th scope=row>July</th><td>0</td><td>0</td><td>0</td><td>0</td><td>0</td><td>1</td><td>0</td><td>0</td><td>0</td><td>0</td><td>0</td></tr>\n",
       "\t<tr><th scope=row>Aug</th><td>0</td><td>0</td><td>0</td><td>0</td><td>0</td><td>0</td><td>1</td><td>0</td><td>0</td><td>0</td><td>0</td></tr>\n",
       "\t<tr><th scope=row>Sept</th><td>0</td><td>0</td><td>0</td><td>0</td><td>0</td><td>0</td><td>0</td><td>1</td><td>0</td><td>0</td><td>0</td></tr>\n",
       "\t<tr><th scope=row>Oct</th><td>0</td><td>0</td><td>0</td><td>0</td><td>0</td><td>0</td><td>0</td><td>0</td><td>1</td><td>0</td><td>0</td></tr>\n",
       "\t<tr><th scope=row>Nov</th><td>0</td><td>0</td><td>0</td><td>0</td><td>0</td><td>0</td><td>0</td><td>0</td><td>0</td><td>1</td><td>0</td></tr>\n",
       "\t<tr><th scope=row>Dec</th><td>0</td><td>0</td><td>0</td><td>0</td><td>0</td><td>0</td><td>0</td><td>0</td><td>0</td><td>0</td><td>1</td></tr>\n",
       "</tbody>\n",
       "</table>\n"
      ],
      "text/latex": [
       "\\begin{tabular}{r|lllllllllll}\n",
       "  & 2 & 3 & 4 & 5 & 6 & 7 & 8 & 9 & 10 & 11 & 12\\\\\n",
       "\\hline\n",
       "\tJan & 0 & 0 & 0 & 0 & 0 & 0 & 0 & 0 & 0 & 0 & 0\\\\\n",
       "\tFeb & 1 & 0 & 0 & 0 & 0 & 0 & 0 & 0 & 0 & 0 & 0\\\\\n",
       "\tMarch & 0 & 1 & 0 & 0 & 0 & 0 & 0 & 0 & 0 & 0 & 0\\\\\n",
       "\tApril & 0 & 0 & 1 & 0 & 0 & 0 & 0 & 0 & 0 & 0 & 0\\\\\n",
       "\tMay & 0 & 0 & 0 & 1 & 0 & 0 & 0 & 0 & 0 & 0 & 0\\\\\n",
       "\tJune & 0 & 0 & 0 & 0 & 1 & 0 & 0 & 0 & 0 & 0 & 0\\\\\n",
       "\tJuly & 0 & 0 & 0 & 0 & 0 & 1 & 0 & 0 & 0 & 0 & 0\\\\\n",
       "\tAug & 0 & 0 & 0 & 0 & 0 & 0 & 1 & 0 & 0 & 0 & 0\\\\\n",
       "\tSept & 0 & 0 & 0 & 0 & 0 & 0 & 0 & 1 & 0 & 0 & 0\\\\\n",
       "\tOct & 0 & 0 & 0 & 0 & 0 & 0 & 0 & 0 & 1 & 0 & 0\\\\\n",
       "\tNov & 0 & 0 & 0 & 0 & 0 & 0 & 0 & 0 & 0 & 1 & 0\\\\\n",
       "\tDec & 0 & 0 & 0 & 0 & 0 & 0 & 0 & 0 & 0 & 0 & 1\\\\\n",
       "\\end{tabular}\n"
      ],
      "text/markdown": [
       "\n",
       "| <!--/--> | 2 | 3 | 4 | 5 | 6 | 7 | 8 | 9 | 10 | 11 | 12 |\n",
       "|---|---|---|---|---|---|---|---|---|---|---|---|\n",
       "| Jan | 0 | 0 | 0 | 0 | 0 | 0 | 0 | 0 | 0 | 0 | 0 |\n",
       "| Feb | 1 | 0 | 0 | 0 | 0 | 0 | 0 | 0 | 0 | 0 | 0 |\n",
       "| March | 0 | 1 | 0 | 0 | 0 | 0 | 0 | 0 | 0 | 0 | 0 |\n",
       "| April | 0 | 0 | 1 | 0 | 0 | 0 | 0 | 0 | 0 | 0 | 0 |\n",
       "| May | 0 | 0 | 0 | 1 | 0 | 0 | 0 | 0 | 0 | 0 | 0 |\n",
       "| June | 0 | 0 | 0 | 0 | 1 | 0 | 0 | 0 | 0 | 0 | 0 |\n",
       "| July | 0 | 0 | 0 | 0 | 0 | 1 | 0 | 0 | 0 | 0 | 0 |\n",
       "| Aug | 0 | 0 | 0 | 0 | 0 | 0 | 1 | 0 | 0 | 0 | 0 |\n",
       "| Sept | 0 | 0 | 0 | 0 | 0 | 0 | 0 | 1 | 0 | 0 | 0 |\n",
       "| Oct | 0 | 0 | 0 | 0 | 0 | 0 | 0 | 0 | 1 | 0 | 0 |\n",
       "| Nov | 0 | 0 | 0 | 0 | 0 | 0 | 0 | 0 | 0 | 1 | 0 |\n",
       "| Dec | 0 | 0 | 0 | 0 | 0 | 0 | 0 | 0 | 0 | 0 | 1 |\n",
       "\n"
      ],
      "text/plain": [
       "      2 3 4 5 6 7 8 9 10 11 12\n",
       "Jan   0 0 0 0 0 0 0 0 0  0  0 \n",
       "Feb   1 0 0 0 0 0 0 0 0  0  0 \n",
       "March 0 1 0 0 0 0 0 0 0  0  0 \n",
       "April 0 0 1 0 0 0 0 0 0  0  0 \n",
       "May   0 0 0 1 0 0 0 0 0  0  0 \n",
       "June  0 0 0 0 1 0 0 0 0  0  0 \n",
       "July  0 0 0 0 0 1 0 0 0  0  0 \n",
       "Aug   0 0 0 0 0 0 1 0 0  0  0 \n",
       "Sept  0 0 0 0 0 0 0 1 0  0  0 \n",
       "Oct   0 0 0 0 0 0 0 0 1  0  0 \n",
       "Nov   0 0 0 0 0 0 0 0 0  1  0 \n",
       "Dec   0 0 0 0 0 0 0 0 0  0  1 "
      ]
     },
     "metadata": {},
     "output_type": "display_data"
    },
    {
     "data": {
      "text/html": [
       "<table>\n",
       "<thead><tr><th></th><th scope=col>2</th><th scope=col>3</th><th scope=col>4</th><th scope=col>5</th><th scope=col>6</th><th scope=col>7</th><th scope=col>8</th><th scope=col>9</th><th scope=col>10</th><th scope=col>11</th><th scope=col>...</th><th scope=col>15</th><th scope=col>16</th><th scope=col>17</th><th scope=col>18</th><th scope=col>19</th><th scope=col>20</th><th scope=col>21</th><th scope=col>22</th><th scope=col>23</th><th scope=col>24</th></tr></thead>\n",
       "<tbody>\n",
       "\t<tr><th scope=row>0</th><td>0  </td><td>0  </td><td>0  </td><td>0  </td><td>0  </td><td>0  </td><td>0  </td><td>0  </td><td>0  </td><td>0  </td><td>...</td><td>0  </td><td>0  </td><td>0  </td><td>0  </td><td>0  </td><td>0  </td><td>0  </td><td>0  </td><td>0  </td><td>0  </td></tr>\n",
       "\t<tr><th scope=row>1</th><td>1  </td><td>0  </td><td>0  </td><td>0  </td><td>0  </td><td>0  </td><td>0  </td><td>0  </td><td>0  </td><td>0  </td><td>...</td><td>0  </td><td>0  </td><td>0  </td><td>0  </td><td>0  </td><td>0  </td><td>0  </td><td>0  </td><td>0  </td><td>0  </td></tr>\n",
       "\t<tr><th scope=row>2</th><td>0  </td><td>1  </td><td>0  </td><td>0  </td><td>0  </td><td>0  </td><td>0  </td><td>0  </td><td>0  </td><td>0  </td><td>...</td><td>0  </td><td>0  </td><td>0  </td><td>0  </td><td>0  </td><td>0  </td><td>0  </td><td>0  </td><td>0  </td><td>0  </td></tr>\n",
       "\t<tr><th scope=row>3</th><td>0  </td><td>0  </td><td>1  </td><td>0  </td><td>0  </td><td>0  </td><td>0  </td><td>0  </td><td>0  </td><td>0  </td><td>...</td><td>0  </td><td>0  </td><td>0  </td><td>0  </td><td>0  </td><td>0  </td><td>0  </td><td>0  </td><td>0  </td><td>0  </td></tr>\n",
       "\t<tr><th scope=row>4</th><td>0  </td><td>0  </td><td>0  </td><td>1  </td><td>0  </td><td>0  </td><td>0  </td><td>0  </td><td>0  </td><td>0  </td><td>...</td><td>0  </td><td>0  </td><td>0  </td><td>0  </td><td>0  </td><td>0  </td><td>0  </td><td>0  </td><td>0  </td><td>0  </td></tr>\n",
       "\t<tr><th scope=row>5</th><td>0  </td><td>0  </td><td>0  </td><td>0  </td><td>1  </td><td>0  </td><td>0  </td><td>0  </td><td>0  </td><td>0  </td><td>...</td><td>0  </td><td>0  </td><td>0  </td><td>0  </td><td>0  </td><td>0  </td><td>0  </td><td>0  </td><td>0  </td><td>0  </td></tr>\n",
       "\t<tr><th scope=row>6</th><td>0  </td><td>0  </td><td>0  </td><td>0  </td><td>0  </td><td>1  </td><td>0  </td><td>0  </td><td>0  </td><td>0  </td><td>...</td><td>0  </td><td>0  </td><td>0  </td><td>0  </td><td>0  </td><td>0  </td><td>0  </td><td>0  </td><td>0  </td><td>0  </td></tr>\n",
       "\t<tr><th scope=row>7</th><td>0  </td><td>0  </td><td>0  </td><td>0  </td><td>0  </td><td>0  </td><td>1  </td><td>0  </td><td>0  </td><td>0  </td><td>...</td><td>0  </td><td>0  </td><td>0  </td><td>0  </td><td>0  </td><td>0  </td><td>0  </td><td>0  </td><td>0  </td><td>0  </td></tr>\n",
       "\t<tr><th scope=row>8</th><td>0  </td><td>0  </td><td>0  </td><td>0  </td><td>0  </td><td>0  </td><td>0  </td><td>1  </td><td>0  </td><td>0  </td><td>...</td><td>0  </td><td>0  </td><td>0  </td><td>0  </td><td>0  </td><td>0  </td><td>0  </td><td>0  </td><td>0  </td><td>0  </td></tr>\n",
       "\t<tr><th scope=row>9</th><td>0  </td><td>0  </td><td>0  </td><td>0  </td><td>0  </td><td>0  </td><td>0  </td><td>0  </td><td>1  </td><td>0  </td><td>...</td><td>0  </td><td>0  </td><td>0  </td><td>0  </td><td>0  </td><td>0  </td><td>0  </td><td>0  </td><td>0  </td><td>0  </td></tr>\n",
       "\t<tr><th scope=row>10</th><td>0  </td><td>0  </td><td>0  </td><td>0  </td><td>0  </td><td>0  </td><td>0  </td><td>0  </td><td>0  </td><td>1  </td><td>...</td><td>0  </td><td>0  </td><td>0  </td><td>0  </td><td>0  </td><td>0  </td><td>0  </td><td>0  </td><td>0  </td><td>0  </td></tr>\n",
       "\t<tr><th scope=row>11</th><td>0  </td><td>0  </td><td>0  </td><td>0  </td><td>0  </td><td>0  </td><td>0  </td><td>0  </td><td>0  </td><td>0  </td><td>...</td><td>0  </td><td>0  </td><td>0  </td><td>0  </td><td>0  </td><td>0  </td><td>0  </td><td>0  </td><td>0  </td><td>0  </td></tr>\n",
       "\t<tr><th scope=row>12</th><td>0  </td><td>0  </td><td>0  </td><td>0  </td><td>0  </td><td>0  </td><td>0  </td><td>0  </td><td>0  </td><td>0  </td><td>...</td><td>0  </td><td>0  </td><td>0  </td><td>0  </td><td>0  </td><td>0  </td><td>0  </td><td>0  </td><td>0  </td><td>0  </td></tr>\n",
       "\t<tr><th scope=row>13</th><td>0  </td><td>0  </td><td>0  </td><td>0  </td><td>0  </td><td>0  </td><td>0  </td><td>0  </td><td>0  </td><td>0  </td><td>...</td><td>0  </td><td>0  </td><td>0  </td><td>0  </td><td>0  </td><td>0  </td><td>0  </td><td>0  </td><td>0  </td><td>0  </td></tr>\n",
       "\t<tr><th scope=row>14</th><td>0  </td><td>0  </td><td>0  </td><td>0  </td><td>0  </td><td>0  </td><td>0  </td><td>0  </td><td>0  </td><td>0  </td><td>...</td><td>1  </td><td>0  </td><td>0  </td><td>0  </td><td>0  </td><td>0  </td><td>0  </td><td>0  </td><td>0  </td><td>0  </td></tr>\n",
       "\t<tr><th scope=row>15</th><td>0  </td><td>0  </td><td>0  </td><td>0  </td><td>0  </td><td>0  </td><td>0  </td><td>0  </td><td>0  </td><td>0  </td><td>...</td><td>0  </td><td>1  </td><td>0  </td><td>0  </td><td>0  </td><td>0  </td><td>0  </td><td>0  </td><td>0  </td><td>0  </td></tr>\n",
       "\t<tr><th scope=row>16</th><td>0  </td><td>0  </td><td>0  </td><td>0  </td><td>0  </td><td>0  </td><td>0  </td><td>0  </td><td>0  </td><td>0  </td><td>...</td><td>0  </td><td>0  </td><td>1  </td><td>0  </td><td>0  </td><td>0  </td><td>0  </td><td>0  </td><td>0  </td><td>0  </td></tr>\n",
       "\t<tr><th scope=row>17</th><td>0  </td><td>0  </td><td>0  </td><td>0  </td><td>0  </td><td>0  </td><td>0  </td><td>0  </td><td>0  </td><td>0  </td><td>...</td><td>0  </td><td>0  </td><td>0  </td><td>1  </td><td>0  </td><td>0  </td><td>0  </td><td>0  </td><td>0  </td><td>0  </td></tr>\n",
       "\t<tr><th scope=row>18</th><td>0  </td><td>0  </td><td>0  </td><td>0  </td><td>0  </td><td>0  </td><td>0  </td><td>0  </td><td>0  </td><td>0  </td><td>...</td><td>0  </td><td>0  </td><td>0  </td><td>0  </td><td>1  </td><td>0  </td><td>0  </td><td>0  </td><td>0  </td><td>0  </td></tr>\n",
       "\t<tr><th scope=row>19</th><td>0  </td><td>0  </td><td>0  </td><td>0  </td><td>0  </td><td>0  </td><td>0  </td><td>0  </td><td>0  </td><td>0  </td><td>...</td><td>0  </td><td>0  </td><td>0  </td><td>0  </td><td>0  </td><td>1  </td><td>0  </td><td>0  </td><td>0  </td><td>0  </td></tr>\n",
       "\t<tr><th scope=row>20</th><td>0  </td><td>0  </td><td>0  </td><td>0  </td><td>0  </td><td>0  </td><td>0  </td><td>0  </td><td>0  </td><td>0  </td><td>...</td><td>0  </td><td>0  </td><td>0  </td><td>0  </td><td>0  </td><td>0  </td><td>1  </td><td>0  </td><td>0  </td><td>0  </td></tr>\n",
       "\t<tr><th scope=row>21</th><td>0  </td><td>0  </td><td>0  </td><td>0  </td><td>0  </td><td>0  </td><td>0  </td><td>0  </td><td>0  </td><td>0  </td><td>...</td><td>0  </td><td>0  </td><td>0  </td><td>0  </td><td>0  </td><td>0  </td><td>0  </td><td>1  </td><td>0  </td><td>0  </td></tr>\n",
       "\t<tr><th scope=row>22</th><td>0  </td><td>0  </td><td>0  </td><td>0  </td><td>0  </td><td>0  </td><td>0  </td><td>0  </td><td>0  </td><td>0  </td><td>...</td><td>0  </td><td>0  </td><td>0  </td><td>0  </td><td>0  </td><td>0  </td><td>0  </td><td>0  </td><td>1  </td><td>0  </td></tr>\n",
       "\t<tr><th scope=row>23</th><td>0  </td><td>0  </td><td>0  </td><td>0  </td><td>0  </td><td>0  </td><td>0  </td><td>0  </td><td>0  </td><td>0  </td><td>...</td><td>0  </td><td>0  </td><td>0  </td><td>0  </td><td>0  </td><td>0  </td><td>0  </td><td>0  </td><td>0  </td><td>1  </td></tr>\n",
       "</tbody>\n",
       "</table>\n"
      ],
      "text/latex": [
       "\\begin{tabular}{r|lllllllllllllllllllllll}\n",
       "  & 2 & 3 & 4 & 5 & 6 & 7 & 8 & 9 & 10 & 11 & ... & 15 & 16 & 17 & 18 & 19 & 20 & 21 & 22 & 23 & 24\\\\\n",
       "\\hline\n",
       "\t0 & 0   & 0   & 0   & 0   & 0   & 0   & 0   & 0   & 0   & 0   & ... & 0   & 0   & 0   & 0   & 0   & 0   & 0   & 0   & 0   & 0  \\\\\n",
       "\t1 & 1   & 0   & 0   & 0   & 0   & 0   & 0   & 0   & 0   & 0   & ... & 0   & 0   & 0   & 0   & 0   & 0   & 0   & 0   & 0   & 0  \\\\\n",
       "\t2 & 0   & 1   & 0   & 0   & 0   & 0   & 0   & 0   & 0   & 0   & ... & 0   & 0   & 0   & 0   & 0   & 0   & 0   & 0   & 0   & 0  \\\\\n",
       "\t3 & 0   & 0   & 1   & 0   & 0   & 0   & 0   & 0   & 0   & 0   & ... & 0   & 0   & 0   & 0   & 0   & 0   & 0   & 0   & 0   & 0  \\\\\n",
       "\t4 & 0   & 0   & 0   & 1   & 0   & 0   & 0   & 0   & 0   & 0   & ... & 0   & 0   & 0   & 0   & 0   & 0   & 0   & 0   & 0   & 0  \\\\\n",
       "\t5 & 0   & 0   & 0   & 0   & 1   & 0   & 0   & 0   & 0   & 0   & ... & 0   & 0   & 0   & 0   & 0   & 0   & 0   & 0   & 0   & 0  \\\\\n",
       "\t6 & 0   & 0   & 0   & 0   & 0   & 1   & 0   & 0   & 0   & 0   & ... & 0   & 0   & 0   & 0   & 0   & 0   & 0   & 0   & 0   & 0  \\\\\n",
       "\t7 & 0   & 0   & 0   & 0   & 0   & 0   & 1   & 0   & 0   & 0   & ... & 0   & 0   & 0   & 0   & 0   & 0   & 0   & 0   & 0   & 0  \\\\\n",
       "\t8 & 0   & 0   & 0   & 0   & 0   & 0   & 0   & 1   & 0   & 0   & ... & 0   & 0   & 0   & 0   & 0   & 0   & 0   & 0   & 0   & 0  \\\\\n",
       "\t9 & 0   & 0   & 0   & 0   & 0   & 0   & 0   & 0   & 1   & 0   & ... & 0   & 0   & 0   & 0   & 0   & 0   & 0   & 0   & 0   & 0  \\\\\n",
       "\t10 & 0   & 0   & 0   & 0   & 0   & 0   & 0   & 0   & 0   & 1   & ... & 0   & 0   & 0   & 0   & 0   & 0   & 0   & 0   & 0   & 0  \\\\\n",
       "\t11 & 0   & 0   & 0   & 0   & 0   & 0   & 0   & 0   & 0   & 0   & ... & 0   & 0   & 0   & 0   & 0   & 0   & 0   & 0   & 0   & 0  \\\\\n",
       "\t12 & 0   & 0   & 0   & 0   & 0   & 0   & 0   & 0   & 0   & 0   & ... & 0   & 0   & 0   & 0   & 0   & 0   & 0   & 0   & 0   & 0  \\\\\n",
       "\t13 & 0   & 0   & 0   & 0   & 0   & 0   & 0   & 0   & 0   & 0   & ... & 0   & 0   & 0   & 0   & 0   & 0   & 0   & 0   & 0   & 0  \\\\\n",
       "\t14 & 0   & 0   & 0   & 0   & 0   & 0   & 0   & 0   & 0   & 0   & ... & 1   & 0   & 0   & 0   & 0   & 0   & 0   & 0   & 0   & 0  \\\\\n",
       "\t15 & 0   & 0   & 0   & 0   & 0   & 0   & 0   & 0   & 0   & 0   & ... & 0   & 1   & 0   & 0   & 0   & 0   & 0   & 0   & 0   & 0  \\\\\n",
       "\t16 & 0   & 0   & 0   & 0   & 0   & 0   & 0   & 0   & 0   & 0   & ... & 0   & 0   & 1   & 0   & 0   & 0   & 0   & 0   & 0   & 0  \\\\\n",
       "\t17 & 0   & 0   & 0   & 0   & 0   & 0   & 0   & 0   & 0   & 0   & ... & 0   & 0   & 0   & 1   & 0   & 0   & 0   & 0   & 0   & 0  \\\\\n",
       "\t18 & 0   & 0   & 0   & 0   & 0   & 0   & 0   & 0   & 0   & 0   & ... & 0   & 0   & 0   & 0   & 1   & 0   & 0   & 0   & 0   & 0  \\\\\n",
       "\t19 & 0   & 0   & 0   & 0   & 0   & 0   & 0   & 0   & 0   & 0   & ... & 0   & 0   & 0   & 0   & 0   & 1   & 0   & 0   & 0   & 0  \\\\\n",
       "\t20 & 0   & 0   & 0   & 0   & 0   & 0   & 0   & 0   & 0   & 0   & ... & 0   & 0   & 0   & 0   & 0   & 0   & 1   & 0   & 0   & 0  \\\\\n",
       "\t21 & 0   & 0   & 0   & 0   & 0   & 0   & 0   & 0   & 0   & 0   & ... & 0   & 0   & 0   & 0   & 0   & 0   & 0   & 1   & 0   & 0  \\\\\n",
       "\t22 & 0   & 0   & 0   & 0   & 0   & 0   & 0   & 0   & 0   & 0   & ... & 0   & 0   & 0   & 0   & 0   & 0   & 0   & 0   & 1   & 0  \\\\\n",
       "\t23 & 0   & 0   & 0   & 0   & 0   & 0   & 0   & 0   & 0   & 0   & ... & 0   & 0   & 0   & 0   & 0   & 0   & 0   & 0   & 0   & 1  \\\\\n",
       "\\end{tabular}\n"
      ],
      "text/markdown": [
       "\n",
       "| <!--/--> | 2 | 3 | 4 | 5 | 6 | 7 | 8 | 9 | 10 | 11 | ... | 15 | 16 | 17 | 18 | 19 | 20 | 21 | 22 | 23 | 24 |\n",
       "|---|---|---|---|---|---|---|---|---|---|---|---|---|---|---|---|---|---|---|---|---|---|\n",
       "| 0 | 0   | 0   | 0   | 0   | 0   | 0   | 0   | 0   | 0   | 0   | ... | 0   | 0   | 0   | 0   | 0   | 0   | 0   | 0   | 0   | 0   |\n",
       "| 1 | 1   | 0   | 0   | 0   | 0   | 0   | 0   | 0   | 0   | 0   | ... | 0   | 0   | 0   | 0   | 0   | 0   | 0   | 0   | 0   | 0   |\n",
       "| 2 | 0   | 1   | 0   | 0   | 0   | 0   | 0   | 0   | 0   | 0   | ... | 0   | 0   | 0   | 0   | 0   | 0   | 0   | 0   | 0   | 0   |\n",
       "| 3 | 0   | 0   | 1   | 0   | 0   | 0   | 0   | 0   | 0   | 0   | ... | 0   | 0   | 0   | 0   | 0   | 0   | 0   | 0   | 0   | 0   |\n",
       "| 4 | 0   | 0   | 0   | 1   | 0   | 0   | 0   | 0   | 0   | 0   | ... | 0   | 0   | 0   | 0   | 0   | 0   | 0   | 0   | 0   | 0   |\n",
       "| 5 | 0   | 0   | 0   | 0   | 1   | 0   | 0   | 0   | 0   | 0   | ... | 0   | 0   | 0   | 0   | 0   | 0   | 0   | 0   | 0   | 0   |\n",
       "| 6 | 0   | 0   | 0   | 0   | 0   | 1   | 0   | 0   | 0   | 0   | ... | 0   | 0   | 0   | 0   | 0   | 0   | 0   | 0   | 0   | 0   |\n",
       "| 7 | 0   | 0   | 0   | 0   | 0   | 0   | 1   | 0   | 0   | 0   | ... | 0   | 0   | 0   | 0   | 0   | 0   | 0   | 0   | 0   | 0   |\n",
       "| 8 | 0   | 0   | 0   | 0   | 0   | 0   | 0   | 1   | 0   | 0   | ... | 0   | 0   | 0   | 0   | 0   | 0   | 0   | 0   | 0   | 0   |\n",
       "| 9 | 0   | 0   | 0   | 0   | 0   | 0   | 0   | 0   | 1   | 0   | ... | 0   | 0   | 0   | 0   | 0   | 0   | 0   | 0   | 0   | 0   |\n",
       "| 10 | 0   | 0   | 0   | 0   | 0   | 0   | 0   | 0   | 0   | 1   | ... | 0   | 0   | 0   | 0   | 0   | 0   | 0   | 0   | 0   | 0   |\n",
       "| 11 | 0   | 0   | 0   | 0   | 0   | 0   | 0   | 0   | 0   | 0   | ... | 0   | 0   | 0   | 0   | 0   | 0   | 0   | 0   | 0   | 0   |\n",
       "| 12 | 0   | 0   | 0   | 0   | 0   | 0   | 0   | 0   | 0   | 0   | ... | 0   | 0   | 0   | 0   | 0   | 0   | 0   | 0   | 0   | 0   |\n",
       "| 13 | 0   | 0   | 0   | 0   | 0   | 0   | 0   | 0   | 0   | 0   | ... | 0   | 0   | 0   | 0   | 0   | 0   | 0   | 0   | 0   | 0   |\n",
       "| 14 | 0   | 0   | 0   | 0   | 0   | 0   | 0   | 0   | 0   | 0   | ... | 1   | 0   | 0   | 0   | 0   | 0   | 0   | 0   | 0   | 0   |\n",
       "| 15 | 0   | 0   | 0   | 0   | 0   | 0   | 0   | 0   | 0   | 0   | ... | 0   | 1   | 0   | 0   | 0   | 0   | 0   | 0   | 0   | 0   |\n",
       "| 16 | 0   | 0   | 0   | 0   | 0   | 0   | 0   | 0   | 0   | 0   | ... | 0   | 0   | 1   | 0   | 0   | 0   | 0   | 0   | 0   | 0   |\n",
       "| 17 | 0   | 0   | 0   | 0   | 0   | 0   | 0   | 0   | 0   | 0   | ... | 0   | 0   | 0   | 1   | 0   | 0   | 0   | 0   | 0   | 0   |\n",
       "| 18 | 0   | 0   | 0   | 0   | 0   | 0   | 0   | 0   | 0   | 0   | ... | 0   | 0   | 0   | 0   | 1   | 0   | 0   | 0   | 0   | 0   |\n",
       "| 19 | 0   | 0   | 0   | 0   | 0   | 0   | 0   | 0   | 0   | 0   | ... | 0   | 0   | 0   | 0   | 0   | 1   | 0   | 0   | 0   | 0   |\n",
       "| 20 | 0   | 0   | 0   | 0   | 0   | 0   | 0   | 0   | 0   | 0   | ... | 0   | 0   | 0   | 0   | 0   | 0   | 1   | 0   | 0   | 0   |\n",
       "| 21 | 0   | 0   | 0   | 0   | 0   | 0   | 0   | 0   | 0   | 0   | ... | 0   | 0   | 0   | 0   | 0   | 0   | 0   | 1   | 0   | 0   |\n",
       "| 22 | 0   | 0   | 0   | 0   | 0   | 0   | 0   | 0   | 0   | 0   | ... | 0   | 0   | 0   | 0   | 0   | 0   | 0   | 0   | 1   | 0   |\n",
       "| 23 | 0   | 0   | 0   | 0   | 0   | 0   | 0   | 0   | 0   | 0   | ... | 0   | 0   | 0   | 0   | 0   | 0   | 0   | 0   | 0   | 1   |\n",
       "\n"
      ],
      "text/plain": [
       "   2 3 4 5 6 7 8 9 10 11 ... 15 16 17 18 19 20 21 22 23 24\n",
       "0  0 0 0 0 0 0 0 0 0  0  ... 0  0  0  0  0  0  0  0  0  0 \n",
       "1  1 0 0 0 0 0 0 0 0  0  ... 0  0  0  0  0  0  0  0  0  0 \n",
       "2  0 1 0 0 0 0 0 0 0  0  ... 0  0  0  0  0  0  0  0  0  0 \n",
       "3  0 0 1 0 0 0 0 0 0  0  ... 0  0  0  0  0  0  0  0  0  0 \n",
       "4  0 0 0 1 0 0 0 0 0  0  ... 0  0  0  0  0  0  0  0  0  0 \n",
       "5  0 0 0 0 1 0 0 0 0  0  ... 0  0  0  0  0  0  0  0  0  0 \n",
       "6  0 0 0 0 0 1 0 0 0  0  ... 0  0  0  0  0  0  0  0  0  0 \n",
       "7  0 0 0 0 0 0 1 0 0  0  ... 0  0  0  0  0  0  0  0  0  0 \n",
       "8  0 0 0 0 0 0 0 1 0  0  ... 0  0  0  0  0  0  0  0  0  0 \n",
       "9  0 0 0 0 0 0 0 0 1  0  ... 0  0  0  0  0  0  0  0  0  0 \n",
       "10 0 0 0 0 0 0 0 0 0  1  ... 0  0  0  0  0  0  0  0  0  0 \n",
       "11 0 0 0 0 0 0 0 0 0  0  ... 0  0  0  0  0  0  0  0  0  0 \n",
       "12 0 0 0 0 0 0 0 0 0  0  ... 0  0  0  0  0  0  0  0  0  0 \n",
       "13 0 0 0 0 0 0 0 0 0  0  ... 0  0  0  0  0  0  0  0  0  0 \n",
       "14 0 0 0 0 0 0 0 0 0  0  ... 1  0  0  0  0  0  0  0  0  0 \n",
       "15 0 0 0 0 0 0 0 0 0  0  ... 0  1  0  0  0  0  0  0  0  0 \n",
       "16 0 0 0 0 0 0 0 0 0  0  ... 0  0  1  0  0  0  0  0  0  0 \n",
       "17 0 0 0 0 0 0 0 0 0  0  ... 0  0  0  1  0  0  0  0  0  0 \n",
       "18 0 0 0 0 0 0 0 0 0  0  ... 0  0  0  0  1  0  0  0  0  0 \n",
       "19 0 0 0 0 0 0 0 0 0  0  ... 0  0  0  0  0  1  0  0  0  0 \n",
       "20 0 0 0 0 0 0 0 0 0  0  ... 0  0  0  0  0  0  1  0  0  0 \n",
       "21 0 0 0 0 0 0 0 0 0  0  ... 0  0  0  0  0  0  0  1  0  0 \n",
       "22 0 0 0 0 0 0 0 0 0  0  ... 0  0  0  0  0  0  0  0  1  0 \n",
       "23 0 0 0 0 0 0 0 0 0  0  ... 0  0  0  0  0  0  0  0  0  1 "
      ]
     },
     "metadata": {},
     "output_type": "display_data"
    }
   ],
   "source": [
    "contrasts(Bikeshare$mnth) <- contr.treatment(12)\n",
    "\n",
    "contrasts(Bikeshare$hr) <- contr.treatment(24)\n",
    "\n",
    "contrasts(Bikeshare$mnth)\n",
    "\n",
    "contrasts(Bikeshare$hr)"
   ]
  },
  {
   "cell_type": "code",
   "execution_count": 189,
   "metadata": {},
   "outputs": [
    {
     "name": "stderr",
     "output_type": "stream",
     "text": [
      "Warning message in summary.lm(lin_reg_fit):\n",
      "\"essentially perfect fit: summary may be unreliable\""
     ]
    },
    {
     "data": {
      "text/plain": [
       "\n",
       "Call:\n",
       "lm(formula = bikers ~ ., data = Bikeshare)\n",
       "\n",
       "Residuals:\n",
       "       Min         1Q     Median         3Q        Max \n",
       "-4.188e-12 -2.170e-14 -1.100e-15  2.040e-14  4.427e-12 \n",
       "\n",
       "Coefficients:\n",
       "                            Estimate Std. Error    t value Pr(>|t|)    \n",
       "(Intercept)                9.284e-14  9.959e-15  9.322e+00  < 2e-16 ***\n",
       "season                    -2.254e-14  2.364e-15 -9.532e+00  < 2e-16 ***\n",
       "mnth2                      3.002e-15  6.909e-15  4.340e-01 0.663938    \n",
       "mnth3                      2.052e-14  9.518e-15  2.156e+00 0.031142 *  \n",
       "mnth4                      4.717e-15  1.332e-14  3.540e-01 0.723195    \n",
       "mnth5                     -3.590e-14  1.699e-14 -2.113e+00 0.034625 *  \n",
       "mnth6                      9.765e-15  2.093e-14  4.670e-01 0.640775    \n",
       "mnth7                     -6.135e-14  2.495e-14 -2.459e+00 0.013943 *  \n",
       "mnth8                      1.075e-13  2.841e-14  3.783e+00 0.000156 ***\n",
       "mnth9                      1.574e-13  3.211e-14  4.901e+00 9.69e-07 ***\n",
       "mnth10                     5.883e-15  3.618e-14  1.630e-01 0.870847    \n",
       "mnth11                     2.058e-14  3.999e-14  5.150e-01 0.606754    \n",
       "mnth12                     1.518e-14  4.348e-14  3.490e-01 0.726935    \n",
       "day                       -1.494e-16  1.285e-16 -1.163e+00 0.244899    \n",
       "hr2                       -9.765e-14  7.743e-15 -1.261e+01  < 2e-16 ***\n",
       "hr3                       -1.145e-13  7.794e-15 -1.469e+01  < 2e-16 ***\n",
       "hr4                        7.180e-15  7.863e-15  9.130e-01 0.361214    \n",
       "hr5                       -7.558e-15  7.903e-15 -9.560e-01 0.338956    \n",
       "hr6                       -8.144e-14  7.804e-15 -1.044e+01  < 2e-16 ***\n",
       "hr7                       -2.199e-14  7.772e-15 -2.829e+00 0.004681 ** \n",
       "hr8                       -7.007e-14  8.061e-15 -8.693e+00  < 2e-16 ***\n",
       "hr9                       -1.701e-13  8.718e-15 -1.952e+01  < 2e-16 ***\n",
       "hr10                      -1.047e-13  7.979e-15 -1.312e+01  < 2e-16 ***\n",
       "hr11                      -6.138e-14  7.886e-15 -7.784e+00 7.86e-15 ***\n",
       "hr12                      -3.322e-14  7.990e-15 -4.157e+00 3.25e-05 ***\n",
       "hr13                       9.672e-15  8.135e-15  1.189e+00 0.234524    \n",
       "hr14                      -2.337e-15  8.190e-15 -2.850e-01 0.775431    \n",
       "hr15                      -5.839e-14  8.215e-15 -7.108e+00 1.27e-12 ***\n",
       "hr16                      -5.868e-14  8.228e-15 -7.132e+00 1.07e-12 ***\n",
       "hr17                      -8.733e-14  8.351e-15 -1.046e+01  < 2e-16 ***\n",
       "hr18                       2.208e-15  9.078e-15  2.430e-01 0.807873    \n",
       "hr19                      -2.036e-13  8.890e-15 -2.290e+01  < 2e-16 ***\n",
       "hr20                      -1.718e-13  8.295e-15 -2.071e+01  < 2e-16 ***\n",
       "hr21                      -1.131e-13  7.995e-15 -1.414e+01  < 2e-16 ***\n",
       "hr22                      -1.870e-14  7.852e-15 -2.382e+00 0.017242 *  \n",
       "hr23                       3.437e-15  7.782e-15  4.420e-01 0.658719    \n",
       "hr24                       1.125e-14  7.737e-15  1.454e+00 0.146007    \n",
       "holiday                    5.813e-16  7.163e-15  8.100e-02 0.935318    \n",
       "weekday                    1.059e-15  5.650e-16  1.874e+00 0.060987 .  \n",
       "workingday                -2.746e-14  3.021e-15 -9.089e+00  < 2e-16 ***\n",
       "weathersitcloudy/misty    -4.728e-15  2.823e-15 -1.675e+00 0.093986 .  \n",
       "weathersitlight rain/snow -1.379e-14  4.564e-15 -3.022e+00 0.002520 ** \n",
       "weathersitheavy rain/snow -9.300e-14  1.042e-13 -8.920e-01 0.372358    \n",
       "temp                       1.552e-13  5.314e-14  2.921e+00 0.003496 ** \n",
       "atemp                     -1.199e-13  5.591e-14 -2.145e+00 0.031985 *  \n",
       "hum                        3.419e-14  8.032e-15  4.257e+00 2.09e-05 ***\n",
       "windspeed                 -3.705e-14  1.045e-14 -3.546e+00 0.000393 ***\n",
       "casual                     1.000e+00  4.865e-17  2.055e+16  < 2e-16 ***\n",
       "registered                 1.000e+00  1.984e-17  5.040e+16  < 2e-16 ***\n",
       "---\n",
       "Signif. codes:  0 '***' 0.001 '**' 0.01 '*' 0.05 '.' 0.1 ' ' 1\n",
       "\n",
       "Residual standard error: 1.039e-13 on 8596 degrees of freedom\n",
       "Multiple R-squared:      1,\tAdjusted R-squared:      1 \n",
       "F-statistic: 2.986e+32 on 48 and 8596 DF,  p-value: < 2.2e-16\n"
      ]
     },
     "metadata": {},
     "output_type": "display_data"
    }
   ],
   "source": [
    "# Fit the linear regression model\n",
    "lin_reg_fit <- lm(bikers ~ ., data = Bikeshare)\n",
    "\n",
    "# Get the summary\n",
    "summary(lin_reg_fit)"
   ]
  },
  {
   "cell_type": "code",
   "execution_count": 188,
   "metadata": {},
   "outputs": [
    {
     "data": {
      "text/plain": [
       "\n",
       "Call:\n",
       "lm(formula = bikers ~ mnth + hr + workingday + temp + weathersit, \n",
       "    data = Bikeshare)\n",
       "\n",
       "Residuals:\n",
       "    Min      1Q  Median      3Q     Max \n",
       "-299.00  -45.70   -6.23   41.08  425.29 \n",
       "\n",
       "Coefficients:\n",
       "                          Estimate Std. Error t value Pr(>|t|)    \n",
       "(Intercept)                -68.632      5.307 -12.932  < 2e-16 ***\n",
       "mnth2                        6.845      4.287   1.597 0.110398    \n",
       "mnth3                       16.551      4.301   3.848 0.000120 ***\n",
       "mnth4                       41.425      4.972   8.331  < 2e-16 ***\n",
       "mnth5                       72.557      5.641  12.862  < 2e-16 ***\n",
       "mnth6                       67.819      6.544  10.364  < 2e-16 ***\n",
       "mnth7                       45.324      7.081   6.401 1.63e-10 ***\n",
       "mnth8                       53.243      6.640   8.019 1.21e-15 ***\n",
       "mnth9                       66.678      5.925  11.254  < 2e-16 ***\n",
       "mnth10                      75.834      4.950  15.319  < 2e-16 ***\n",
       "mnth11                      60.310      4.610  13.083  < 2e-16 ***\n",
       "mnth12                      46.458      4.271  10.878  < 2e-16 ***\n",
       "hr2                        -14.579      5.699  -2.558 0.010536 *  \n",
       "hr3                        -21.579      5.733  -3.764 0.000168 ***\n",
       "hr4                        -31.141      5.778  -5.389 7.26e-08 ***\n",
       "hr5                        -36.908      5.802  -6.361 2.11e-10 ***\n",
       "hr6                        -24.135      5.737  -4.207 2.61e-05 ***\n",
       "hr7                         20.600      5.704   3.612 0.000306 ***\n",
       "hr8                        120.093      5.693  21.095  < 2e-16 ***\n",
       "hr9                        223.662      5.690  39.310  < 2e-16 ***\n",
       "hr10                       120.582      5.693  21.182  < 2e-16 ***\n",
       "hr11                        83.801      5.705  14.689  < 2e-16 ***\n",
       "hr12                       105.423      5.722  18.424  < 2e-16 ***\n",
       "hr13                       137.284      5.740  23.916  < 2e-16 ***\n",
       "hr14                       136.036      5.760  23.617  < 2e-16 ***\n",
       "hr15                       126.636      5.776  21.923  < 2e-16 ***\n",
       "hr16                       132.087      5.780  22.852  < 2e-16 ***\n",
       "hr17                       178.521      5.772  30.927  < 2e-16 ***\n",
       "hr18                       296.267      5.749  51.537  < 2e-16 ***\n",
       "hr19                       269.441      5.736  46.976  < 2e-16 ***\n",
       "hr20                       186.256      5.714  32.596  < 2e-16 ***\n",
       "hr21                       125.549      5.704  22.012  < 2e-16 ***\n",
       "hr22                        87.554      5.693  15.378  < 2e-16 ***\n",
       "hr23                        59.123      5.689  10.392  < 2e-16 ***\n",
       "hr24                        26.838      5.688   4.719 2.41e-06 ***\n",
       "workingday                   1.270      1.784   0.711 0.476810    \n",
       "temp                       157.209     10.261  15.321  < 2e-16 ***\n",
       "weathersitcloudy/misty     -12.890      1.964  -6.562 5.60e-11 ***\n",
       "weathersitlight rain/snow  -66.494      2.965 -22.425  < 2e-16 ***\n",
       "weathersitheavy rain/snow -109.745     76.667  -1.431 0.152341    \n",
       "---\n",
       "Signif. codes:  0 '***' 0.001 '**' 0.01 '*' 0.05 '.' 0.1 ' ' 1\n",
       "\n",
       "Residual standard error: 76.5 on 8605 degrees of freedom\n",
       "Multiple R-squared:  0.6745,\tAdjusted R-squared:  0.6731 \n",
       "F-statistic: 457.3 on 39 and 8605 DF,  p-value: < 2.2e-16\n"
      ]
     },
     "metadata": {},
     "output_type": "display_data"
    }
   ],
   "source": [
    "# Fit the linear regression model\n",
    "lin_reg_fit <- lm(bikers ~ mnth + hr + workingday + temp +\n",
    "weathersit, data = Bikeshare)\n",
    "\n",
    "# Get the summary\n",
    "summary(lin_reg_fit)\n"
   ]
  },
  {
   "cell_type": "markdown",
   "metadata": {},
   "source": [
    "Due to space constraints, we truncate the output of summary(lin_reg_fit). In\n",
    "mod.lm, the first level of hr (0) and mnth (Jan) are treated as the baseline\n",
    "values, and so no coefficient estimates are provided for them: implicitly,\n",
    "their coefficient estimates are zero, and all other levels are measured relative\n",
    "to these baselines. For example, the Feb coefficient of 6.845 signifies that,\n",
    "holding all other variables constant, there are on average about 7 more\n",
    "riders in February than in January. Similarly there are about 16.5 more\n",
    "riders in March than in January."
   ]
  },
  {
   "cell_type": "code",
   "execution_count": 182,
   "metadata": {},
   "outputs": [
    {
     "data": {
      "text/plain": [
       "\n",
       "Call:\n",
       "lm(formula = bikers ~ mnth + hr + workingday + temp + weathersit, \n",
       "    data = Bikeshare)\n",
       "\n",
       "Residuals:\n",
       "    Min      1Q  Median      3Q     Max \n",
       "-299.00  -45.70   -6.23   41.08  425.29 \n",
       "\n",
       "Coefficients:\n",
       "                           Estimate Std. Error t value Pr(>|t|)    \n",
       "(Intercept)                 73.5974     5.1322  14.340  < 2e-16 ***\n",
       "mnth1                      -46.0871     4.0855 -11.281  < 2e-16 ***\n",
       "mnth2                      -39.2419     3.5391 -11.088  < 2e-16 ***\n",
       "mnth3                      -29.5357     3.1552  -9.361  < 2e-16 ***\n",
       "mnth4                       -4.6622     2.7406  -1.701  0.08895 .  \n",
       "mnth5                       26.4700     2.8508   9.285  < 2e-16 ***\n",
       "mnth6                       21.7317     3.4651   6.272 3.75e-10 ***\n",
       "mnth7                       -0.7626     3.9084  -0.195  0.84530    \n",
       "mnth8                        7.1560     3.5347   2.024  0.04295 *  \n",
       "mnth9                       20.5912     3.0456   6.761 1.46e-11 ***\n",
       "mnth10                      29.7472     2.6995  11.019  < 2e-16 ***\n",
       "mnth11                      14.2229     2.8604   4.972 6.74e-07 ***\n",
       "hr1                        -96.1420     3.9554 -24.307  < 2e-16 ***\n",
       "hr2                       -110.7213     3.9662 -27.916  < 2e-16 ***\n",
       "hr3                       -117.7212     4.0165 -29.310  < 2e-16 ***\n",
       "hr4                       -127.2828     4.0808 -31.191  < 2e-16 ***\n",
       "hr5                       -133.0495     4.1168 -32.319  < 2e-16 ***\n",
       "hr6                       -120.2775     4.0370 -29.794  < 2e-16 ***\n",
       "hr7                        -75.5424     3.9916 -18.925  < 2e-16 ***\n",
       "hr8                         23.9511     3.9686   6.035 1.65e-09 ***\n",
       "hr9                        127.5199     3.9500  32.284  < 2e-16 ***\n",
       "hr10                        24.4399     3.9360   6.209 5.57e-10 ***\n",
       "hr11                       -12.3407     3.9361  -3.135  0.00172 ** \n",
       "hr12                         9.2814     3.9447   2.353  0.01865 *  \n",
       "hr13                        41.1417     3.9571  10.397  < 2e-16 ***\n",
       "hr14                        39.8939     3.9750  10.036  < 2e-16 ***\n",
       "hr15                        30.4940     3.9910   7.641 2.39e-14 ***\n",
       "hr16                        35.9445     3.9949   8.998  < 2e-16 ***\n",
       "hr17                        82.3786     3.9883  20.655  < 2e-16 ***\n",
       "hr18                       200.1249     3.9638  50.488  < 2e-16 ***\n",
       "hr19                       173.2989     3.9561  43.806  < 2e-16 ***\n",
       "hr20                        90.1138     3.9400  22.872  < 2e-16 ***\n",
       "hr21                        29.4071     3.9362   7.471 8.74e-14 ***\n",
       "hr22                        -8.5883     3.9332  -2.184  0.02902 *  \n",
       "hr23                       -37.0194     3.9344  -9.409  < 2e-16 ***\n",
       "workingday                   1.2696     1.7845   0.711  0.47681    \n",
       "temp                       157.2094    10.2612  15.321  < 2e-16 ***\n",
       "weathersitcloudy/misty     -12.8903     1.9643  -6.562 5.60e-11 ***\n",
       "weathersitlight rain/snow  -66.4944     2.9652 -22.425  < 2e-16 ***\n",
       "weathersitheavy rain/snow -109.7446    76.6674  -1.431  0.15234    \n",
       "---\n",
       "Signif. codes:  0 '***' 0.001 '**' 0.01 '*' 0.05 '.' 0.1 ' ' 1\n",
       "\n",
       "Residual standard error: 76.5 on 8605 degrees of freedom\n",
       "Multiple R-squared:  0.6745,\tAdjusted R-squared:  0.6731 \n",
       "F-statistic: 457.3 on 39 and 8605 DF,  p-value: < 2.2e-16\n"
      ]
     },
     "metadata": {},
     "output_type": "display_data"
    }
   ],
   "source": [
    "# Changing the baseline for coded variables\n",
    "contrasts(Bikeshare$hr) <- contr.sum(24)\n",
    "\n",
    "contrasts(Bikeshare$mnth) <- contr.sum(12)\n",
    "\n",
    "# Fit the linear regression model\n",
    "lin_reg_fit2 <- lm(bikers ~ mnth + hr + workingday + temp +\n",
    "weathersit, data = Bikeshare)\n",
    "\n",
    "# Get the summary\n",
    "summary(lin_reg_fit2)"
   ]
  },
  {
   "cell_type": "markdown",
   "metadata": {},
   "source": [
    "In lin_reg_fit2, a coefficient\n",
    "estimate is reported for all but the last level of hr and mnth. Importantly,\n",
    "in lin_reg_fit2, the coefficient estimate for the last level of mnth is not zero:\n",
    "instead, it equals the negative of the sum of the coefficient estimates for\n",
    "all of the other levels. Similarly, in mod.lm2, the coefficient estimate for the\n",
    "last level of hr is the negative of the sum of the coefficient estimates for\n",
    "all of the other levels. This means that the coefficients of hr and mnth in\n",
    "lin_reg_fit2 will always sum to zero, and can be interpreted as the difference\n",
    "from the mean level. For example, the coefficient for January of −46.087\n",
    "indicates that, holding all other variables constant, there are typically 46\n",
    "fewer riders in January relative to the yearly average."
   ]
  },
  {
   "cell_type": "code",
   "execution_count": 183,
   "metadata": {},
   "outputs": [
    {
     "data": {
      "text/plain": [
       "\n",
       "Call:\n",
       "glm(formula = bikers ~ mnth + hr + workingday + temp + weathersit, \n",
       "    family = poisson, data = Bikeshare)\n",
       "\n",
       "Deviance Residuals: \n",
       "     Min        1Q    Median        3Q       Max  \n",
       "-20.7574   -3.3441   -0.6549    2.6999   21.9628  \n",
       "\n",
       "Coefficients:\n",
       "                           Estimate Std. Error  z value Pr(>|z|)    \n",
       "(Intercept)                4.118245   0.006021  683.964  < 2e-16 ***\n",
       "mnth1                     -0.670170   0.005907 -113.445  < 2e-16 ***\n",
       "mnth2                     -0.444124   0.004860  -91.379  < 2e-16 ***\n",
       "mnth3                     -0.293733   0.004144  -70.886  < 2e-16 ***\n",
       "mnth4                      0.021523   0.003125    6.888 5.66e-12 ***\n",
       "mnth5                      0.240471   0.002916   82.462  < 2e-16 ***\n",
       "mnth6                      0.223235   0.003554   62.818  < 2e-16 ***\n",
       "mnth7                      0.103617   0.004125   25.121  < 2e-16 ***\n",
       "mnth8                      0.151171   0.003662   41.281  < 2e-16 ***\n",
       "mnth9                      0.233493   0.003102   75.281  < 2e-16 ***\n",
       "mnth10                     0.267573   0.002785   96.091  < 2e-16 ***\n",
       "mnth11                     0.150264   0.003180   47.248  < 2e-16 ***\n",
       "hr1                       -0.754386   0.007879  -95.744  < 2e-16 ***\n",
       "hr2                       -1.225979   0.009953 -123.173  < 2e-16 ***\n",
       "hr3                       -1.563147   0.011869 -131.702  < 2e-16 ***\n",
       "hr4                       -2.198304   0.016424 -133.846  < 2e-16 ***\n",
       "hr5                       -2.830484   0.022538 -125.586  < 2e-16 ***\n",
       "hr6                       -1.814657   0.013464 -134.775  < 2e-16 ***\n",
       "hr7                       -0.429888   0.006896  -62.341  < 2e-16 ***\n",
       "hr8                        0.575181   0.004406  130.544  < 2e-16 ***\n",
       "hr9                        1.076927   0.003563  302.220  < 2e-16 ***\n",
       "hr10                       0.581769   0.004286  135.727  < 2e-16 ***\n",
       "hr11                       0.336852   0.004720   71.372  < 2e-16 ***\n",
       "hr12                       0.494121   0.004392  112.494  < 2e-16 ***\n",
       "hr13                       0.679642   0.004069  167.040  < 2e-16 ***\n",
       "hr14                       0.673565   0.004089  164.722  < 2e-16 ***\n",
       "hr15                       0.624910   0.004178  149.570  < 2e-16 ***\n",
       "hr16                       0.653763   0.004132  158.205  < 2e-16 ***\n",
       "hr17                       0.874301   0.003784  231.040  < 2e-16 ***\n",
       "hr18                       1.294635   0.003254  397.848  < 2e-16 ***\n",
       "hr19                       1.212281   0.003321  365.084  < 2e-16 ***\n",
       "hr20                       0.914022   0.003700  247.065  < 2e-16 ***\n",
       "hr21                       0.616201   0.004191  147.045  < 2e-16 ***\n",
       "hr22                       0.364181   0.004659   78.173  < 2e-16 ***\n",
       "hr23                       0.117493   0.005225   22.488  < 2e-16 ***\n",
       "workingday                 0.014665   0.001955    7.502 6.27e-14 ***\n",
       "temp                       0.785292   0.011475   68.434  < 2e-16 ***\n",
       "weathersitcloudy/misty    -0.075231   0.002179  -34.528  < 2e-16 ***\n",
       "weathersitlight rain/snow -0.575800   0.004058 -141.905  < 2e-16 ***\n",
       "weathersitheavy rain/snow -0.926287   0.166782   -5.554 2.79e-08 ***\n",
       "---\n",
       "Signif. codes:  0 '***' 0.001 '**' 0.01 '*' 0.05 '.' 0.1 ' ' 1\n",
       "\n",
       "(Dispersion parameter for poisson family taken to be 1)\n",
       "\n",
       "    Null deviance: 1052921  on 8644  degrees of freedom\n",
       "Residual deviance:  228041  on 8605  degrees of freedom\n",
       "AIC: 281159\n",
       "\n",
       "Number of Fisher Scoring iterations: 5\n"
      ]
     },
     "metadata": {},
     "output_type": "display_data"
    }
   ],
   "source": [
    "# Fitting a Poisson Regression\n",
    "\n",
    "pois_reg_fit <- glm(bikers ∼ mnth + hr + workingday + temp + weathersit,\n",
    "data = Bikeshare, family = poisson)\n",
    "\n",
    "summary(pois_reg_fit)"
   ]
  },
  {
   "cell_type": "code",
   "execution_count": 184,
   "metadata": {},
   "outputs": [
    {
     "data": {
      "image/png": "[encoded data removed]",
      "text/plain": [
       "plot without title"
      ]
     },
     "metadata": {},
     "output_type": "display_data"
    }
   ],
   "source": [
    "plot(predict(lin_reg_fit2), predict(pois_reg_fit, type = \"response\"))\n",
    "\n",
    "abline(0, 1, col = 2, lwd = 3)"
   ]
  },
  {
   "cell_type": "markdown",
   "metadata": {},
   "source": [
    "> The predictions from the Poisson regression model are correlated with those\n",
    "from the linear model; however, the former are non-negative. As a result\n",
    "the Poisson regression predictions tend to be larger than those from the\n",
    "linear model for either very low or very high levels of ridership."
   ]
  },
  {
   "cell_type": "code",
   "execution_count": null,
   "metadata": {},
   "outputs": [],
   "source": []
  }
 ],
 "metadata": {
  "kernelspec": {
   "display_name": "R",
   "language": "R",
   "name": "python397jvsc74a57bd015a99dc70f55bf54f5bf01a7bb523eaef6639a4e03a216c1285b710bbab4b128"
  },
  "language_info": {
   "codemirror_mode": "r",
   "file_extension": ".r",
   "mimetype": "text/x-r-source",
   "name": "R",
   "pygments_lexer": "r",
   "version": "3.6.1"
  },
  "orig_nbformat": 4
 },
 "nbformat": 4,
 "nbformat_minor": 2
}
