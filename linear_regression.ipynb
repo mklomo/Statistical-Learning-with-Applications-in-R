{
 "cells": [
  {
   "cell_type": "code",
   "execution_count": 22,
   "metadata": {
    "vscode": {
     "languageId": "r"
    }
   },
   "outputs": [],
   "source": [
    "# The library finction is usedto load libraries or group of functions\n",
    "# and datasets not included in the base R distribution\n",
    "library(MASS)\n",
    "library(ISLR2)\n"
   ]
  },
  {
   "cell_type": "markdown",
   "metadata": {},
   "source": [
    "## Simple Linear Regression\n",
    "\n",
    "The ISLR2 library contains the Boston data set, which records **medv** (median\n",
    "house value) for 506 census tracts in Boston. We will seek to predict\n",
    "medv using 12 predictors such as rm (average number of rooms per house),\n",
    "age (average age of houses), and lstat (percent of households with low\n",
    "socioeconomic status)."
   ]
  },
  {
   "cell_type": "code",
   "execution_count": 23,
   "metadata": {
    "vscode": {
     "languageId": "r"
    }
   },
   "outputs": [
    {
     "data": {
      "text/html": [
       "<table>\n",
       "<thead><tr><th scope=col>crim</th><th scope=col>zn</th><th scope=col>indus</th><th scope=col>chas</th><th scope=col>nox</th><th scope=col>rm</th><th scope=col>age</th><th scope=col>dis</th><th scope=col>rad</th><th scope=col>tax</th><th scope=col>ptratio</th><th scope=col>lstat</th><th scope=col>medv</th></tr></thead>\n",
       "<tbody>\n",
       "\t<tr><td>0.00632</td><td>18     </td><td>2.31   </td><td>0      </td><td>0.538  </td><td>6.575  </td><td>65.2   </td><td>4.0900 </td><td>1      </td><td>296    </td><td>15.3   </td><td>4.98   </td><td>24.0   </td></tr>\n",
       "\t<tr><td>0.02731</td><td> 0     </td><td>7.07   </td><td>0      </td><td>0.469  </td><td>6.421  </td><td>78.9   </td><td>4.9671 </td><td>2      </td><td>242    </td><td>17.8   </td><td>9.14   </td><td>21.6   </td></tr>\n",
       "\t<tr><td>0.02729</td><td> 0     </td><td>7.07   </td><td>0      </td><td>0.469  </td><td>7.185  </td><td>61.1   </td><td>4.9671 </td><td>2      </td><td>242    </td><td>17.8   </td><td>4.03   </td><td>34.7   </td></tr>\n",
       "\t<tr><td>0.03237</td><td> 0     </td><td>2.18   </td><td>0      </td><td>0.458  </td><td>6.998  </td><td>45.8   </td><td>6.0622 </td><td>3      </td><td>222    </td><td>18.7   </td><td>2.94   </td><td>33.4   </td></tr>\n",
       "\t<tr><td>0.06905</td><td> 0     </td><td>2.18   </td><td>0      </td><td>0.458  </td><td>7.147  </td><td>54.2   </td><td>6.0622 </td><td>3      </td><td>222    </td><td>18.7   </td><td>5.33   </td><td>36.2   </td></tr>\n",
       "\t<tr><td>0.02985</td><td> 0     </td><td>2.18   </td><td>0      </td><td>0.458  </td><td>6.430  </td><td>58.7   </td><td>6.0622 </td><td>3      </td><td>222    </td><td>18.7   </td><td>5.21   </td><td>28.7   </td></tr>\n",
       "</tbody>\n",
       "</table>\n"
      ],
      "text/latex": [
       "\\begin{tabular}{r|lllllllllllll}\n",
       " crim & zn & indus & chas & nox & rm & age & dis & rad & tax & ptratio & lstat & medv\\\\\n",
       "\\hline\n",
       "\t 0.00632 & 18      & 2.31    & 0       & 0.538   & 6.575   & 65.2    & 4.0900  & 1       & 296     & 15.3    & 4.98    & 24.0   \\\\\n",
       "\t 0.02731 &  0      & 7.07    & 0       & 0.469   & 6.421   & 78.9    & 4.9671  & 2       & 242     & 17.8    & 9.14    & 21.6   \\\\\n",
       "\t 0.02729 &  0      & 7.07    & 0       & 0.469   & 7.185   & 61.1    & 4.9671  & 2       & 242     & 17.8    & 4.03    & 34.7   \\\\\n",
       "\t 0.03237 &  0      & 2.18    & 0       & 0.458   & 6.998   & 45.8    & 6.0622  & 3       & 222     & 18.7    & 2.94    & 33.4   \\\\\n",
       "\t 0.06905 &  0      & 2.18    & 0       & 0.458   & 7.147   & 54.2    & 6.0622  & 3       & 222     & 18.7    & 5.33    & 36.2   \\\\\n",
       "\t 0.02985 &  0      & 2.18    & 0       & 0.458   & 6.430   & 58.7    & 6.0622  & 3       & 222     & 18.7    & 5.21    & 28.7   \\\\\n",
       "\\end{tabular}\n"
      ],
      "text/markdown": [
       "\n",
       "| crim | zn | indus | chas | nox | rm | age | dis | rad | tax | ptratio | lstat | medv |\n",
       "|---|---|---|---|---|---|---|---|---|---|---|---|---|\n",
       "| 0.00632 | 18      | 2.31    | 0       | 0.538   | 6.575   | 65.2    | 4.0900  | 1       | 296     | 15.3    | 4.98    | 24.0    |\n",
       "| 0.02731 |  0      | 7.07    | 0       | 0.469   | 6.421   | 78.9    | 4.9671  | 2       | 242     | 17.8    | 9.14    | 21.6    |\n",
       "| 0.02729 |  0      | 7.07    | 0       | 0.469   | 7.185   | 61.1    | 4.9671  | 2       | 242     | 17.8    | 4.03    | 34.7    |\n",
       "| 0.03237 |  0      | 2.18    | 0       | 0.458   | 6.998   | 45.8    | 6.0622  | 3       | 222     | 18.7    | 2.94    | 33.4    |\n",
       "| 0.06905 |  0      | 2.18    | 0       | 0.458   | 7.147   | 54.2    | 6.0622  | 3       | 222     | 18.7    | 5.33    | 36.2    |\n",
       "| 0.02985 |  0      | 2.18    | 0       | 0.458   | 6.430   | 58.7    | 6.0622  | 3       | 222     | 18.7    | 5.21    | 28.7    |\n",
       "\n"
      ],
      "text/plain": [
       "  crim    zn indus chas nox   rm    age  dis    rad tax ptratio lstat medv\n",
       "1 0.00632 18 2.31  0    0.538 6.575 65.2 4.0900 1   296 15.3    4.98  24.0\n",
       "2 0.02731  0 7.07  0    0.469 6.421 78.9 4.9671 2   242 17.8    9.14  21.6\n",
       "3 0.02729  0 7.07  0    0.469 7.185 61.1 4.9671 2   242 17.8    4.03  34.7\n",
       "4 0.03237  0 2.18  0    0.458 6.998 45.8 6.0622 3   222 18.7    2.94  33.4\n",
       "5 0.06905  0 2.18  0    0.458 7.147 54.2 6.0622 3   222 18.7    5.33  36.2\n",
       "6 0.02985  0 2.18  0    0.458 6.430 58.7 6.0622 3   222 18.7    5.21  28.7"
      ]
     },
     "metadata": {},
     "output_type": "display_data"
    },
    {
     "name": "stdout",
     "output_type": "stream",
     "text": [
      "Boston                  package:ISLR2                  R Documentation\n",
      "\n",
      "_\bB_\bo_\bs_\bt_\bo_\bn _\bD_\ba_\bt_\ba\n",
      "\n",
      "_\bD_\be_\bs_\bc_\br_\bi_\bp_\bt_\bi_\bo_\bn:\n",
      "\n",
      "     A data set containing housing values in 506 suburbs of Boston.\n",
      "\n",
      "_\bU_\bs_\ba_\bg_\be:\n",
      "\n",
      "     Boston\n",
      "     \n",
      "_\bF_\bo_\br_\bm_\ba_\bt:\n",
      "\n",
      "     A data frame with 506 rows and 13 variables.\n",
      "\n",
      "     'crim' per capita crime rate by town.\n",
      "\n",
      "     'zn' proportion of residential land zoned for lots over 25,000\n",
      "          sq.ft.\n",
      "\n",
      "     'indus' proportion of non-retail business acres per town.\n",
      "\n",
      "     'chas' Charles River dummy variable (= 1 if tract bounds river; 0\n",
      "          otherwise).\n",
      "\n",
      "     'nox' nitrogen oxides concentration (parts per 10 million).\n",
      "\n",
      "     'rm' average number of rooms per dwelling.\n",
      "\n",
      "     'age' proportion of owner-occupied units built prior to 1940.\n",
      "\n",
      "     'dis' weighted mean of distances to five Boston employment\n",
      "          centres.\n",
      "\n",
      "     'rad' index of accessibility to radial highways.\n",
      "\n",
      "     'tax' full-value property-tax rate per $10,000.\n",
      "\n",
      "     'ptratio' pupil-teacher ratio by town.\n",
      "\n",
      "     'lstat' lower status of the population (percent).\n",
      "\n",
      "     'medv' median value of owner-occupied homes in $1000s.\n",
      "\n",
      "_\bS_\bo_\bu_\br_\bc_\be:\n",
      "\n",
      "     This dataset was obtained from, and is slightly modified from, the\n",
      "     Boston dataset that is part of the MASS library.  References are\n",
      "     available in the MASS library.\n",
      "\n",
      "_\bR_\be_\bf_\be_\br_\be_\bn_\bc_\be_\bs:\n",
      "\n",
      "     James, G., Witten, D., Hastie, T., and Tibshirani, R. (2013) _An\n",
      "     Introduction to Statistical Learning with applications in R_,\n",
      "     <URL: https://www.statlearning.com>, Springer-Verlag, New York\n",
      "\n",
      "_\bE_\bx_\ba_\bm_\bp_\bl_\be_\bs:\n",
      "\n",
      "     lm(medv ~ crim + rm, data=Boston)\n",
      "     "
     ]
    }
   ],
   "source": [
    "# Lets get a sample of the medv data\n",
    "\n",
    "head(Boston)\n",
    "\n",
    "# Find out more about the Boston Dataset\n",
    "\n",
    "?Boston"
   ]
  },
  {
   "cell_type": "markdown",
   "metadata": {},
   "source": [
    "We will start by using the function to fit a simple linear regression model, with as the response and\n",
    "as the predictor. The basic medv lstat syntax is **lm(y ~ x, data)**, where y is the response, x\n",
    "is the predictor, and is the data set in which these two variables are kept."
   ]
  },
  {
   "cell_type": "code",
   "execution_count": 24,
   "metadata": {
    "vscode": {
     "languageId": "r"
    }
   },
   "outputs": [
    {
     "data": {
      "text/plain": [
       "\n",
       "Call:\n",
       "lm(formula = medv ~ lstat, data = Boston)\n",
       "\n",
       "Residuals:\n",
       "    Min      1Q  Median      3Q     Max \n",
       "-15.168  -3.990  -1.318   2.034  24.500 \n",
       "\n",
       "Coefficients:\n",
       "            Estimate Std. Error t value Pr(>|t|)    \n",
       "(Intercept) 34.55384    0.56263   61.41   <2e-16 ***\n",
       "lstat       -0.95005    0.03873  -24.53   <2e-16 ***\n",
       "---\n",
       "Signif. codes:  0 '***' 0.001 '**' 0.01 '*' 0.05 '.' 0.1 ' ' 1\n",
       "\n",
       "Residual standard error: 6.216 on 504 degrees of freedom\n",
       "Multiple R-squared:  0.5441,\tAdjusted R-squared:  0.5432 \n",
       "F-statistic: 601.6 on 1 and 504 DF,  p-value: < 2.2e-16\n"
      ]
     },
     "metadata": {},
     "output_type": "display_data"
    }
   ],
   "source": [
    "# Call the Boston Dataset into yout workspace\n",
    "data(Boston)\n",
    "\n",
    "# Perform a linear regression on the Boston dataset\n",
    "lm_fit <- lm(medv ~ lstat, data = Boston)\n",
    "\n",
    "# Get a summary of the regression line\n",
    "summary(lm_fit)"
   ]
  },
  {
   "cell_type": "markdown",
   "metadata": {},
   "source": [
    "We can use the names() function in order to find out what other pieces of information are stored in lm.fit. Although we can extract these quantities by name—e.g. lm.fit$coefficients—it is safer to use the extractor functions like coef() to access them."
   ]
  },
  {
   "cell_type": "code",
   "execution_count": 25,
   "metadata": {
    "vscode": {
     "languageId": "r"
    }
   },
   "outputs": [
    {
     "data": {
      "text/html": [
       "<ol class=list-inline>\n",
       "\t<li>'coefficients'</li>\n",
       "\t<li>'residuals'</li>\n",
       "\t<li>'effects'</li>\n",
       "\t<li>'rank'</li>\n",
       "\t<li>'fitted.values'</li>\n",
       "\t<li>'assign'</li>\n",
       "\t<li>'qr'</li>\n",
       "\t<li>'df.residual'</li>\n",
       "\t<li>'xlevels'</li>\n",
       "\t<li>'call'</li>\n",
       "\t<li>'terms'</li>\n",
       "\t<li>'model'</li>\n",
       "</ol>\n"
      ],
      "text/latex": [
       "\\begin{enumerate*}\n",
       "\\item 'coefficients'\n",
       "\\item 'residuals'\n",
       "\\item 'effects'\n",
       "\\item 'rank'\n",
       "\\item 'fitted.values'\n",
       "\\item 'assign'\n",
       "\\item 'qr'\n",
       "\\item 'df.residual'\n",
       "\\item 'xlevels'\n",
       "\\item 'call'\n",
       "\\item 'terms'\n",
       "\\item 'model'\n",
       "\\end{enumerate*}\n"
      ],
      "text/markdown": [
       "1. 'coefficients'\n",
       "2. 'residuals'\n",
       "3. 'effects'\n",
       "4. 'rank'\n",
       "5. 'fitted.values'\n",
       "6. 'assign'\n",
       "7. 'qr'\n",
       "8. 'df.residual'\n",
       "9. 'xlevels'\n",
       "10. 'call'\n",
       "11. 'terms'\n",
       "12. 'model'\n",
       "\n",
       "\n"
      ],
      "text/plain": [
       " [1] \"coefficients\"  \"residuals\"     \"effects\"       \"rank\"         \n",
       " [5] \"fitted.values\" \"assign\"        \"qr\"            \"df.residual\"  \n",
       " [9] \"xlevels\"       \"call\"          \"terms\"         \"model\"        "
      ]
     },
     "metadata": {},
     "output_type": "display_data"
    },
    {
     "data": {
      "text/html": [
       "<dl class=dl-horizontal>\n",
       "\t<dt>(Intercept)</dt>\n",
       "\t\t<dd>34.5538408793831</dd>\n",
       "\t<dt>lstat</dt>\n",
       "\t\t<dd>-0.950049353757991</dd>\n",
       "</dl>\n"
      ],
      "text/latex": [
       "\\begin{description*}\n",
       "\\item[(Intercept)] 34.5538408793831\n",
       "\\item[lstat] -0.950049353757991\n",
       "\\end{description*}\n"
      ],
      "text/markdown": [
       "(Intercept)\n",
       ":   34.5538408793831lstat\n",
       ":   -0.950049353757991\n",
       "\n"
      ],
      "text/plain": [
       "(Intercept)       lstat \n",
       " 34.5538409  -0.9500494 "
      ]
     },
     "metadata": {},
     "output_type": "display_data"
    }
   ],
   "source": [
    "names(lm_fit)\n",
    "\n",
    "# Extrac coefficients \n",
    "coef(lm_fit)"
   ]
  },
  {
   "cell_type": "markdown",
   "metadata": {},
   "source": [
    "In order to obtain a confidence interval for the coefficient estimates, we can\n",
    "use the confint() command."
   ]
  },
  {
   "cell_type": "code",
   "execution_count": 26,
   "metadata": {
    "vscode": {
     "languageId": "r"
    }
   },
   "outputs": [
    {
     "data": {
      "text/html": [
       "<table>\n",
       "<thead><tr><th></th><th scope=col>2.5 %</th><th scope=col>97.5 %</th></tr></thead>\n",
       "<tbody>\n",
       "\t<tr><th scope=row>(Intercept)</th><td>33.448457 </td><td>35.6592247</td></tr>\n",
       "\t<tr><th scope=row>lstat</th><td>-1.026148 </td><td>-0.8739505</td></tr>\n",
       "</tbody>\n",
       "</table>\n"
      ],
      "text/latex": [
       "\\begin{tabular}{r|ll}\n",
       "  & 2.5 \\% & 97.5 \\%\\\\\n",
       "\\hline\n",
       "\t(Intercept) & 33.448457  & 35.6592247\\\\\n",
       "\tlstat & -1.026148  & -0.8739505\\\\\n",
       "\\end{tabular}\n"
      ],
      "text/markdown": [
       "\n",
       "| <!--/--> | 2.5 % | 97.5 % |\n",
       "|---|---|---|\n",
       "| (Intercept) | 33.448457  | 35.6592247 |\n",
       "| lstat | -1.026148  | -0.8739505 |\n",
       "\n"
      ],
      "text/plain": [
       "            2.5 %     97.5 %    \n",
       "(Intercept) 33.448457 35.6592247\n",
       "lstat       -1.026148 -0.8739505"
      ]
     },
     "metadata": {},
     "output_type": "display_data"
    }
   ],
   "source": [
    "confint(lm_fit)"
   ]
  },
  {
   "cell_type": "markdown",
   "metadata": {},
   "source": [
    "The predict() function can be used to produce confidence intervals and\n",
    "prediction intervals for the prediction of medv for a given value of lstat."
   ]
  },
  {
   "cell_type": "code",
   "execution_count": 27,
   "metadata": {
    "vscode": {
     "languageId": "r"
    }
   },
   "outputs": [
    {
     "data": {
      "text/html": [
       "<table>\n",
       "<thead><tr><th scope=col>fit</th><th scope=col>lwr</th><th scope=col>upr</th></tr></thead>\n",
       "<tbody>\n",
       "\t<tr><td>29.80359</td><td>29.00741</td><td>30.59978</td></tr>\n",
       "\t<tr><td>25.05335</td><td>24.47413</td><td>25.63256</td></tr>\n",
       "\t<tr><td>20.30310</td><td>19.73159</td><td>20.87461</td></tr>\n",
       "</tbody>\n",
       "</table>\n"
      ],
      "text/latex": [
       "\\begin{tabular}{r|lll}\n",
       " fit & lwr & upr\\\\\n",
       "\\hline\n",
       "\t 29.80359 & 29.00741 & 30.59978\\\\\n",
       "\t 25.05335 & 24.47413 & 25.63256\\\\\n",
       "\t 20.30310 & 19.73159 & 20.87461\\\\\n",
       "\\end{tabular}\n"
      ],
      "text/markdown": [
       "\n",
       "| fit | lwr | upr |\n",
       "|---|---|---|\n",
       "| 29.80359 | 29.00741 | 30.59978 |\n",
       "| 25.05335 | 24.47413 | 25.63256 |\n",
       "| 20.30310 | 19.73159 | 20.87461 |\n",
       "\n"
      ],
      "text/plain": [
       "  fit      lwr      upr     \n",
       "1 29.80359 29.00741 30.59978\n",
       "2 25.05335 24.47413 25.63256\n",
       "3 20.30310 19.73159 20.87461"
      ]
     },
     "metadata": {},
     "output_type": "display_data"
    }
   ],
   "source": [
    "# Confidence Intervals\n",
    "predict(lm_fit, data.frame(lstat = (c(5, 10, 15))), interval = \"confidence\")"
   ]
  },
  {
   "cell_type": "code",
   "execution_count": 28,
   "metadata": {
    "vscode": {
     "languageId": "r"
    }
   },
   "outputs": [
    {
     "data": {
      "text/html": [
       "<table>\n",
       "<thead><tr><th scope=col>fit</th><th scope=col>lwr</th><th scope=col>upr</th></tr></thead>\n",
       "<tbody>\n",
       "\t<tr><td>29.80359 </td><td>17.565675</td><td>42.04151 </td></tr>\n",
       "\t<tr><td>25.05335 </td><td>12.827626</td><td>37.27907 </td></tr>\n",
       "\t<tr><td>20.30310 </td><td> 8.077742</td><td>32.52846 </td></tr>\n",
       "</tbody>\n",
       "</table>\n"
      ],
      "text/latex": [
       "\\begin{tabular}{r|lll}\n",
       " fit & lwr & upr\\\\\n",
       "\\hline\n",
       "\t 29.80359  & 17.565675 & 42.04151 \\\\\n",
       "\t 25.05335  & 12.827626 & 37.27907 \\\\\n",
       "\t 20.30310  &  8.077742 & 32.52846 \\\\\n",
       "\\end{tabular}\n"
      ],
      "text/markdown": [
       "\n",
       "| fit | lwr | upr |\n",
       "|---|---|---|\n",
       "| 29.80359  | 17.565675 | 42.04151  |\n",
       "| 25.05335  | 12.827626 | 37.27907  |\n",
       "| 20.30310  |  8.077742 | 32.52846  |\n",
       "\n"
      ],
      "text/plain": [
       "  fit      lwr       upr     \n",
       "1 29.80359 17.565675 42.04151\n",
       "2 25.05335 12.827626 37.27907\n",
       "3 20.30310  8.077742 32.52846"
      ]
     },
     "metadata": {},
     "output_type": "display_data"
    }
   ],
   "source": [
    "# Prediction Interval\n",
    "predict(lm_fit, data.frame(lstat = (c(5, 10, 15))), interval = \"prediction\")"
   ]
  },
  {
   "cell_type": "markdown",
   "metadata": {},
   "source": [
    "For instance, the 95% confidence interval associated with a lstat value of\n",
    "10 is (24.47, 25.63), and the 95% prediction interval is (12.828, 37.28). As\n",
    "expected, the confidence and prediction intervals are centered around the\n",
    "same point (a predicted value of 25.05 for medv when lstat equals 10), but\n",
    "the latter are substantially wider.\n",
    "We will now plot medv and lstat along with the least squares regression\n",
    "line using the plot() and abline() functions."
   ]
  },
  {
   "cell_type": "code",
   "execution_count": 29,
   "metadata": {
    "vscode": {
     "languageId": "r"
    }
   },
   "outputs": [
    {
     "name": "stderr",
     "output_type": "stream",
     "text": [
      "The following objects are masked from Boston (pos = 6):\n",
      "\n",
      "    age, chas, crim, dis, indus, lstat, medv, nox, ptratio, rad, rm,\n",
      "    tax, zn\n",
      "\n"
     ]
    },
    {
     "data": {
      "image/png": "[encoded data removed]",
      "text/plain": [
       "plot without title"
      ]
     },
     "metadata": {},
     "output_type": "display_data"
    }
   ],
   "source": [
    "# Plot\n",
    "attach(Boston)\n",
    "plot(lstat, medv)\n",
    "\n",
    "# Draw the regression line\n",
    "abline(lm_fit, lwd = 3, col = \"red\")"
   ]
  },
  {
   "cell_type": "markdown",
   "metadata": {},
   "source": [
    "There is some evidence for non-linearity in the relationship between lstat\n",
    "and medv. We will explore this issue later in this lab.\n",
    "The abline() function can be used to draw any line, not just the least\n",
    "squares regression line. To draw a line with intercept a and slope b, we\n",
    "type abline(a, b). Below we experiment with some additional settings for\n",
    "plotting lines and points. The lwd = 3 command causes the width of the\n",
    "regression line to be increased by a factor of 3; this works for the plot() and\n",
    "lines() functions also. We can also use the pch option to create different\n",
    "plotting symbols."
   ]
  },
  {
   "cell_type": "markdown",
   "metadata": {},
   "source": [
    "We can achieve this by using the par() and mfrow() functions, which tell R, to split the display screen into separate panels so that multiple plots can be viewed simultaneously."
   ]
  },
  {
   "cell_type": "code",
   "execution_count": 30,
   "metadata": {
    "vscode": {
     "languageId": "r"
    }
   },
   "outputs": [
    {
     "data": {
      "image/png": "[encoded data removed]",
      "text/plain": [
       "Plot with title \"\""
      ]
     },
     "metadata": {},
     "output_type": "display_data"
    }
   ],
   "source": [
    "# Plot 4 graphs on the same diagram\n",
    "\n",
    "par(mfrow = c(2, 2))\n",
    "\n",
    "# Plot 1\n",
    "plot(lm_fit)\n"
   ]
  },
  {
   "cell_type": "markdown",
   "metadata": {},
   "source": [
    "On the basis of the residual plots, there is some evidence of non-linearity.\n",
    "Leverage statistics can be computed for any number of predictors using the\n",
    "hatvalues() function."
   ]
  },
  {
   "cell_type": "code",
   "execution_count": 31,
   "metadata": {
    "vscode": {
     "languageId": "r"
    }
   },
   "outputs": [
    {
     "data": {
      "text/html": [
       "<strong>375:</strong> 375"
      ],
      "text/latex": [
       "\\textbf{375:} 375"
      ],
      "text/markdown": [
       "**375:** 375"
      ],
      "text/plain": [
       "375 \n",
       "375 "
      ]
     },
     "metadata": {},
     "output_type": "display_data"
    },
    {
     "data": {
      "image/png": "[encoded data removed]",
      "text/plain": [
       "plot without title"
      ]
     },
     "metadata": {},
     "output_type": "display_data"
    }
   ],
   "source": [
    "plot(hatvalues(lm_fit))\n",
    "\n",
    "which.max(hatvalues(lm_fit))"
   ]
  },
  {
   "cell_type": "markdown",
   "metadata": {},
   "source": [
    "### Multiple Linear Regression\n",
    "\n",
    "In order to fit a multiple linear regression model using least squares, we\n",
    "again use the lm() function. The syntax lm(y ∼ x1 + x2 + x3) is used to\n",
    "fit a model with three predictors, x1, x2, and x3. The summary() function\n",
    "now outputs the regression coefficients for all the predictors."
   ]
  },
  {
   "cell_type": "code",
   "execution_count": 32,
   "metadata": {
    "vscode": {
     "languageId": "r"
    }
   },
   "outputs": [
    {
     "data": {
      "text/plain": [
       "\n",
       "Call:\n",
       "lm(formula = medv ~ lstat + age, data = Boston)\n",
       "\n",
       "Residuals:\n",
       "    Min      1Q  Median      3Q     Max \n",
       "-15.981  -3.978  -1.283   1.968  23.158 \n",
       "\n",
       "Coefficients:\n",
       "            Estimate Std. Error t value Pr(>|t|)    \n",
       "(Intercept) 33.22276    0.73085  45.458  < 2e-16 ***\n",
       "lstat       -1.03207    0.04819 -21.416  < 2e-16 ***\n",
       "age          0.03454    0.01223   2.826  0.00491 ** \n",
       "---\n",
       "Signif. codes:  0 '***' 0.001 '**' 0.01 '*' 0.05 '.' 0.1 ' ' 1\n",
       "\n",
       "Residual standard error: 6.173 on 503 degrees of freedom\n",
       "Multiple R-squared:  0.5513,\tAdjusted R-squared:  0.5495 \n",
       "F-statistic:   309 on 2 and 503 DF,  p-value: < 2.2e-16\n"
      ]
     },
     "metadata": {},
     "output_type": "display_data"
    }
   ],
   "source": [
    "# Multiple Linear Regression\n",
    "lm_fit <- lm(medv ~ lstat + age, data = Boston)\n",
    "\n",
    "# Get a summary of the data\n",
    "summary(lm_fit)"
   ]
  },
  {
   "cell_type": "markdown",
   "metadata": {},
   "source": [
    "The Boston data set contains 12 variables, and so it would be cumbersome\n",
    "to have to type all of these in order to perform a regression using all of the\n",
    "predictors. Instead, we can use the following short-hand:"
   ]
  },
  {
   "cell_type": "code",
   "execution_count": 33,
   "metadata": {
    "vscode": {
     "languageId": "r"
    }
   },
   "outputs": [
    {
     "data": {
      "text/plain": [
       "\n",
       "Call:\n",
       "lm(formula = medv ~ ., data = Boston)\n",
       "\n",
       "Residuals:\n",
       "     Min       1Q   Median       3Q      Max \n",
       "-15.1304  -2.7673  -0.5814   1.9414  26.2526 \n",
       "\n",
       "Coefficients:\n",
       "              Estimate Std. Error t value Pr(>|t|)    \n",
       "(Intercept)  41.617270   4.936039   8.431 3.79e-16 ***\n",
       "crim         -0.121389   0.033000  -3.678 0.000261 ***\n",
       "zn            0.046963   0.013879   3.384 0.000772 ***\n",
       "indus         0.013468   0.062145   0.217 0.828520    \n",
       "chas          2.839993   0.870007   3.264 0.001173 ** \n",
       "nox         -18.758022   3.851355  -4.870 1.50e-06 ***\n",
       "rm            3.658119   0.420246   8.705  < 2e-16 ***\n",
       "age           0.003611   0.013329   0.271 0.786595    \n",
       "dis          -1.490754   0.201623  -7.394 6.17e-13 ***\n",
       "rad           0.289405   0.066908   4.325 1.84e-05 ***\n",
       "tax          -0.012682   0.003801  -3.337 0.000912 ***\n",
       "ptratio      -0.937533   0.132206  -7.091 4.63e-12 ***\n",
       "lstat        -0.552019   0.050659 -10.897  < 2e-16 ***\n",
       "---\n",
       "Signif. codes:  0 '***' 0.001 '**' 0.01 '*' 0.05 '.' 0.1 ' ' 1\n",
       "\n",
       "Residual standard error: 4.798 on 493 degrees of freedom\n",
       "Multiple R-squared:  0.7343,\tAdjusted R-squared:  0.7278 \n",
       "F-statistic: 113.5 on 12 and 493 DF,  p-value: < 2.2e-16\n"
      ]
     },
     "metadata": {},
     "output_type": "display_data"
    }
   ],
   "source": [
    "lm_fit <- lm(medv ~ ., data = Boston)\n",
    "\n",
    "summary(lm_fit)"
   ]
  },
  {
   "cell_type": "markdown",
   "metadata": {},
   "source": [
    "We can access the individual components of a summary object by name (type ?summary.lm to see what is available). Hence summary(lm.fit)$r.sq gives us the R2, and summary(lm.fit)$sigma gives us the RSE. The vif()function, part of the car package, can be used to compute variance inflation factors. Most VIF’s are low to moderate for this data."
   ]
  },
  {
   "cell_type": "code",
   "execution_count": 34,
   "metadata": {
    "vscode": {
     "languageId": "r"
    }
   },
   "outputs": [
    {
     "data": {
      "text/html": [
       "<dl class=dl-horizontal>\n",
       "\t<dt>crim</dt>\n",
       "\t\t<dd>1.76748591543101</dd>\n",
       "\t<dt>zn</dt>\n",
       "\t\t<dd>2.2984589077358</dd>\n",
       "\t<dt>indus</dt>\n",
       "\t\t<dd>3.98718063075709</dd>\n",
       "\t<dt>chas</dt>\n",
       "\t\t<dd>1.0711677737584</dd>\n",
       "\t<dt>nox</dt>\n",
       "\t\t<dd>4.36909262284478</dd>\n",
       "\t<dt>rm</dt>\n",
       "\t\t<dd>1.91253243743688</dd>\n",
       "\t<dt>age</dt>\n",
       "\t\t<dd>3.08823203973119</dd>\n",
       "\t<dt>dis</dt>\n",
       "\t\t<dd>3.95403664162829</dd>\n",
       "\t<dt>rad</dt>\n",
       "\t\t<dd>7.44530076006982</dd>\n",
       "\t<dt>tax</dt>\n",
       "\t\t<dd>9.00215766347177</dd>\n",
       "\t<dt>ptratio</dt>\n",
       "\t\t<dd>1.79705959312978</dd>\n",
       "\t<dt>lstat</dt>\n",
       "\t\t<dd>2.87077650084174</dd>\n",
       "</dl>\n"
      ],
      "text/latex": [
       "\\begin{description*}\n",
       "\\item[crim] 1.76748591543101\n",
       "\\item[zn] 2.2984589077358\n",
       "\\item[indus] 3.98718063075709\n",
       "\\item[chas] 1.0711677737584\n",
       "\\item[nox] 4.36909262284478\n",
       "\\item[rm] 1.91253243743688\n",
       "\\item[age] 3.08823203973119\n",
       "\\item[dis] 3.95403664162829\n",
       "\\item[rad] 7.44530076006982\n",
       "\\item[tax] 9.00215766347177\n",
       "\\item[ptratio] 1.79705959312978\n",
       "\\item[lstat] 2.87077650084174\n",
       "\\end{description*}\n"
      ],
      "text/markdown": [
       "crim\n",
       ":   1.76748591543101zn\n",
       ":   2.2984589077358indus\n",
       ":   3.98718063075709chas\n",
       ":   1.0711677737584nox\n",
       ":   4.36909262284478rm\n",
       ":   1.91253243743688age\n",
       ":   3.08823203973119dis\n",
       ":   3.95403664162829rad\n",
       ":   7.44530076006982tax\n",
       ":   9.00215766347177ptratio\n",
       ":   1.79705959312978lstat\n",
       ":   2.87077650084174\n",
       "\n"
      ],
      "text/plain": [
       "    crim       zn    indus     chas      nox       rm      age      dis \n",
       "1.767486 2.298459 3.987181 1.071168 4.369093 1.912532 3.088232 3.954037 \n",
       "     rad      tax  ptratio    lstat \n",
       "7.445301 9.002158 1.797060 2.870777 "
      ]
     },
     "metadata": {},
     "output_type": "display_data"
    }
   ],
   "source": [
    "library(car)\n",
    "\n",
    "# Check for Multicollinearity\n",
    "vif(lm_fit)"
   ]
  },
  {
   "cell_type": "markdown",
   "metadata": {},
   "source": [
    "What if we would like to perform a regression using all of the variables but\n",
    "one? For example, in the above regression output, age has a high p-value.\n",
    "So we may wish to run a regression excluding this predictor. The following\n",
    "syntax results in a regression using all predictors except age."
   ]
  },
  {
   "cell_type": "code",
   "execution_count": 35,
   "metadata": {
    "vscode": {
     "languageId": "r"
    }
   },
   "outputs": [
    {
     "data": {
      "text/plain": [
       "\n",
       "Call:\n",
       "lm(formula = medv ~ . - age, data = Boston)\n",
       "\n",
       "Residuals:\n",
       "     Min       1Q   Median       3Q      Max \n",
       "-15.1851  -2.7330  -0.6116   1.8555  26.3838 \n",
       "\n",
       "Coefficients:\n",
       "              Estimate Std. Error t value Pr(>|t|)    \n",
       "(Intercept)  41.525128   4.919684   8.441 3.52e-16 ***\n",
       "crim         -0.121426   0.032969  -3.683 0.000256 ***\n",
       "zn            0.046512   0.013766   3.379 0.000785 ***\n",
       "indus         0.013451   0.062086   0.217 0.828577    \n",
       "chas          2.852773   0.867912   3.287 0.001085 ** \n",
       "nox         -18.485070   3.713714  -4.978 8.91e-07 ***\n",
       "rm            3.681070   0.411230   8.951  < 2e-16 ***\n",
       "dis          -1.506777   0.192570  -7.825 3.12e-14 ***\n",
       "rad           0.287940   0.066627   4.322 1.87e-05 ***\n",
       "tax          -0.012653   0.003796  -3.333 0.000923 ***\n",
       "ptratio      -0.934649   0.131653  -7.099 4.39e-12 ***\n",
       "lstat        -0.547409   0.047669 -11.483  < 2e-16 ***\n",
       "---\n",
       "Signif. codes:  0 '***' 0.001 '**' 0.01 '*' 0.05 '.' 0.1 ' ' 1\n",
       "\n",
       "Residual standard error: 4.794 on 494 degrees of freedom\n",
       "Multiple R-squared:  0.7343,\tAdjusted R-squared:  0.7284 \n",
       "F-statistic: 124.1 on 11 and 494 DF,  p-value: < 2.2e-16\n"
      ]
     },
     "metadata": {},
     "output_type": "display_data"
    }
   ],
   "source": [
    "# Regression line\n",
    "lm_fit_1 <- lm(medv ~ . - age, data = Boston)\n",
    "\n",
    "# Summary of Fit\n",
    "summary(lm_fit_1)"
   ]
  },
  {
   "cell_type": "markdown",
   "metadata": {},
   "source": [
    "### Interaction Terms\n",
    "\n",
    "It is easy to include interaction terms in a linear model using the lm()\n",
    "function. The syntax lstat:black tells R to include an interaction term between\n",
    "lstat and black. The syntax lstat * age simultaneously includes\n",
    "lstat, age, and the interaction term lstat×age as predictors; it is a shorthand\n",
    "for lstat + age + lstat:age."
   ]
  },
  {
   "cell_type": "code",
   "execution_count": 36,
   "metadata": {
    "vscode": {
     "languageId": "r"
    }
   },
   "outputs": [
    {
     "data": {
      "text/plain": [
       "\n",
       "Call:\n",
       "lm(formula = medv ~ lstat * age, data = Boston)\n",
       "\n",
       "Residuals:\n",
       "    Min      1Q  Median      3Q     Max \n",
       "-15.806  -4.045  -1.333   2.085  27.552 \n",
       "\n",
       "Coefficients:\n",
       "              Estimate Std. Error t value Pr(>|t|)    \n",
       "(Intercept) 36.0885359  1.4698355  24.553  < 2e-16 ***\n",
       "lstat       -1.3921168  0.1674555  -8.313 8.78e-16 ***\n",
       "age         -0.0007209  0.0198792  -0.036   0.9711    \n",
       "lstat:age    0.0041560  0.0018518   2.244   0.0252 *  \n",
       "---\n",
       "Signif. codes:  0 '***' 0.001 '**' 0.01 '*' 0.05 '.' 0.1 ' ' 1\n",
       "\n",
       "Residual standard error: 6.149 on 502 degrees of freedom\n",
       "Multiple R-squared:  0.5557,\tAdjusted R-squared:  0.5531 \n",
       "F-statistic: 209.3 on 3 and 502 DF,  p-value: < 2.2e-16\n"
      ]
     },
     "metadata": {},
     "output_type": "display_data"
    }
   ],
   "source": [
    "summary(lm(medv ~ lstat * age, data = Boston))"
   ]
  },
  {
   "cell_type": "markdown",
   "metadata": {},
   "source": [
    "### Non Linear Transformations\n",
    "\n",
    "The function can also accommodate non-linear transformations of the lm() X2\n",
    "predictors. For instance, given a predictor X, we can create a predictor using\n",
    "I(X^2)."
   ]
  },
  {
   "cell_type": "code",
   "execution_count": 37,
   "metadata": {
    "vscode": {
     "languageId": "r"
    }
   },
   "outputs": [
    {
     "data": {
      "text/plain": [
       "\n",
       "Call:\n",
       "lm(formula = medv ~ lstat + I(lstat^2))\n",
       "\n",
       "Residuals:\n",
       "     Min       1Q   Median       3Q      Max \n",
       "-15.2834  -3.8313  -0.5295   2.3095  25.4148 \n",
       "\n",
       "Coefficients:\n",
       "             Estimate Std. Error t value Pr(>|t|)    \n",
       "(Intercept) 42.862007   0.872084   49.15   <2e-16 ***\n",
       "lstat       -2.332821   0.123803  -18.84   <2e-16 ***\n",
       "I(lstat^2)   0.043547   0.003745   11.63   <2e-16 ***\n",
       "---\n",
       "Signif. codes:  0 '***' 0.001 '**' 0.01 '*' 0.05 '.' 0.1 ' ' 1\n",
       "\n",
       "Residual standard error: 5.524 on 503 degrees of freedom\n",
       "Multiple R-squared:  0.6407,\tAdjusted R-squared:  0.6393 \n",
       "F-statistic: 448.5 on 2 and 503 DF,  p-value: < 2.2e-16\n"
      ]
     },
     "metadata": {},
     "output_type": "display_data"
    }
   ],
   "source": [
    "lm_fit_2 <- lm(medv ~ lstat + I(lstat^2))\n",
    "\n",
    "summary(lm_fit_2)"
   ]
  },
  {
   "cell_type": "markdown",
   "metadata": {},
   "source": [
    "The near-zero p-value associated with the quadratic term suggests that\n",
    "it leads to an improved model. We use the anova() function to further\n",
    "anova() quantify the extent to which the quadratic fit is superior to the linear fit"
   ]
  },
  {
   "cell_type": "code",
   "execution_count": 38,
   "metadata": {
    "vscode": {
     "languageId": "r"
    }
   },
   "outputs": [
    {
     "data": {
      "text/html": [
       "<table>\n",
       "<thead><tr><th scope=col>Res.Df</th><th scope=col>RSS</th><th scope=col>Df</th><th scope=col>Sum of Sq</th><th scope=col>F</th><th scope=col>Pr(&gt;F)</th></tr></thead>\n",
       "<tbody>\n",
       "\t<tr><td>504         </td><td>19472.38    </td><td>NA          </td><td>      NA    </td><td>      NA    </td><td>          NA</td></tr>\n",
       "\t<tr><td>503         </td><td>15347.24    </td><td> 1          </td><td>4125.138    </td><td>135.1998    </td><td>7.630116e-28</td></tr>\n",
       "</tbody>\n",
       "</table>\n"
      ],
      "text/latex": [
       "\\begin{tabular}{r|llllll}\n",
       " Res.Df & RSS & Df & Sum of Sq & F & Pr(>F)\\\\\n",
       "\\hline\n",
       "\t 504          & 19472.38     & NA           &       NA     &       NA     &           NA\\\\\n",
       "\t 503          & 15347.24     &  1           & 4125.138     & 135.1998     & 7.630116e-28\\\\\n",
       "\\end{tabular}\n"
      ],
      "text/markdown": [
       "\n",
       "| Res.Df | RSS | Df | Sum of Sq | F | Pr(>F) |\n",
       "|---|---|---|---|---|---|\n",
       "| 504          | 19472.38     | NA           |       NA     |       NA     |           NA |\n",
       "| 503          | 15347.24     |  1           | 4125.138     | 135.1998     | 7.630116e-28 |\n",
       "\n"
      ],
      "text/plain": [
       "  Res.Df RSS      Df Sum of Sq F        Pr(>F)      \n",
       "1 504    19472.38 NA       NA        NA           NA\n",
       "2 503    15347.24  1 4125.138  135.1998 7.630116e-28"
      ]
     },
     "metadata": {},
     "output_type": "display_data"
    }
   ],
   "source": [
    "lm_fit_1 <- lm(medv ~ lstat, data = Boston)\n",
    "\n",
    "# Working with Anova\n",
    "anova(lm_fit_1, lm_fit_2)"
   ]
  },
  {
   "cell_type": "markdown",
   "metadata": {},
   "source": [
    "Here Model 1 represents the linear submodel containing only one predictor,\n",
    "lstat, while Model 2 corresponds to the larger quadratic model that has two\n",
    "predictors, lstat and lstat2. The anova() function performs a hypothesis\n",
    "test comparing the two models. The null hypothesis is that the two models\n",
    "fit the data equally well, and the alternative hypothesis is that the full\n",
    "model is superior. Here the F-statistic is 135 and the associated p-value is\n",
    "virtually zero. This provides very clear evidence that the model containing\n",
    "the predictors lstat and lstat2 is far superior to the model that only\n",
    "contains the predictor lstat. This is not surprising, since earlier we saw\n",
    "evidence for non-linearity in the relationship between medv and lstat."
   ]
  },
  {
   "cell_type": "markdown",
   "metadata": {},
   "source": [
    "### Qualitative Predictors\n",
    "\n",
    "The Carseats data includes qualitative predictors such as Shelveloc, an indicator\n",
    "of the quality of the shelving location—that is, the space within\n",
    "a store in which the car seat is displayed—at each location. The predictor\n",
    "Shelveloc takes on three possible values: Bad, Medium, and Good.\n",
    "Given a qualitative variable such as Shelveloc, R generates dummy variables\n",
    "automatically."
   ]
  },
  {
   "cell_type": "code",
   "execution_count": 39,
   "metadata": {
    "vscode": {
     "languageId": "r"
    }
   },
   "outputs": [
    {
     "data": {
      "text/html": [
       "<table>\n",
       "<thead><tr><th scope=col>Sales</th><th scope=col>CompPrice</th><th scope=col>Income</th><th scope=col>Advertising</th><th scope=col>Population</th><th scope=col>Price</th><th scope=col>ShelveLoc</th><th scope=col>Age</th><th scope=col>Education</th><th scope=col>Urban</th><th scope=col>US</th></tr></thead>\n",
       "<tbody>\n",
       "\t<tr><td> 9.50 </td><td>138   </td><td> 73   </td><td>11    </td><td>276   </td><td>120   </td><td>Bad   </td><td>42    </td><td>17    </td><td>Yes   </td><td>Yes   </td></tr>\n",
       "\t<tr><td>11.22 </td><td>111   </td><td> 48   </td><td>16    </td><td>260   </td><td> 83   </td><td>Good  </td><td>65    </td><td>10    </td><td>Yes   </td><td>Yes   </td></tr>\n",
       "\t<tr><td>10.06 </td><td>113   </td><td> 35   </td><td>10    </td><td>269   </td><td> 80   </td><td>Medium</td><td>59    </td><td>12    </td><td>Yes   </td><td>Yes   </td></tr>\n",
       "\t<tr><td> 7.40 </td><td>117   </td><td>100   </td><td> 4    </td><td>466   </td><td> 97   </td><td>Medium</td><td>55    </td><td>14    </td><td>Yes   </td><td>Yes   </td></tr>\n",
       "\t<tr><td> 4.15 </td><td>141   </td><td> 64   </td><td> 3    </td><td>340   </td><td>128   </td><td>Bad   </td><td>38    </td><td>13    </td><td>Yes   </td><td>No    </td></tr>\n",
       "\t<tr><td>10.81 </td><td>124   </td><td>113   </td><td>13    </td><td>501   </td><td> 72   </td><td>Bad   </td><td>78    </td><td>16    </td><td>No    </td><td>Yes   </td></tr>\n",
       "</tbody>\n",
       "</table>\n"
      ],
      "text/latex": [
       "\\begin{tabular}{r|lllllllllll}\n",
       " Sales & CompPrice & Income & Advertising & Population & Price & ShelveLoc & Age & Education & Urban & US\\\\\n",
       "\\hline\n",
       "\t  9.50  & 138    &  73    & 11     & 276    & 120    & Bad    & 42     & 17     & Yes    & Yes   \\\\\n",
       "\t 11.22  & 111    &  48    & 16     & 260    &  83    & Good   & 65     & 10     & Yes    & Yes   \\\\\n",
       "\t 10.06  & 113    &  35    & 10     & 269    &  80    & Medium & 59     & 12     & Yes    & Yes   \\\\\n",
       "\t  7.40  & 117    & 100    &  4     & 466    &  97    & Medium & 55     & 14     & Yes    & Yes   \\\\\n",
       "\t  4.15  & 141    &  64    &  3     & 340    & 128    & Bad    & 38     & 13     & Yes    & No    \\\\\n",
       "\t 10.81  & 124    & 113    & 13     & 501    &  72    & Bad    & 78     & 16     & No     & Yes   \\\\\n",
       "\\end{tabular}\n"
      ],
      "text/markdown": [
       "\n",
       "| Sales | CompPrice | Income | Advertising | Population | Price | ShelveLoc | Age | Education | Urban | US |\n",
       "|---|---|---|---|---|---|---|---|---|---|---|\n",
       "|  9.50  | 138    |  73    | 11     | 276    | 120    | Bad    | 42     | 17     | Yes    | Yes    |\n",
       "| 11.22  | 111    |  48    | 16     | 260    |  83    | Good   | 65     | 10     | Yes    | Yes    |\n",
       "| 10.06  | 113    |  35    | 10     | 269    |  80    | Medium | 59     | 12     | Yes    | Yes    |\n",
       "|  7.40  | 117    | 100    |  4     | 466    |  97    | Medium | 55     | 14     | Yes    | Yes    |\n",
       "|  4.15  | 141    |  64    |  3     | 340    | 128    | Bad    | 38     | 13     | Yes    | No     |\n",
       "| 10.81  | 124    | 113    | 13     | 501    |  72    | Bad    | 78     | 16     | No     | Yes    |\n",
       "\n"
      ],
      "text/plain": [
       "  Sales CompPrice Income Advertising Population Price ShelveLoc Age Education\n",
       "1  9.50 138        73    11          276        120   Bad       42  17       \n",
       "2 11.22 111        48    16          260         83   Good      65  10       \n",
       "3 10.06 113        35    10          269         80   Medium    59  12       \n",
       "4  7.40 117       100     4          466         97   Medium    55  14       \n",
       "5  4.15 141        64     3          340        128   Bad       38  13       \n",
       "6 10.81 124       113    13          501         72   Bad       78  16       \n",
       "  Urban US \n",
       "1 Yes   Yes\n",
       "2 Yes   Yes\n",
       "3 Yes   Yes\n",
       "4 Yes   Yes\n",
       "5 Yes   No \n",
       "6 No    Yes"
      ]
     },
     "metadata": {},
     "output_type": "display_data"
    }
   ],
   "source": [
    "# View the Carseats Data\n",
    "head(Carseats)"
   ]
  },
  {
   "cell_type": "code",
   "execution_count": 40,
   "metadata": {
    "vscode": {
     "languageId": "r"
    }
   },
   "outputs": [
    {
     "data": {
      "text/plain": [
       "\n",
       "Call:\n",
       "lm(formula = Sales ~ . + Income:Advertising + Price:Age, data = Carseats)\n",
       "\n",
       "Residuals:\n",
       "    Min      1Q  Median      3Q     Max \n",
       "-2.9208 -0.7503  0.0177  0.6754  3.3413 \n",
       "\n",
       "Coefficients:\n",
       "                     Estimate Std. Error t value Pr(>|t|)    \n",
       "(Intercept)         6.5755654  1.0087470   6.519 2.22e-10 ***\n",
       "CompPrice           0.0929371  0.0041183  22.567  < 2e-16 ***\n",
       "Income              0.0108940  0.0026044   4.183 3.57e-05 ***\n",
       "Advertising         0.0702462  0.0226091   3.107 0.002030 ** \n",
       "Population          0.0001592  0.0003679   0.433 0.665330    \n",
       "Price              -0.1008064  0.0074399 -13.549  < 2e-16 ***\n",
       "ShelveLocGood       4.8486762  0.1528378  31.724  < 2e-16 ***\n",
       "ShelveLocMedium     1.9532620  0.1257682  15.531  < 2e-16 ***\n",
       "Age                -0.0579466  0.0159506  -3.633 0.000318 ***\n",
       "Education          -0.0208525  0.0196131  -1.063 0.288361    \n",
       "UrbanYes            0.1401597  0.1124019   1.247 0.213171    \n",
       "USYes              -0.1575571  0.1489234  -1.058 0.290729    \n",
       "Income:Advertising  0.0007510  0.0002784   2.698 0.007290 ** \n",
       "Price:Age           0.0001068  0.0001333   0.801 0.423812    \n",
       "---\n",
       "Signif. codes:  0 '***' 0.001 '**' 0.01 '*' 0.05 '.' 0.1 ' ' 1\n",
       "\n",
       "Residual standard error: 1.011 on 386 degrees of freedom\n",
       "Multiple R-squared:  0.8761,\tAdjusted R-squared:  0.8719 \n",
       "F-statistic:   210 on 13 and 386 DF,  p-value: < 2.2e-16\n"
      ]
     },
     "metadata": {},
     "output_type": "display_data"
    }
   ],
   "source": [
    "# Perofrming regression on Car Seats Data\n",
    "\n",
    "lm_fit <- lm(Sales ~ . + Income:Advertising + Price:Age, data = Carseats)\n",
    "\n",
    "summary(lm_fit)"
   ]
  },
  {
   "cell_type": "markdown",
   "metadata": {},
   "source": [
    "The contrasts() function returns the coding that R uses for the dummy variables."
   ]
  },
  {
   "cell_type": "code",
   "execution_count": 41,
   "metadata": {
    "vscode": {
     "languageId": "r"
    }
   },
   "outputs": [
    {
     "name": "stderr",
     "output_type": "stream",
     "text": [
      "The following objects are masked from Carseats (pos = 4):\n",
      "\n",
      "    Advertising, Age, CompPrice, Education, Income, Population, Price,\n",
      "    Sales, ShelveLoc, Urban, US\n",
      "\n"
     ]
    },
    {
     "data": {
      "text/html": [
       "<table>\n",
       "<thead><tr><th></th><th scope=col>Good</th><th scope=col>Medium</th></tr></thead>\n",
       "<tbody>\n",
       "\t<tr><th scope=row>Bad</th><td>0</td><td>0</td></tr>\n",
       "\t<tr><th scope=row>Good</th><td>1</td><td>0</td></tr>\n",
       "\t<tr><th scope=row>Medium</th><td>0</td><td>1</td></tr>\n",
       "</tbody>\n",
       "</table>\n"
      ],
      "text/latex": [
       "\\begin{tabular}{r|ll}\n",
       "  & Good & Medium\\\\\n",
       "\\hline\n",
       "\tBad & 0 & 0\\\\\n",
       "\tGood & 1 & 0\\\\\n",
       "\tMedium & 0 & 1\\\\\n",
       "\\end{tabular}\n"
      ],
      "text/markdown": [
       "\n",
       "| <!--/--> | Good | Medium |\n",
       "|---|---|---|\n",
       "| Bad | 0 | 0 |\n",
       "| Good | 1 | 0 |\n",
       "| Medium | 0 | 1 |\n",
       "\n"
      ],
      "text/plain": [
       "       Good Medium\n",
       "Bad    0    0     \n",
       "Good   1    0     \n",
       "Medium 0    1     "
      ]
     },
     "metadata": {},
     "output_type": "display_data"
    }
   ],
   "source": [
    "attach(Carseats)\n",
    "contrasts(ShelveLoc)"
   ]
  },
  {
   "cell_type": "markdown",
   "metadata": {},
   "source": [
    "R has created a ShelveLocGood dummy variable that takes on a value of\n",
    "1 if the shelving location is good, and 0 otherwise. It has also created a\n",
    "ShelveLocMedium dummy variable that equals 1 if the shelving location is\n",
    "medium, and 0 otherwise. A bad shelving location corresponds to a zero\n",
    "for each of the two dummy variables. The fact that the coefficient for\n",
    "ShelveLocGood in the regression output is positive indicates that a good\n",
    "shelving location is associated with high sales (relative to a bad location).\n",
    "And ShelveLocMedium has a smaller positive coefficient, indicating that a\n",
    "medium shelving location is associated with higher sales than a bad shelving\n",
    "location but lower sales than a good shelving location."
   ]
  }
 ],
 "metadata": {
  "kernelspec": {
   "display_name": "R",
   "language": "R",
   "name": "ir"
  },
  "language_info": {
   "codemirror_mode": "r",
   "file_extension": ".r",
   "mimetype": "text/x-r-source",
   "name": "R",
   "pygments_lexer": "r",
   "version": "3.6.1"
  },
  "orig_nbformat": 4
 },
 "nbformat": 4,
 "nbformat_minor": 2
}
