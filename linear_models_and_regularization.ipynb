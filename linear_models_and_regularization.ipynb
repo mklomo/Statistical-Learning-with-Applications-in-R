{
 "cells": [
  {
   "cell_type": "code",
   "execution_count": 1,
   "metadata": {
    "vscode": {
     "languageId": "r"
    }
   },
   "outputs": [
    {
     "data": {
      "text/html": [
       "<ol class=list-inline>\n",
       "\t<li>'AtBat'</li>\n",
       "\t<li>'Hits'</li>\n",
       "\t<li>'HmRun'</li>\n",
       "\t<li>'Runs'</li>\n",
       "\t<li>'RBI'</li>\n",
       "\t<li>'Walks'</li>\n",
       "\t<li>'Years'</li>\n",
       "\t<li>'CAtBat'</li>\n",
       "\t<li>'CHits'</li>\n",
       "\t<li>'CHmRun'</li>\n",
       "\t<li>'CRuns'</li>\n",
       "\t<li>'CRBI'</li>\n",
       "\t<li>'CWalks'</li>\n",
       "\t<li>'League'</li>\n",
       "\t<li>'Division'</li>\n",
       "\t<li>'PutOuts'</li>\n",
       "\t<li>'Assists'</li>\n",
       "\t<li>'Errors'</li>\n",
       "\t<li>'Salary'</li>\n",
       "\t<li>'NewLeague'</li>\n",
       "</ol>\n"
      ],
      "text/latex": [
       "\\begin{enumerate*}\n",
       "\\item 'AtBat'\n",
       "\\item 'Hits'\n",
       "\\item 'HmRun'\n",
       "\\item 'Runs'\n",
       "\\item 'RBI'\n",
       "\\item 'Walks'\n",
       "\\item 'Years'\n",
       "\\item 'CAtBat'\n",
       "\\item 'CHits'\n",
       "\\item 'CHmRun'\n",
       "\\item 'CRuns'\n",
       "\\item 'CRBI'\n",
       "\\item 'CWalks'\n",
       "\\item 'League'\n",
       "\\item 'Division'\n",
       "\\item 'PutOuts'\n",
       "\\item 'Assists'\n",
       "\\item 'Errors'\n",
       "\\item 'Salary'\n",
       "\\item 'NewLeague'\n",
       "\\end{enumerate*}\n"
      ],
      "text/markdown": [
       "1. 'AtBat'\n",
       "2. 'Hits'\n",
       "3. 'HmRun'\n",
       "4. 'Runs'\n",
       "5. 'RBI'\n",
       "6. 'Walks'\n",
       "7. 'Years'\n",
       "8. 'CAtBat'\n",
       "9. 'CHits'\n",
       "10. 'CHmRun'\n",
       "11. 'CRuns'\n",
       "12. 'CRBI'\n",
       "13. 'CWalks'\n",
       "14. 'League'\n",
       "15. 'Division'\n",
       "16. 'PutOuts'\n",
       "17. 'Assists'\n",
       "18. 'Errors'\n",
       "19. 'Salary'\n",
       "20. 'NewLeague'\n",
       "\n",
       "\n"
      ],
      "text/plain": [
       " [1] \"AtBat\"     \"Hits\"      \"HmRun\"     \"Runs\"      \"RBI\"       \"Walks\"    \n",
       " [7] \"Years\"     \"CAtBat\"    \"CHits\"     \"CHmRun\"    \"CRuns\"     \"CRBI\"     \n",
       "[13] \"CWalks\"    \"League\"    \"Division\"  \"PutOuts\"   \"Assists\"   \"Errors\"   \n",
       "[19] \"Salary\"    \"NewLeague\""
      ]
     },
     "metadata": {},
     "output_type": "display_data"
    },
    {
     "data": {
      "text/html": [
       "<ol class=list-inline>\n",
       "\t<li>322</li>\n",
       "\t<li>20</li>\n",
       "</ol>\n"
      ],
      "text/latex": [
       "\\begin{enumerate*}\n",
       "\\item 322\n",
       "\\item 20\n",
       "\\end{enumerate*}\n"
      ],
      "text/markdown": [
       "1. 322\n",
       "2. 20\n",
       "\n",
       "\n"
      ],
      "text/plain": [
       "[1] 322  20"
      ]
     },
     "metadata": {},
     "output_type": "display_data"
    }
   ],
   "source": [
    "library(ISLR2)\n",
    "names(Hitters)\n",
    "\n",
    "dim(Hitters)"
   ]
  },
  {
   "cell_type": "code",
   "execution_count": 2,
   "metadata": {
    "vscode": {
     "languageId": "r"
    }
   },
   "outputs": [
    {
     "data": {
      "text/html": [
       "59"
      ],
      "text/latex": [
       "59"
      ],
      "text/markdown": [
       "59"
      ],
      "text/plain": [
       "[1] 59"
      ]
     },
     "metadata": {},
     "output_type": "display_data"
    }
   ],
   "source": [
    "# Check for missing values in the Salary df\n",
    "sum(is.na(Hitters$Salary))"
   ]
  },
  {
   "cell_type": "code",
   "execution_count": 3,
   "metadata": {
    "vscode": {
     "languageId": "r"
    }
   },
   "outputs": [
    {
     "data": {
      "text/html": [
       "<ol class=list-inline>\n",
       "\t<li>263</li>\n",
       "\t<li>20</li>\n",
       "</ol>\n"
      ],
      "text/latex": [
       "\\begin{enumerate*}\n",
       "\\item 263\n",
       "\\item 20\n",
       "\\end{enumerate*}\n"
      ],
      "text/markdown": [
       "1. 263\n",
       "2. 20\n",
       "\n",
       "\n"
      ],
      "text/plain": [
       "[1] 263  20"
      ]
     },
     "metadata": {},
     "output_type": "display_data"
    }
   ],
   "source": [
    "# Remove all rows with a missing Salary Value\n",
    "\n",
    "Hitters <- na.omit(Hitters)\n",
    "\n",
    "# Check the dimension of the new dataset\n",
    "dim(Hitters)"
   ]
  },
  {
   "cell_type": "code",
   "execution_count": 4,
   "metadata": {
    "vscode": {
     "languageId": "r"
    }
   },
   "outputs": [
    {
     "data": {
      "text/html": [
       "0"
      ],
      "text/latex": [
       "0"
      ],
      "text/markdown": [
       "0"
      ],
      "text/plain": [
       "[1] 0"
      ]
     },
     "metadata": {},
     "output_type": "display_data"
    }
   ],
   "source": [
    "# Check for anymore missing values\n",
    "\n",
    "sum(is.na(Hitters))"
   ]
  },
  {
   "cell_type": "markdown",
   "metadata": {},
   "source": [
    "The\n",
    "function (part of the\n",
    "library) performs best sub\n",
    "regsubsets()\n",
    "leaps\n",
    "regsubsets()\n",
    "set selection by identifying the best model that contains a given number\n",
    "of predictors, where best is quantified using RSS. The syntax is the same\n",
    "as for lm(). The\n",
    "command outputs the best set of variables for\n",
    "summary()\n",
    "each model size."
   ]
  },
  {
   "cell_type": "code",
   "execution_count": 5,
   "metadata": {
    "vscode": {
     "languageId": "r"
    }
   },
   "outputs": [
    {
     "name": "stderr",
     "output_type": "stream",
     "text": [
      "Warning message:\n",
      "\"package 'leaps' was built under R version 3.6.3\""
     ]
    },
    {
     "data": {
      "text/plain": [
       "Subset selection object\n",
       "Call: regsubsets.formula(Salary ~ ., data = Hitters)\n",
       "19 Variables  (and intercept)\n",
       "           Forced in Forced out\n",
       "AtBat          FALSE      FALSE\n",
       "Hits           FALSE      FALSE\n",
       "HmRun          FALSE      FALSE\n",
       "Runs           FALSE      FALSE\n",
       "RBI            FALSE      FALSE\n",
       "Walks          FALSE      FALSE\n",
       "Years          FALSE      FALSE\n",
       "CAtBat         FALSE      FALSE\n",
       "CHits          FALSE      FALSE\n",
       "CHmRun         FALSE      FALSE\n",
       "CRuns          FALSE      FALSE\n",
       "CRBI           FALSE      FALSE\n",
       "CWalks         FALSE      FALSE\n",
       "LeagueN        FALSE      FALSE\n",
       "DivisionW      FALSE      FALSE\n",
       "PutOuts        FALSE      FALSE\n",
       "Assists        FALSE      FALSE\n",
       "Errors         FALSE      FALSE\n",
       "NewLeagueN     FALSE      FALSE\n",
       "1 subsets of each size up to 8\n",
       "Selection Algorithm: exhaustive\n",
       "         AtBat Hits HmRun Runs RBI Walks Years CAtBat CHits CHmRun CRuns CRBI\n",
       "1  ( 1 ) \" \"   \" \"  \" \"   \" \"  \" \" \" \"   \" \"   \" \"    \" \"   \" \"    \" \"   \"*\" \n",
       "2  ( 1 ) \" \"   \"*\"  \" \"   \" \"  \" \" \" \"   \" \"   \" \"    \" \"   \" \"    \" \"   \"*\" \n",
       "3  ( 1 ) \" \"   \"*\"  \" \"   \" \"  \" \" \" \"   \" \"   \" \"    \" \"   \" \"    \" \"   \"*\" \n",
       "4  ( 1 ) \" \"   \"*\"  \" \"   \" \"  \" \" \" \"   \" \"   \" \"    \" \"   \" \"    \" \"   \"*\" \n",
       "5  ( 1 ) \"*\"   \"*\"  \" \"   \" \"  \" \" \" \"   \" \"   \" \"    \" \"   \" \"    \" \"   \"*\" \n",
       "6  ( 1 ) \"*\"   \"*\"  \" \"   \" \"  \" \" \"*\"   \" \"   \" \"    \" \"   \" \"    \" \"   \"*\" \n",
       "7  ( 1 ) \" \"   \"*\"  \" \"   \" \"  \" \" \"*\"   \" \"   \"*\"    \"*\"   \"*\"    \" \"   \" \" \n",
       "8  ( 1 ) \"*\"   \"*\"  \" \"   \" \"  \" \" \"*\"   \" \"   \" \"    \" \"   \"*\"    \"*\"   \" \" \n",
       "         CWalks LeagueN DivisionW PutOuts Assists Errors NewLeagueN\n",
       "1  ( 1 ) \" \"    \" \"     \" \"       \" \"     \" \"     \" \"    \" \"       \n",
       "2  ( 1 ) \" \"    \" \"     \" \"       \" \"     \" \"     \" \"    \" \"       \n",
       "3  ( 1 ) \" \"    \" \"     \" \"       \"*\"     \" \"     \" \"    \" \"       \n",
       "4  ( 1 ) \" \"    \" \"     \"*\"       \"*\"     \" \"     \" \"    \" \"       \n",
       "5  ( 1 ) \" \"    \" \"     \"*\"       \"*\"     \" \"     \" \"    \" \"       \n",
       "6  ( 1 ) \" \"    \" \"     \"*\"       \"*\"     \" \"     \" \"    \" \"       \n",
       "7  ( 1 ) \" \"    \" \"     \"*\"       \"*\"     \" \"     \" \"    \" \"       \n",
       "8  ( 1 ) \"*\"    \" \"     \"*\"       \"*\"     \" \"     \" \"    \" \"       "
      ]
     },
     "metadata": {},
     "output_type": "display_data"
    }
   ],
   "source": [
    "# Fit a best subset selection\n",
    "library(leaps)\n",
    "\n",
    "regfit_full <- regsubsets(Salary ~ ., data = Hitters)\n",
    "\n",
    "# Get the summary of the model\n",
    "summary(regfit_full)"
   ]
  },
  {
   "cell_type": "markdown",
   "metadata": {},
   "source": [
    "An asterisk indicates that a given variable is included in the corresponding\n",
    "model. For instance, this output indicates that the best two-variable model\n",
    "contains only Hits and CRBI. By default, regsubsets() only reports results\n",
    "up to the best eight-variable model. But the `nvmax` option can be used\n",
    "in order to return as many variables as are desired. Here we fit up to a\n",
    "19-variable model."
   ]
  },
  {
   "cell_type": "code",
   "execution_count": 6,
   "metadata": {
    "vscode": {
     "languageId": "r"
    }
   },
   "outputs": [],
   "source": [
    "# Fit a best subset selection\n",
    "library(leaps)\n",
    "\n",
    "regfit_full <- regsubsets(Salary ~ ., data = Hitters, nvmax = 19)\n",
    "\n",
    "# Get the summary of the model\n",
    "reg_summary <- summary(regfit_full)\n"
   ]
  },
  {
   "cell_type": "markdown",
   "metadata": {},
   "source": [
    "The summary() function also returns R2, RSS, adjusted R2, Cp, and BIC.\n",
    "We can examine these to try to select the best overall model."
   ]
  },
  {
   "cell_type": "code",
   "execution_count": 7,
   "metadata": {
    "vscode": {
     "languageId": "r"
    }
   },
   "outputs": [
    {
     "data": {
      "text/html": [
       "<ol class=list-inline>\n",
       "\t<li>'which'</li>\n",
       "\t<li>'rsq'</li>\n",
       "\t<li>'rss'</li>\n",
       "\t<li>'adjr2'</li>\n",
       "\t<li>'cp'</li>\n",
       "\t<li>'bic'</li>\n",
       "\t<li>'outmat'</li>\n",
       "\t<li>'obj'</li>\n",
       "</ol>\n"
      ],
      "text/latex": [
       "\\begin{enumerate*}\n",
       "\\item 'which'\n",
       "\\item 'rsq'\n",
       "\\item 'rss'\n",
       "\\item 'adjr2'\n",
       "\\item 'cp'\n",
       "\\item 'bic'\n",
       "\\item 'outmat'\n",
       "\\item 'obj'\n",
       "\\end{enumerate*}\n"
      ],
      "text/markdown": [
       "1. 'which'\n",
       "2. 'rsq'\n",
       "3. 'rss'\n",
       "4. 'adjr2'\n",
       "5. 'cp'\n",
       "6. 'bic'\n",
       "7. 'outmat'\n",
       "8. 'obj'\n",
       "\n",
       "\n"
      ],
      "text/plain": [
       "[1] \"which\"  \"rsq\"    \"rss\"    \"adjr2\"  \"cp\"     \"bic\"    \"outmat\" \"obj\"   "
      ]
     },
     "metadata": {},
     "output_type": "display_data"
    }
   ],
   "source": [
    "names(reg_summary)"
   ]
  },
  {
   "cell_type": "code",
   "execution_count": 8,
   "metadata": {
    "vscode": {
     "languageId": "r"
    }
   },
   "outputs": [
    {
     "data": {
      "text/html": [
       "<ol class=list-inline>\n",
       "\t<li>0.321450088667894</li>\n",
       "\t<li>0.425223746466778</li>\n",
       "\t<li>0.451429415717957</li>\n",
       "\t<li>0.475406653394787</li>\n",
       "\t<li>0.490803615963518</li>\n",
       "\t<li>0.508714557358996</li>\n",
       "\t<li>0.514122682361273</li>\n",
       "\t<li>0.528556860302574</li>\n",
       "\t<li>0.534612447792431</li>\n",
       "\t<li>0.540494950940798</li>\n",
       "\t<li>0.54261532542542</li>\n",
       "\t<li>0.543630208632163</li>\n",
       "\t<li>0.544457014231977</li>\n",
       "\t<li>0.545216356301489</li>\n",
       "\t<li>0.545469230681164</li>\n",
       "\t<li>0.54576555748528</li>\n",
       "\t<li>0.545951808076699</li>\n",
       "\t<li>0.546094522341906</li>\n",
       "\t<li>0.546115861912532</li>\n",
       "</ol>\n"
      ],
      "text/latex": [
       "\\begin{enumerate*}\n",
       "\\item 0.321450088667894\n",
       "\\item 0.425223746466778\n",
       "\\item 0.451429415717957\n",
       "\\item 0.475406653394787\n",
       "\\item 0.490803615963518\n",
       "\\item 0.508714557358996\n",
       "\\item 0.514122682361273\n",
       "\\item 0.528556860302574\n",
       "\\item 0.534612447792431\n",
       "\\item 0.540494950940798\n",
       "\\item 0.54261532542542\n",
       "\\item 0.543630208632163\n",
       "\\item 0.544457014231977\n",
       "\\item 0.545216356301489\n",
       "\\item 0.545469230681164\n",
       "\\item 0.54576555748528\n",
       "\\item 0.545951808076699\n",
       "\\item 0.546094522341906\n",
       "\\item 0.546115861912532\n",
       "\\end{enumerate*}\n"
      ],
      "text/markdown": [
       "1. 0.321450088667894\n",
       "2. 0.425223746466778\n",
       "3. 0.451429415717957\n",
       "4. 0.475406653394787\n",
       "5. 0.490803615963518\n",
       "6. 0.508714557358996\n",
       "7. 0.514122682361273\n",
       "8. 0.528556860302574\n",
       "9. 0.534612447792431\n",
       "10. 0.540494950940798\n",
       "11. 0.54261532542542\n",
       "12. 0.543630208632163\n",
       "13. 0.544457014231977\n",
       "14. 0.545216356301489\n",
       "15. 0.545469230681164\n",
       "16. 0.54576555748528\n",
       "17. 0.545951808076699\n",
       "18. 0.546094522341906\n",
       "19. 0.546115861912532\n",
       "\n",
       "\n"
      ],
      "text/plain": [
       " [1] 0.3214501 0.4252237 0.4514294 0.4754067 0.4908036 0.5087146 0.5141227\n",
       " [8] 0.5285569 0.5346124 0.5404950 0.5426153 0.5436302 0.5444570 0.5452164\n",
       "[15] 0.5454692 0.5457656 0.5459518 0.5460945 0.5461159"
      ]
     },
     "metadata": {},
     "output_type": "display_data"
    }
   ],
   "source": [
    "# Determine the r2\n",
    "\n",
    "reg_summary$rsq\n"
   ]
  },
  {
   "cell_type": "markdown",
   "metadata": {},
   "source": [
    "Plotting RSS, adjusted R2, Cp, and BIC for all of the models at once will\n",
    "help us decide which model to select. Note the type = \"l\" option tells R to\n",
    "connect the plotted points with lines."
   ]
  },
  {
   "cell_type": "code",
   "execution_count": 9,
   "metadata": {
    "vscode": {
     "languageId": "r"
    }
   },
   "outputs": [
    {
     "data": {
      "image/png": "[encoded data removed]",
      "text/plain": [
       "plot without title"
      ]
     },
     "metadata": {},
     "output_type": "display_data"
    }
   ],
   "source": [
    "par(mfrow = c(2, 2))\n",
    "\n",
    "plot(reg_summary$rss, xlab = \"Number of Variables\", ylab = \"Residual Sum of Squares\", type = \"l\")\n",
    "\n",
    "plot(reg_summary$adjr2, xlab = \"Number of Variables\", ylab = \"Adjusted R-Squared\", type = \"l\")\n",
    "\n",
    "points(which.max(reg_summary$adjr2), reg_summary$adjr2[which.max(reg_summary$adjr2)], col = \"red\", cex = 2, pch = 20)"
   ]
  },
  {
   "cell_type": "markdown",
   "metadata": {},
   "source": [
    "The points() command works like the plot() command, except that it\n",
    "points()\n",
    "puts points on a plot that has already been created, instead of creating a\n",
    "new plot. The which.max() function can be used to identify the location of\n",
    "the maximum point of a vector. We will now plot a red dot to indicate the\n",
    "model with the largest adjusted R2 statistic."
   ]
  },
  {
   "cell_type": "code",
   "execution_count": 10,
   "metadata": {
    "vscode": {
     "languageId": "r"
    }
   },
   "outputs": [
    {
     "data": {
      "text/html": [
       "11"
      ],
      "text/latex": [
       "11"
      ],
      "text/markdown": [
       "11"
      ],
      "text/plain": [
       "[1] 11"
      ]
     },
     "metadata": {},
     "output_type": "display_data"
    }
   ],
   "source": [
    "which.max(reg_summary$adjr2)"
   ]
  },
  {
   "cell_type": "markdown",
   "metadata": {},
   "source": [
    "In a similar fashion we can plot the Cp and BIC statistics, and indicate the\n",
    "models with the smallest statistic using which.min()."
   ]
  },
  {
   "cell_type": "code",
   "execution_count": 11,
   "metadata": {
    "vscode": {
     "languageId": "r"
    }
   },
   "outputs": [
    {
     "data": {
      "image/png": "[encoded data removed]",
      "text/plain": [
       "plot without title"
      ]
     },
     "metadata": {},
     "output_type": "display_data"
    }
   ],
   "source": [
    "par(mfrow = c(2, 2))\n",
    "\n",
    "# Cp Plot to determine best model\n",
    "plot(x = reg_summary$cp, xlab = \"Number of Variables\", ylab = \"Coefficient of Determination\", type = \"l\")\n",
    "\n",
    "points(which.min(reg_summary$cp), reg_summary$cp[which.min(reg_summary$cp)], col = \"red\", cex = 2, pch = 20)\n",
    "\n",
    "\n",
    "# Determine the best model using BIC\n",
    "plot(reg_summary$bic, xlab = \"Number of Variables\", ylab = \"BIC\", type = \"l\")\n",
    "\n",
    "points(which.min(reg_summary$bic), reg_summary$bic[which.min(reg_summary$bic)], col = \"red\", cex = 2, pch = 20)"
   ]
  },
  {
   "cell_type": "markdown",
   "metadata": {},
   "source": [
    "The regsubsets() function has a built-in plot() command which can\n",
    "be used to display the selected variables for the best model with a given\n",
    "number of predictors, ranked according to the BIC, Cp, adjusted R2, or\n",
    "AIC. To find out more about this function, type ?plot.regsubsets."
   ]
  },
  {
   "cell_type": "code",
   "execution_count": 12,
   "metadata": {
    "vscode": {
     "languageId": "r"
    }
   },
   "outputs": [
    {
     "data": {
      "image/png": "[encoded data removed]",
      "text/plain": [
       "plot without title"
      ]
     },
     "metadata": {},
     "output_type": "display_data"
    },
    {
     "data": {
      "image/png": "[encoded data removed]",
      "text/plain": [
       "plot without title"
      ]
     },
     "metadata": {},
     "output_type": "display_data"
    },
    {
     "data": {
      "image/png": "[encoded data removed]",
      "text/plain": [
       "plot without title"
      ]
     },
     "metadata": {},
     "output_type": "display_data"
    },
    {
     "data": {
      "image/png": "[encoded data removed]",
      "text/plain": [
       "plot without title"
      ]
     },
     "metadata": {},
     "output_type": "display_data"
    }
   ],
   "source": [
    "plot(regfit_full, scale = \"r2\")\n",
    "plot(regfit_full, scale = \"adjr2\")\n",
    "plot(regfit_full, scale = \"Cp\")\n",
    "plot(regfit_full, scale = \"bic\")"
   ]
  },
  {
   "cell_type": "markdown",
   "metadata": {},
   "source": [
    "The top row of each plot contains a black square for each variable selected\n",
    "according to the optimal model associated with that statistic. For instance,\n",
    "we see that several models share a BIC close to −150. However, the model\n",
    "with the lowest BIC is the six-variable model that contains only AtBat,\n",
    "Hits, Walks, CRBI, DivisionW, and PutOuts. We can use the coef() function\n",
    "to see the coefficient estimates associated with this model."
   ]
  },
  {
   "cell_type": "code",
   "execution_count": 13,
   "metadata": {
    "vscode": {
     "languageId": "r"
    }
   },
   "outputs": [
    {
     "data": {
      "text/html": [
       "<dl class=dl-horizontal>\n",
       "\t<dt>(Intercept)</dt>\n",
       "\t\t<dd>91.5117981171539</dd>\n",
       "\t<dt>AtBat</dt>\n",
       "\t\t<dd>-1.86858923135561</dd>\n",
       "\t<dt>Hits</dt>\n",
       "\t\t<dd>7.60439763117204</dd>\n",
       "\t<dt>Walks</dt>\n",
       "\t\t<dd>3.69764677424139</dd>\n",
       "\t<dt>CRBI</dt>\n",
       "\t\t<dd>0.643016935097332</dd>\n",
       "\t<dt>DivisionW</dt>\n",
       "\t\t<dd>-122.95153377292</dd>\n",
       "\t<dt>PutOuts</dt>\n",
       "\t\t<dd>0.264307605461511</dd>\n",
       "</dl>\n"
      ],
      "text/latex": [
       "\\begin{description*}\n",
       "\\item[(Intercept)] 91.5117981171539\n",
       "\\item[AtBat] -1.86858923135561\n",
       "\\item[Hits] 7.60439763117204\n",
       "\\item[Walks] 3.69764677424139\n",
       "\\item[CRBI] 0.643016935097332\n",
       "\\item[DivisionW] -122.95153377292\n",
       "\\item[PutOuts] 0.264307605461511\n",
       "\\end{description*}\n"
      ],
      "text/markdown": [
       "(Intercept)\n",
       ":   91.5117981171539AtBat\n",
       ":   -1.86858923135561Hits\n",
       ":   7.60439763117204Walks\n",
       ":   3.69764677424139CRBI\n",
       ":   0.643016935097332DivisionW\n",
       ":   -122.95153377292PutOuts\n",
       ":   0.264307605461511\n",
       "\n"
      ],
      "text/plain": [
       " (Intercept)        AtBat         Hits        Walks         CRBI    DivisionW \n",
       "  91.5117981   -1.8685892    7.6043976    3.6976468    0.6430169 -122.9515338 \n",
       "     PutOuts \n",
       "   0.2643076 "
      ]
     },
     "metadata": {},
     "output_type": "display_data"
    }
   ],
   "source": [
    "coef(regfit_full, 6)"
   ]
  },
  {
   "cell_type": "markdown",
   "metadata": {},
   "source": [
    "## Forward and Backward Stepwise Selection\n",
    "We can also use the `regsubsets()` function to perform forward stepwise\n",
    "or backward stepwise selection, using the argument method = \"forward\" or\n",
    "method = \"backward\"."
   ]
  },
  {
   "cell_type": "code",
   "execution_count": 14,
   "metadata": {
    "vscode": {
     "languageId": "r"
    }
   },
   "outputs": [
    {
     "data": {
      "text/plain": [
       "Subset selection object\n",
       "Call: regsubsets.formula(Salary ~ ., data = Hitters, nvmax = 19, method = \"forward\")\n",
       "19 Variables  (and intercept)\n",
       "           Forced in Forced out\n",
       "AtBat          FALSE      FALSE\n",
       "Hits           FALSE      FALSE\n",
       "HmRun          FALSE      FALSE\n",
       "Runs           FALSE      FALSE\n",
       "RBI            FALSE      FALSE\n",
       "Walks          FALSE      FALSE\n",
       "Years          FALSE      FALSE\n",
       "CAtBat         FALSE      FALSE\n",
       "CHits          FALSE      FALSE\n",
       "CHmRun         FALSE      FALSE\n",
       "CRuns          FALSE      FALSE\n",
       "CRBI           FALSE      FALSE\n",
       "CWalks         FALSE      FALSE\n",
       "LeagueN        FALSE      FALSE\n",
       "DivisionW      FALSE      FALSE\n",
       "PutOuts        FALSE      FALSE\n",
       "Assists        FALSE      FALSE\n",
       "Errors         FALSE      FALSE\n",
       "NewLeagueN     FALSE      FALSE\n",
       "1 subsets of each size up to 19\n",
       "Selection Algorithm: forward\n",
       "          AtBat Hits HmRun Runs RBI Walks Years CAtBat CHits CHmRun CRuns CRBI\n",
       "1  ( 1 )  \" \"   \" \"  \" \"   \" \"  \" \" \" \"   \" \"   \" \"    \" \"   \" \"    \" \"   \"*\" \n",
       "2  ( 1 )  \" \"   \"*\"  \" \"   \" \"  \" \" \" \"   \" \"   \" \"    \" \"   \" \"    \" \"   \"*\" \n",
       "3  ( 1 )  \" \"   \"*\"  \" \"   \" \"  \" \" \" \"   \" \"   \" \"    \" \"   \" \"    \" \"   \"*\" \n",
       "4  ( 1 )  \" \"   \"*\"  \" \"   \" \"  \" \" \" \"   \" \"   \" \"    \" \"   \" \"    \" \"   \"*\" \n",
       "5  ( 1 )  \"*\"   \"*\"  \" \"   \" \"  \" \" \" \"   \" \"   \" \"    \" \"   \" \"    \" \"   \"*\" \n",
       "6  ( 1 )  \"*\"   \"*\"  \" \"   \" \"  \" \" \"*\"   \" \"   \" \"    \" \"   \" \"    \" \"   \"*\" \n",
       "7  ( 1 )  \"*\"   \"*\"  \" \"   \" \"  \" \" \"*\"   \" \"   \" \"    \" \"   \" \"    \" \"   \"*\" \n",
       "8  ( 1 )  \"*\"   \"*\"  \" \"   \" \"  \" \" \"*\"   \" \"   \" \"    \" \"   \" \"    \"*\"   \"*\" \n",
       "9  ( 1 )  \"*\"   \"*\"  \" \"   \" \"  \" \" \"*\"   \" \"   \"*\"    \" \"   \" \"    \"*\"   \"*\" \n",
       "10  ( 1 ) \"*\"   \"*\"  \" \"   \" \"  \" \" \"*\"   \" \"   \"*\"    \" \"   \" \"    \"*\"   \"*\" \n",
       "11  ( 1 ) \"*\"   \"*\"  \" \"   \" \"  \" \" \"*\"   \" \"   \"*\"    \" \"   \" \"    \"*\"   \"*\" \n",
       "12  ( 1 ) \"*\"   \"*\"  \" \"   \"*\"  \" \" \"*\"   \" \"   \"*\"    \" \"   \" \"    \"*\"   \"*\" \n",
       "13  ( 1 ) \"*\"   \"*\"  \" \"   \"*\"  \" \" \"*\"   \" \"   \"*\"    \" \"   \" \"    \"*\"   \"*\" \n",
       "14  ( 1 ) \"*\"   \"*\"  \"*\"   \"*\"  \" \" \"*\"   \" \"   \"*\"    \" \"   \" \"    \"*\"   \"*\" \n",
       "15  ( 1 ) \"*\"   \"*\"  \"*\"   \"*\"  \" \" \"*\"   \" \"   \"*\"    \"*\"   \" \"    \"*\"   \"*\" \n",
       "16  ( 1 ) \"*\"   \"*\"  \"*\"   \"*\"  \"*\" \"*\"   \" \"   \"*\"    \"*\"   \" \"    \"*\"   \"*\" \n",
       "17  ( 1 ) \"*\"   \"*\"  \"*\"   \"*\"  \"*\" \"*\"   \" \"   \"*\"    \"*\"   \" \"    \"*\"   \"*\" \n",
       "18  ( 1 ) \"*\"   \"*\"  \"*\"   \"*\"  \"*\" \"*\"   \"*\"   \"*\"    \"*\"   \" \"    \"*\"   \"*\" \n",
       "19  ( 1 ) \"*\"   \"*\"  \"*\"   \"*\"  \"*\" \"*\"   \"*\"   \"*\"    \"*\"   \"*\"    \"*\"   \"*\" \n",
       "          CWalks LeagueN DivisionW PutOuts Assists Errors NewLeagueN\n",
       "1  ( 1 )  \" \"    \" \"     \" \"       \" \"     \" \"     \" \"    \" \"       \n",
       "2  ( 1 )  \" \"    \" \"     \" \"       \" \"     \" \"     \" \"    \" \"       \n",
       "3  ( 1 )  \" \"    \" \"     \" \"       \"*\"     \" \"     \" \"    \" \"       \n",
       "4  ( 1 )  \" \"    \" \"     \"*\"       \"*\"     \" \"     \" \"    \" \"       \n",
       "5  ( 1 )  \" \"    \" \"     \"*\"       \"*\"     \" \"     \" \"    \" \"       \n",
       "6  ( 1 )  \" \"    \" \"     \"*\"       \"*\"     \" \"     \" \"    \" \"       \n",
       "7  ( 1 )  \"*\"    \" \"     \"*\"       \"*\"     \" \"     \" \"    \" \"       \n",
       "8  ( 1 )  \"*\"    \" \"     \"*\"       \"*\"     \" \"     \" \"    \" \"       \n",
       "9  ( 1 )  \"*\"    \" \"     \"*\"       \"*\"     \" \"     \" \"    \" \"       \n",
       "10  ( 1 ) \"*\"    \" \"     \"*\"       \"*\"     \"*\"     \" \"    \" \"       \n",
       "11  ( 1 ) \"*\"    \"*\"     \"*\"       \"*\"     \"*\"     \" \"    \" \"       \n",
       "12  ( 1 ) \"*\"    \"*\"     \"*\"       \"*\"     \"*\"     \" \"    \" \"       \n",
       "13  ( 1 ) \"*\"    \"*\"     \"*\"       \"*\"     \"*\"     \"*\"    \" \"       \n",
       "14  ( 1 ) \"*\"    \"*\"     \"*\"       \"*\"     \"*\"     \"*\"    \" \"       \n",
       "15  ( 1 ) \"*\"    \"*\"     \"*\"       \"*\"     \"*\"     \"*\"    \" \"       \n",
       "16  ( 1 ) \"*\"    \"*\"     \"*\"       \"*\"     \"*\"     \"*\"    \" \"       \n",
       "17  ( 1 ) \"*\"    \"*\"     \"*\"       \"*\"     \"*\"     \"*\"    \"*\"       \n",
       "18  ( 1 ) \"*\"    \"*\"     \"*\"       \"*\"     \"*\"     \"*\"    \"*\"       \n",
       "19  ( 1 ) \"*\"    \"*\"     \"*\"       \"*\"     \"*\"     \"*\"    \"*\"       "
      ]
     },
     "metadata": {},
     "output_type": "display_data"
    }
   ],
   "source": [
    "regfit_fwd <- regsubsets(Salary ~ ., data = Hitters, nvmax = 19, method = \"forward\")\n",
    "\n",
    "summary(regfit_fwd)"
   ]
  },
  {
   "cell_type": "code",
   "execution_count": 15,
   "metadata": {
    "vscode": {
     "languageId": "r"
    }
   },
   "outputs": [
    {
     "data": {
      "text/plain": [
       "Subset selection object\n",
       "Call: regsubsets.formula(Salary ~ ., data = Hitters, nvmax = 19, method = \"backward\")\n",
       "19 Variables  (and intercept)\n",
       "           Forced in Forced out\n",
       "AtBat          FALSE      FALSE\n",
       "Hits           FALSE      FALSE\n",
       "HmRun          FALSE      FALSE\n",
       "Runs           FALSE      FALSE\n",
       "RBI            FALSE      FALSE\n",
       "Walks          FALSE      FALSE\n",
       "Years          FALSE      FALSE\n",
       "CAtBat         FALSE      FALSE\n",
       "CHits          FALSE      FALSE\n",
       "CHmRun         FALSE      FALSE\n",
       "CRuns          FALSE      FALSE\n",
       "CRBI           FALSE      FALSE\n",
       "CWalks         FALSE      FALSE\n",
       "LeagueN        FALSE      FALSE\n",
       "DivisionW      FALSE      FALSE\n",
       "PutOuts        FALSE      FALSE\n",
       "Assists        FALSE      FALSE\n",
       "Errors         FALSE      FALSE\n",
       "NewLeagueN     FALSE      FALSE\n",
       "1 subsets of each size up to 19\n",
       "Selection Algorithm: backward\n",
       "          AtBat Hits HmRun Runs RBI Walks Years CAtBat CHits CHmRun CRuns CRBI\n",
       "1  ( 1 )  \" \"   \" \"  \" \"   \" \"  \" \" \" \"   \" \"   \" \"    \" \"   \" \"    \"*\"   \" \" \n",
       "2  ( 1 )  \" \"   \"*\"  \" \"   \" \"  \" \" \" \"   \" \"   \" \"    \" \"   \" \"    \"*\"   \" \" \n",
       "3  ( 1 )  \" \"   \"*\"  \" \"   \" \"  \" \" \" \"   \" \"   \" \"    \" \"   \" \"    \"*\"   \" \" \n",
       "4  ( 1 )  \"*\"   \"*\"  \" \"   \" \"  \" \" \" \"   \" \"   \" \"    \" \"   \" \"    \"*\"   \" \" \n",
       "5  ( 1 )  \"*\"   \"*\"  \" \"   \" \"  \" \" \"*\"   \" \"   \" \"    \" \"   \" \"    \"*\"   \" \" \n",
       "6  ( 1 )  \"*\"   \"*\"  \" \"   \" \"  \" \" \"*\"   \" \"   \" \"    \" \"   \" \"    \"*\"   \" \" \n",
       "7  ( 1 )  \"*\"   \"*\"  \" \"   \" \"  \" \" \"*\"   \" \"   \" \"    \" \"   \" \"    \"*\"   \" \" \n",
       "8  ( 1 )  \"*\"   \"*\"  \" \"   \" \"  \" \" \"*\"   \" \"   \" \"    \" \"   \" \"    \"*\"   \"*\" \n",
       "9  ( 1 )  \"*\"   \"*\"  \" \"   \" \"  \" \" \"*\"   \" \"   \"*\"    \" \"   \" \"    \"*\"   \"*\" \n",
       "10  ( 1 ) \"*\"   \"*\"  \" \"   \" \"  \" \" \"*\"   \" \"   \"*\"    \" \"   \" \"    \"*\"   \"*\" \n",
       "11  ( 1 ) \"*\"   \"*\"  \" \"   \" \"  \" \" \"*\"   \" \"   \"*\"    \" \"   \" \"    \"*\"   \"*\" \n",
       "12  ( 1 ) \"*\"   \"*\"  \" \"   \"*\"  \" \" \"*\"   \" \"   \"*\"    \" \"   \" \"    \"*\"   \"*\" \n",
       "13  ( 1 ) \"*\"   \"*\"  \" \"   \"*\"  \" \" \"*\"   \" \"   \"*\"    \" \"   \" \"    \"*\"   \"*\" \n",
       "14  ( 1 ) \"*\"   \"*\"  \"*\"   \"*\"  \" \" \"*\"   \" \"   \"*\"    \" \"   \" \"    \"*\"   \"*\" \n",
       "15  ( 1 ) \"*\"   \"*\"  \"*\"   \"*\"  \" \" \"*\"   \" \"   \"*\"    \"*\"   \" \"    \"*\"   \"*\" \n",
       "16  ( 1 ) \"*\"   \"*\"  \"*\"   \"*\"  \"*\" \"*\"   \" \"   \"*\"    \"*\"   \" \"    \"*\"   \"*\" \n",
       "17  ( 1 ) \"*\"   \"*\"  \"*\"   \"*\"  \"*\" \"*\"   \" \"   \"*\"    \"*\"   \" \"    \"*\"   \"*\" \n",
       "18  ( 1 ) \"*\"   \"*\"  \"*\"   \"*\"  \"*\" \"*\"   \"*\"   \"*\"    \"*\"   \" \"    \"*\"   \"*\" \n",
       "19  ( 1 ) \"*\"   \"*\"  \"*\"   \"*\"  \"*\" \"*\"   \"*\"   \"*\"    \"*\"   \"*\"    \"*\"   \"*\" \n",
       "          CWalks LeagueN DivisionW PutOuts Assists Errors NewLeagueN\n",
       "1  ( 1 )  \" \"    \" \"     \" \"       \" \"     \" \"     \" \"    \" \"       \n",
       "2  ( 1 )  \" \"    \" \"     \" \"       \" \"     \" \"     \" \"    \" \"       \n",
       "3  ( 1 )  \" \"    \" \"     \" \"       \"*\"     \" \"     \" \"    \" \"       \n",
       "4  ( 1 )  \" \"    \" \"     \" \"       \"*\"     \" \"     \" \"    \" \"       \n",
       "5  ( 1 )  \" \"    \" \"     \" \"       \"*\"     \" \"     \" \"    \" \"       \n",
       "6  ( 1 )  \" \"    \" \"     \"*\"       \"*\"     \" \"     \" \"    \" \"       \n",
       "7  ( 1 )  \"*\"    \" \"     \"*\"       \"*\"     \" \"     \" \"    \" \"       \n",
       "8  ( 1 )  \"*\"    \" \"     \"*\"       \"*\"     \" \"     \" \"    \" \"       \n",
       "9  ( 1 )  \"*\"    \" \"     \"*\"       \"*\"     \" \"     \" \"    \" \"       \n",
       "10  ( 1 ) \"*\"    \" \"     \"*\"       \"*\"     \"*\"     \" \"    \" \"       \n",
       "11  ( 1 ) \"*\"    \"*\"     \"*\"       \"*\"     \"*\"     \" \"    \" \"       \n",
       "12  ( 1 ) \"*\"    \"*\"     \"*\"       \"*\"     \"*\"     \" \"    \" \"       \n",
       "13  ( 1 ) \"*\"    \"*\"     \"*\"       \"*\"     \"*\"     \"*\"    \" \"       \n",
       "14  ( 1 ) \"*\"    \"*\"     \"*\"       \"*\"     \"*\"     \"*\"    \" \"       \n",
       "15  ( 1 ) \"*\"    \"*\"     \"*\"       \"*\"     \"*\"     \"*\"    \" \"       \n",
       "16  ( 1 ) \"*\"    \"*\"     \"*\"       \"*\"     \"*\"     \"*\"    \" \"       \n",
       "17  ( 1 ) \"*\"    \"*\"     \"*\"       \"*\"     \"*\"     \"*\"    \"*\"       \n",
       "18  ( 1 ) \"*\"    \"*\"     \"*\"       \"*\"     \"*\"     \"*\"    \"*\"       \n",
       "19  ( 1 ) \"*\"    \"*\"     \"*\"       \"*\"     \"*\"     \"*\"    \"*\"       "
      ]
     },
     "metadata": {},
     "output_type": "display_data"
    }
   ],
   "source": [
    "regfit_bwd <- regsubsets(Salary ~ ., data = Hitters, nvmax = 19, method = \"backward\")\n",
    "\n",
    "summary(regfit_bwd)"
   ]
  },
  {
   "cell_type": "markdown",
   "metadata": {},
   "source": [
    "For instance, we see that using forward stepwise selection, the best onevariable\n",
    "model contains only CRBI, and the best two-variable model additionally\n",
    "includes Hits. For this data, the best one-variable through sixvariable\n",
    "models are each identical for best subset and forward selection.\n",
    "However, the best seven-variable models identified by forward stepwise selection,\n",
    "backward stepwise selection, and best subset selection are different."
   ]
  },
  {
   "cell_type": "code",
   "execution_count": 16,
   "metadata": {
    "vscode": {
     "languageId": "r"
    }
   },
   "outputs": [
    {
     "data": {
      "text/html": [
       "<dl class=dl-horizontal>\n",
       "\t<dt>(Intercept)</dt>\n",
       "\t\t<dd>79.4509472435319</dd>\n",
       "\t<dt>Hits</dt>\n",
       "\t\t<dd>1.28335125463328</dd>\n",
       "\t<dt>Walks</dt>\n",
       "\t\t<dd>3.22742638972714</dd>\n",
       "\t<dt>CAtBat</dt>\n",
       "\t\t<dd>-0.375235019565453</dd>\n",
       "\t<dt>CHits</dt>\n",
       "\t\t<dd>1.49570730989869</dd>\n",
       "\t<dt>CHmRun</dt>\n",
       "\t\t<dd>1.44205381889666</dd>\n",
       "\t<dt>DivisionW</dt>\n",
       "\t\t<dd>-129.986643165116</dd>\n",
       "\t<dt>PutOuts</dt>\n",
       "\t\t<dd>0.236681317525621</dd>\n",
       "</dl>\n"
      ],
      "text/latex": [
       "\\begin{description*}\n",
       "\\item[(Intercept)] 79.4509472435319\n",
       "\\item[Hits] 1.28335125463328\n",
       "\\item[Walks] 3.22742638972714\n",
       "\\item[CAtBat] -0.375235019565453\n",
       "\\item[CHits] 1.49570730989869\n",
       "\\item[CHmRun] 1.44205381889666\n",
       "\\item[DivisionW] -129.986643165116\n",
       "\\item[PutOuts] 0.236681317525621\n",
       "\\end{description*}\n"
      ],
      "text/markdown": [
       "(Intercept)\n",
       ":   79.4509472435319Hits\n",
       ":   1.28335125463328Walks\n",
       ":   3.22742638972714CAtBat\n",
       ":   -0.375235019565453CHits\n",
       ":   1.49570730989869CHmRun\n",
       ":   1.44205381889666DivisionW\n",
       ":   -129.986643165116PutOuts\n",
       ":   0.236681317525621\n",
       "\n"
      ],
      "text/plain": [
       " (Intercept)         Hits        Walks       CAtBat        CHits       CHmRun \n",
       "  79.4509472    1.2833513    3.2274264   -0.3752350    1.4957073    1.4420538 \n",
       "   DivisionW      PutOuts \n",
       "-129.9866432    0.2366813 "
      ]
     },
     "metadata": {},
     "output_type": "display_data"
    }
   ],
   "source": [
    "coef(regfit_full, 7)"
   ]
  },
  {
   "cell_type": "code",
   "execution_count": 17,
   "metadata": {
    "vscode": {
     "languageId": "r"
    }
   },
   "outputs": [
    {
     "data": {
      "text/html": [
       "<dl class=dl-horizontal>\n",
       "\t<dt>(Intercept)</dt>\n",
       "\t\t<dd>109.787306240078</dd>\n",
       "\t<dt>AtBat</dt>\n",
       "\t\t<dd>-1.95888512315655</dd>\n",
       "\t<dt>Hits</dt>\n",
       "\t\t<dd>7.44987721841218</dd>\n",
       "\t<dt>Walks</dt>\n",
       "\t\t<dd>4.91314009272066</dd>\n",
       "\t<dt>CRBI</dt>\n",
       "\t\t<dd>0.853762209061578</dd>\n",
       "\t<dt>CWalks</dt>\n",
       "\t\t<dd>-0.305307000381738</dd>\n",
       "\t<dt>DivisionW</dt>\n",
       "\t\t<dd>-127.122392777488</dd>\n",
       "\t<dt>PutOuts</dt>\n",
       "\t\t<dd>0.253340431147386</dd>\n",
       "</dl>\n"
      ],
      "text/latex": [
       "\\begin{description*}\n",
       "\\item[(Intercept)] 109.787306240078\n",
       "\\item[AtBat] -1.95888512315655\n",
       "\\item[Hits] 7.44987721841218\n",
       "\\item[Walks] 4.91314009272066\n",
       "\\item[CRBI] 0.853762209061578\n",
       "\\item[CWalks] -0.305307000381738\n",
       "\\item[DivisionW] -127.122392777488\n",
       "\\item[PutOuts] 0.253340431147386\n",
       "\\end{description*}\n"
      ],
      "text/markdown": [
       "(Intercept)\n",
       ":   109.787306240078AtBat\n",
       ":   -1.95888512315655Hits\n",
       ":   7.44987721841218Walks\n",
       ":   4.91314009272066CRBI\n",
       ":   0.853762209061578CWalks\n",
       ":   -0.305307000381738DivisionW\n",
       ":   -127.122392777488PutOuts\n",
       ":   0.253340431147386\n",
       "\n"
      ],
      "text/plain": [
       " (Intercept)        AtBat         Hits        Walks         CRBI       CWalks \n",
       " 109.7873062   -1.9588851    7.4498772    4.9131401    0.8537622   -0.3053070 \n",
       "   DivisionW      PutOuts \n",
       "-127.1223928    0.2533404 "
      ]
     },
     "metadata": {},
     "output_type": "display_data"
    }
   ],
   "source": [
    "coef(regfit_fwd, 7)"
   ]
  },
  {
   "cell_type": "code",
   "execution_count": 18,
   "metadata": {
    "vscode": {
     "languageId": "r"
    }
   },
   "outputs": [
    {
     "data": {
      "text/html": [
       "<dl class=dl-horizontal>\n",
       "\t<dt>(Intercept)</dt>\n",
       "\t\t<dd>105.648748778828</dd>\n",
       "\t<dt>AtBat</dt>\n",
       "\t\t<dd>-1.97628381026618</dd>\n",
       "\t<dt>Hits</dt>\n",
       "\t\t<dd>6.75749144281392</dd>\n",
       "\t<dt>Walks</dt>\n",
       "\t\t<dd>6.05586912154598</dd>\n",
       "\t<dt>CRuns</dt>\n",
       "\t\t<dd>1.12930946903271</dd>\n",
       "\t<dt>CWalks</dt>\n",
       "\t\t<dd>-0.71633458662198</dd>\n",
       "\t<dt>DivisionW</dt>\n",
       "\t\t<dd>-116.16921690431</dd>\n",
       "\t<dt>PutOuts</dt>\n",
       "\t\t<dd>0.302884743257576</dd>\n",
       "</dl>\n"
      ],
      "text/latex": [
       "\\begin{description*}\n",
       "\\item[(Intercept)] 105.648748778828\n",
       "\\item[AtBat] -1.97628381026618\n",
       "\\item[Hits] 6.75749144281392\n",
       "\\item[Walks] 6.05586912154598\n",
       "\\item[CRuns] 1.12930946903271\n",
       "\\item[CWalks] -0.71633458662198\n",
       "\\item[DivisionW] -116.16921690431\n",
       "\\item[PutOuts] 0.302884743257576\n",
       "\\end{description*}\n"
      ],
      "text/markdown": [
       "(Intercept)\n",
       ":   105.648748778828AtBat\n",
       ":   -1.97628381026618Hits\n",
       ":   6.75749144281392Walks\n",
       ":   6.05586912154598CRuns\n",
       ":   1.12930946903271CWalks\n",
       ":   -0.71633458662198DivisionW\n",
       ":   -116.16921690431PutOuts\n",
       ":   0.302884743257576\n",
       "\n"
      ],
      "text/plain": [
       " (Intercept)        AtBat         Hits        Walks        CRuns       CWalks \n",
       " 105.6487488   -1.9762838    6.7574914    6.0558691    1.1293095   -0.7163346 \n",
       "   DivisionW      PutOuts \n",
       "-116.1692169    0.3028847 "
      ]
     },
     "metadata": {},
     "output_type": "display_data"
    }
   ],
   "source": [
    "coef(regfit_bwd, 7)"
   ]
  },
  {
   "cell_type": "markdown",
   "metadata": {},
   "source": [
    "## Choosing Among Models Using the Validation-Set Approach and Cross-Validation\n",
    "\n",
    "We will now consider how to do this\n",
    "using the validation set and cross-validation approaches.\n",
    "In order for these approaches to yield accurate estimates of the test\n",
    "error, we must use only the training observations to perform all aspects of\n",
    "model-fitting—including variable selection. Therefore, the determination of\n",
    "which model of a given size is best must be made using only the training\n",
    "observations. This point is subtle but important. If the full data set is used\n",
    "to perform the best subset selection step, the validation set errors and\n",
    "cross-validation errors that we obtain will not be accurate estimates of the\n",
    "test error."
   ]
  },
  {
   "cell_type": "markdown",
   "metadata": {},
   "source": [
    "In order to use the validation set approach, we begin by splitting the\n",
    "observations into a training set and a test set. We do this by creating\n",
    "a random vector, train, of elements equal to TRUE if the corresponding\n",
    "observation is in the training set, and FALSE otherwise. The vector test has\n",
    "a TRUE if the observation is in the test set, and a FALSE otherwise. Note the\n",
    "! in the command to create test causes TRUEs to be switched to FALSEs and\n",
    "vice versa. We also set a random seed so that the user will obtain the same\n",
    "training set/test set split."
   ]
  },
  {
   "cell_type": "code",
   "execution_count": 19,
   "metadata": {
    "vscode": {
     "languageId": "r"
    }
   },
   "outputs": [],
   "source": [
    "set.seed(1)\n",
    "\n",
    "train <- sample(c(TRUE, FALSE), nrow(Hitters), replace=TRUE)\n",
    "\n",
    "\n",
    "test <- (!train)"
   ]
  },
  {
   "cell_type": "markdown",
   "metadata": {},
   "source": [
    ">Now, we apply regsubsets() to the training set in order to perform best\n",
    "subset selection."
   ]
  },
  {
   "cell_type": "code",
   "execution_count": 20,
   "metadata": {
    "vscode": {
     "languageId": "r"
    }
   },
   "outputs": [],
   "source": [
    "regfit_best <- regsubsets(Salary ~ ., data = Hitters[train,], nvmax = 19)\n"
   ]
  },
  {
   "cell_type": "markdown",
   "metadata": {},
   "source": [
    "Notice that we subset the Hitters data frame directly in the call in order\n",
    "to access only the training subset of the data, using the expression\n",
    "Hitters[train, ]. We now compute the validation set error for the best\n",
    "model of each model size. We first make a model matrix from the test\n",
    "data."
   ]
  },
  {
   "cell_type": "code",
   "execution_count": 21,
   "metadata": {
    "vscode": {
     "languageId": "r"
    }
   },
   "outputs": [],
   "source": [
    "test_mat <- model.matrix(Salary ~ ., data = Hitters[test, ])"
   ]
  },
  {
   "cell_type": "markdown",
   "metadata": {},
   "source": [
    "The model.matrix() function is used in many regression packages for building an “X” matrix from data. Now we run a loop, and for each size i, we\n",
    "extract the coefficients from regfit.best for the best model of that size,\n",
    "multiply them into the appropriate columns of the test model matrix to\n",
    "form the predictions, and compute the test MSE."
   ]
  },
  {
   "cell_type": "code",
   "execution_count": 22,
   "metadata": {
    "vscode": {
     "languageId": "r"
    }
   },
   "outputs": [],
   "source": [
    "val_errors <- rep(NA, 19)\n",
    "\n",
    "for (i in 1:19) {\n",
    "    coef_i <- coef(regfit_best, id = i)\n",
    "    pred <- test_mat[ , names(coef_i)] %*% coef_i\n",
    "    val_errors[i] <- mean((Hitters$Salary[test] - pred)^2)\n",
    "}"
   ]
  },
  {
   "cell_type": "code",
   "execution_count": 23,
   "metadata": {
    "vscode": {
     "languageId": "r"
    }
   },
   "outputs": [
    {
     "data": {
      "text/html": [
       "<ol class=list-inline>\n",
       "\t<li>164377.260362341</li>\n",
       "\t<li>144405.470709589</li>\n",
       "\t<li>152175.69459474</li>\n",
       "\t<li>145198.381708901</li>\n",
       "\t<li>137902.113680192</li>\n",
       "\t<li>139175.74540071</li>\n",
       "\t<li>126848.963422889</li>\n",
       "\t<li>136191.381502395</li>\n",
       "\t<li>132889.632125506</li>\n",
       "\t<li>135434.897163883</li>\n",
       "\t<li>136963.294656889</li>\n",
       "\t<li>140694.931446905</li>\n",
       "\t<li>140690.940552605</li>\n",
       "\t<li>141951.168986255</li>\n",
       "\t<li>141508.153781646</li>\n",
       "\t<li>142164.368072385</li>\n",
       "\t<li>141767.40236927</li>\n",
       "\t<li>142339.552749068</li>\n",
       "\t<li>142238.156755267</li>\n",
       "</ol>\n"
      ],
      "text/latex": [
       "\\begin{enumerate*}\n",
       "\\item 164377.260362341\n",
       "\\item 144405.470709589\n",
       "\\item 152175.69459474\n",
       "\\item 145198.381708901\n",
       "\\item 137902.113680192\n",
       "\\item 139175.74540071\n",
       "\\item 126848.963422889\n",
       "\\item 136191.381502395\n",
       "\\item 132889.632125506\n",
       "\\item 135434.897163883\n",
       "\\item 136963.294656889\n",
       "\\item 140694.931446905\n",
       "\\item 140690.940552605\n",
       "\\item 141951.168986255\n",
       "\\item 141508.153781646\n",
       "\\item 142164.368072385\n",
       "\\item 141767.40236927\n",
       "\\item 142339.552749068\n",
       "\\item 142238.156755267\n",
       "\\end{enumerate*}\n"
      ],
      "text/markdown": [
       "1. 164377.260362341\n",
       "2. 144405.470709589\n",
       "3. 152175.69459474\n",
       "4. 145198.381708901\n",
       "5. 137902.113680192\n",
       "6. 139175.74540071\n",
       "7. 126848.963422889\n",
       "8. 136191.381502395\n",
       "9. 132889.632125506\n",
       "10. 135434.897163883\n",
       "11. 136963.294656889\n",
       "12. 140694.931446905\n",
       "13. 140690.940552605\n",
       "14. 141951.168986255\n",
       "15. 141508.153781646\n",
       "16. 142164.368072385\n",
       "17. 141767.40236927\n",
       "18. 142339.552749068\n",
       "19. 142238.156755267\n",
       "\n",
       "\n"
      ],
      "text/plain": [
       " [1] 164377.3 144405.5 152175.7 145198.4 137902.1 139175.7 126849.0 136191.4\n",
       " [9] 132889.6 135434.9 136963.3 140694.9 140690.9 141951.2 141508.2 142164.4\n",
       "[17] 141767.4 142339.6 142238.2"
      ]
     },
     "metadata": {},
     "output_type": "display_data"
    }
   ],
   "source": [
    "val_errors"
   ]
  },
  {
   "cell_type": "markdown",
   "metadata": {},
   "source": [
    ">   We find that the best model is the one that contains seven variables"
   ]
  },
  {
   "cell_type": "code",
   "execution_count": 24,
   "metadata": {
    "vscode": {
     "languageId": "r"
    }
   },
   "outputs": [
    {
     "data": {
      "text/html": [
       "7"
      ],
      "text/latex": [
       "7"
      ],
      "text/markdown": [
       "7"
      ],
      "text/plain": [
       "[1] 7"
      ]
     },
     "metadata": {},
     "output_type": "display_data"
    }
   ],
   "source": [
    "which.min(val_errors)"
   ]
  },
  {
   "cell_type": "code",
   "execution_count": 25,
   "metadata": {
    "vscode": {
     "languageId": "r"
    }
   },
   "outputs": [
    {
     "data": {
      "text/html": [
       "<dl class=dl-horizontal>\n",
       "\t<dt>(Intercept)</dt>\n",
       "\t\t<dd>67.1085369123294</dd>\n",
       "\t<dt>AtBat</dt>\n",
       "\t\t<dd>-2.14629867457481</dd>\n",
       "\t<dt>Hits</dt>\n",
       "\t\t<dd>7.01495467840133</dd>\n",
       "\t<dt>Walks</dt>\n",
       "\t\t<dd>8.07166403119075</dd>\n",
       "\t<dt>CRuns</dt>\n",
       "\t\t<dd>1.24251126334183</dd>\n",
       "\t<dt>CWalks</dt>\n",
       "\t\t<dd>-0.833784385185916</dd>\n",
       "\t<dt>DivisionW</dt>\n",
       "\t\t<dd>-118.436499846968</dd>\n",
       "\t<dt>PutOuts</dt>\n",
       "\t\t<dd>0.252692546543788</dd>\n",
       "</dl>\n"
      ],
      "text/latex": [
       "\\begin{description*}\n",
       "\\item[(Intercept)] 67.1085369123294\n",
       "\\item[AtBat] -2.14629867457481\n",
       "\\item[Hits] 7.01495467840133\n",
       "\\item[Walks] 8.07166403119075\n",
       "\\item[CRuns] 1.24251126334183\n",
       "\\item[CWalks] -0.833784385185916\n",
       "\\item[DivisionW] -118.436499846968\n",
       "\\item[PutOuts] 0.252692546543788\n",
       "\\end{description*}\n"
      ],
      "text/markdown": [
       "(Intercept)\n",
       ":   67.1085369123294AtBat\n",
       ":   -2.14629867457481Hits\n",
       ":   7.01495467840133Walks\n",
       ":   8.07166403119075CRuns\n",
       ":   1.24251126334183CWalks\n",
       ":   -0.833784385185916DivisionW\n",
       ":   -118.436499846968PutOuts\n",
       ":   0.252692546543788\n",
       "\n"
      ],
      "text/plain": [
       " (Intercept)        AtBat         Hits        Walks        CRuns       CWalks \n",
       "  67.1085369   -2.1462987    7.0149547    8.0716640    1.2425113   -0.8337844 \n",
       "   DivisionW      PutOuts \n",
       "-118.4364998    0.2526925 "
      ]
     },
     "metadata": {},
     "output_type": "display_data"
    }
   ],
   "source": [
    "coef(regfit_best, 7)"
   ]
  },
  {
   "cell_type": "markdown",
   "metadata": {},
   "source": [
    "This was a little tedious, partly because there is no predict() method\n",
    "for regsubsets(). Since we will be using this function again, we can capture\n",
    "our steps above and write our own predict method."
   ]
  },
  {
   "cell_type": "code",
   "execution_count": 26,
   "metadata": {
    "vscode": {
     "languageId": "r"
    }
   },
   "outputs": [],
   "source": [
    "predict_regsubsets <- function(object, newdata, id, ...) {\n",
    "    form <- as.formula(object$call[[2]])\n",
    "    mat <- model.matrix(form, newdata)\n",
    "    coef_i <- coef(object, id = id)\n",
    "    xvars <- names(coef_i)\n",
    "    mat[, xvars] %*% coef_i\n",
    "}\n"
   ]
  },
  {
   "cell_type": "markdown",
   "metadata": {},
   "source": [
    "Our function pretty much mimics what we did above. The only complex\n",
    "part is how we extracted the formula used in the call to regsubsets(). We\n",
    "demonstrate how we use this function below, when we do cross-validation.\n",
    "\n",
    "Finally, we perform best subset selection on the full data set, and select\n",
    "the best seven-variable model. It is important that we make use of the\n",
    "full data set in order to obtain more accurate coefficient estimates. Note\n",
    "that we perform best subset selection on the full data set and select the\n",
    "best seven-variable model, rather than simply using the variables that were\n",
    "obtained from the training set, because the best seven-variable model on\n",
    "the full data set may differ from the corresponding model on the training\n",
    "set."
   ]
  },
  {
   "cell_type": "code",
   "execution_count": 27,
   "metadata": {
    "vscode": {
     "languageId": "r"
    }
   },
   "outputs": [
    {
     "data": {
      "text/html": [
       "<dl class=dl-horizontal>\n",
       "\t<dt>(Intercept)</dt>\n",
       "\t\t<dd>79.4509472435319</dd>\n",
       "\t<dt>Hits</dt>\n",
       "\t\t<dd>1.28335125463328</dd>\n",
       "\t<dt>Walks</dt>\n",
       "\t\t<dd>3.22742638972714</dd>\n",
       "\t<dt>CAtBat</dt>\n",
       "\t\t<dd>-0.375235019565453</dd>\n",
       "\t<dt>CHits</dt>\n",
       "\t\t<dd>1.49570730989869</dd>\n",
       "\t<dt>CHmRun</dt>\n",
       "\t\t<dd>1.44205381889666</dd>\n",
       "\t<dt>DivisionW</dt>\n",
       "\t\t<dd>-129.986643165116</dd>\n",
       "\t<dt>PutOuts</dt>\n",
       "\t\t<dd>0.236681317525621</dd>\n",
       "</dl>\n"
      ],
      "text/latex": [
       "\\begin{description*}\n",
       "\\item[(Intercept)] 79.4509472435319\n",
       "\\item[Hits] 1.28335125463328\n",
       "\\item[Walks] 3.22742638972714\n",
       "\\item[CAtBat] -0.375235019565453\n",
       "\\item[CHits] 1.49570730989869\n",
       "\\item[CHmRun] 1.44205381889666\n",
       "\\item[DivisionW] -129.986643165116\n",
       "\\item[PutOuts] 0.236681317525621\n",
       "\\end{description*}\n"
      ],
      "text/markdown": [
       "(Intercept)\n",
       ":   79.4509472435319Hits\n",
       ":   1.28335125463328Walks\n",
       ":   3.22742638972714CAtBat\n",
       ":   -0.375235019565453CHits\n",
       ":   1.49570730989869CHmRun\n",
       ":   1.44205381889666DivisionW\n",
       ":   -129.986643165116PutOuts\n",
       ":   0.236681317525621\n",
       "\n"
      ],
      "text/plain": [
       " (Intercept)         Hits        Walks       CAtBat        CHits       CHmRun \n",
       "  79.4509472    1.2833513    3.2274264   -0.3752350    1.4957073    1.4420538 \n",
       "   DivisionW      PutOuts \n",
       "-129.9866432    0.2366813 "
      ]
     },
     "metadata": {},
     "output_type": "display_data"
    }
   ],
   "source": [
    "regfit_best <- regsubsets(Salary ~ ., data = Hitters, nvmax = 19)\n",
    "\n",
    "\n",
    "coef(regfit_best, 7)"
   ]
  },
  {
   "cell_type": "markdown",
   "metadata": {},
   "source": [
    "> In fact, we see that the best seven-variable model on the full data set has a\n",
    "different set of variables than the best seven-variable model on the training\n",
    "set."
   ]
  },
  {
   "cell_type": "markdown",
   "metadata": {},
   "source": [
    "We now try to choose among the models of different sizes using crossvalidation.\n",
    "This approach is somewhat involved, as we must perform best\n",
    "subset selection within each of the k training sets. Despite this, we see that\n",
    "with its clever subsetting syntax, R makes this job quite easy. First, we\n",
    "create a vector that allocates each observation to one of k = 10 folds, and\n",
    "we create a matrix in which we will store the results."
   ]
  },
  {
   "cell_type": "code",
   "execution_count": 28,
   "metadata": {
    "vscode": {
     "languageId": "r"
    }
   },
   "outputs": [],
   "source": [
    "k <- 10\n",
    "\n",
    "n <- nrow(Hitters)\n",
    "\n",
    "set.seed(1)\n",
    "\n",
    "\n",
    "folds <- sample(rep(1:k, length = n))\n",
    "\n",
    "cv_errors <- matrix(NA, k, 19, dimnames = list(NULL, paste(1:19)))\n"
   ]
  },
  {
   "cell_type": "markdown",
   "metadata": {},
   "source": [
    "Now we write a for loop that performs cross-validation. In the jth fold, the\n",
    "elements of folds that equal j are in the test set, and the remainder are in\n",
    "the training set.We make our predictions for each model size (using our new\n",
    "predict() method), compute the test errors on the appropriate subset, and\n",
    "store them in the appropriate slot in the matrix cv.errors. Note that in the\n",
    "following code R will automatically use our predict.regsubsets() function\n",
    "when we call predict() because the best.fit object has class regsubsets."
   ]
  },
  {
   "cell_type": "code",
   "execution_count": 29,
   "metadata": {
    "vscode": {
     "languageId": "r"
    }
   },
   "outputs": [],
   "source": [
    "for (j in 1:k) {\n",
    "    best_fit <- regsubsets(Salary ~ ., data = Hitters[folds != j, ], nvmax = 19)\n",
    "\n",
    "    for (i in 1:19) {\n",
    "        pred <- predict_regsubsets(best_fit, Hitters[folds == j, ], id = i)\n",
    "        cv_errors[j, i] <- mean((Hitters$Salary[folds == j] - pred)^2)\n",
    "    }\n",
    "}"
   ]
  },
  {
   "cell_type": "markdown",
   "metadata": {},
   "source": [
    "This has given us a 10×19 matrix, of which the (j, i)th element corresponds\n",
    "to the test MSE for the jth cross-validation fold for the best i-variable\n",
    "model. We use the apply() function to average over the columns of this\n",
    "matrix in order to obtain a vector for which the ith element is the crossvalidation\n",
    "error for the i-variable model."
   ]
  },
  {
   "cell_type": "code",
   "execution_count": 30,
   "metadata": {
    "vscode": {
     "languageId": "r"
    }
   },
   "outputs": [
    {
     "data": {
      "text/html": [
       "<dl class=dl-horizontal>\n",
       "\t<dt>1</dt>\n",
       "\t\t<dd>143439.777169724</dd>\n",
       "\t<dt>2</dt>\n",
       "\t\t<dd>126817.028088538</dd>\n",
       "\t<dt>3</dt>\n",
       "\t\t<dd>134214.168280035</dd>\n",
       "\t<dt>4</dt>\n",
       "\t\t<dd>131782.944759182</dd>\n",
       "\t<dt>5</dt>\n",
       "\t\t<dd>130765.606614611</dd>\n",
       "\t<dt>6</dt>\n",
       "\t\t<dd>120382.922678267</dd>\n",
       "\t<dt>7</dt>\n",
       "\t\t<dd>121443.094798079</dd>\n",
       "\t<dt>8</dt>\n",
       "\t\t<dd>114363.700297284</dd>\n",
       "\t<dt>9</dt>\n",
       "\t\t<dd>115163.051870833</dd>\n",
       "\t<dt>10</dt>\n",
       "\t\t<dd>109365.9721354</dd>\n",
       "\t<dt>11</dt>\n",
       "\t\t<dd>112738.486153961</dd>\n",
       "\t<dt>12</dt>\n",
       "\t\t<dd>113616.50122792</dd>\n",
       "\t<dt>13</dt>\n",
       "\t\t<dd>115557.605426636</dd>\n",
       "\t<dt>14</dt>\n",
       "\t\t<dd>115853.328759098</dd>\n",
       "\t<dt>15</dt>\n",
       "\t\t<dd>115630.553130574</dd>\n",
       "\t<dt>16</dt>\n",
       "\t\t<dd>116050.027936048</dd>\n",
       "\t<dt>17</dt>\n",
       "\t\t<dd>116117.027907861</dd>\n",
       "\t<dt>18</dt>\n",
       "\t\t<dd>116419.258332581</dd>\n",
       "\t<dt>19</dt>\n",
       "\t\t<dd>116299.085423439</dd>\n",
       "</dl>\n"
      ],
      "text/latex": [
       "\\begin{description*}\n",
       "\\item[1] 143439.777169724\n",
       "\\item[2] 126817.028088538\n",
       "\\item[3] 134214.168280035\n",
       "\\item[4] 131782.944759182\n",
       "\\item[5] 130765.606614611\n",
       "\\item[6] 120382.922678267\n",
       "\\item[7] 121443.094798079\n",
       "\\item[8] 114363.700297284\n",
       "\\item[9] 115163.051870833\n",
       "\\item[10] 109365.9721354\n",
       "\\item[11] 112738.486153961\n",
       "\\item[12] 113616.50122792\n",
       "\\item[13] 115557.605426636\n",
       "\\item[14] 115853.328759098\n",
       "\\item[15] 115630.553130574\n",
       "\\item[16] 116050.027936048\n",
       "\\item[17] 116117.027907861\n",
       "\\item[18] 116419.258332581\n",
       "\\item[19] 116299.085423439\n",
       "\\end{description*}\n"
      ],
      "text/markdown": [
       "1\n",
       ":   143439.7771697242\n",
       ":   126817.0280885383\n",
       ":   134214.1682800354\n",
       ":   131782.9447591825\n",
       ":   130765.6066146116\n",
       ":   120382.9226782677\n",
       ":   121443.0947980798\n",
       ":   114363.7002972849\n",
       ":   115163.05187083310\n",
       ":   109365.972135411\n",
       ":   112738.48615396112\n",
       ":   113616.5012279213\n",
       ":   115557.60542663614\n",
       ":   115853.32875909815\n",
       ":   115630.55313057416\n",
       ":   116050.02793604817\n",
       ":   116117.02790786118\n",
       ":   116419.25833258119\n",
       ":   116299.085423439\n",
       "\n"
      ],
      "text/plain": [
       "       1        2        3        4        5        6        7        8 \n",
       "143439.8 126817.0 134214.2 131782.9 130765.6 120382.9 121443.1 114363.7 \n",
       "       9       10       11       12       13       14       15       16 \n",
       "115163.1 109366.0 112738.5 113616.5 115557.6 115853.3 115630.6 116050.0 \n",
       "      17       18       19 \n",
       "116117.0 116419.3 116299.1 "
      ]
     },
     "metadata": {},
     "output_type": "display_data"
    }
   ],
   "source": [
    "mean_cv_errors <- apply(cv_errors, 2, mean)\n",
    "\n",
    "mean_cv_errors"
   ]
  },
  {
   "cell_type": "code",
   "execution_count": 31,
   "metadata": {
    "vscode": {
     "languageId": "r"
    }
   },
   "outputs": [
    {
     "data": {
      "image/png": "[encoded data removed]",
      "text/plain": [
       "plot without title"
      ]
     },
     "metadata": {},
     "output_type": "display_data"
    }
   ],
   "source": [
    "par(mfrow = c(1, 1))\n",
    "\n",
    "plot(mean_cv_errors, type = \"b\")"
   ]
  },
  {
   "cell_type": "markdown",
   "metadata": {},
   "source": [
    "> We see that cross-validation selects a 10-variable model. We now perform\n",
    "best subset selection on the full data set in order to obtain the 10-variable\n",
    "model."
   ]
  },
  {
   "cell_type": "code",
   "execution_count": 32,
   "metadata": {
    "vscode": {
     "languageId": "r"
    }
   },
   "outputs": [
    {
     "data": {
      "text/html": [
       "<dl class=dl-horizontal>\n",
       "\t<dt>(Intercept)</dt>\n",
       "\t\t<dd>162.535442040545</dd>\n",
       "\t<dt>AtBat</dt>\n",
       "\t\t<dd>-2.16865005340437</dd>\n",
       "\t<dt>Hits</dt>\n",
       "\t\t<dd>6.91801749476659</dd>\n",
       "\t<dt>Walks</dt>\n",
       "\t\t<dd>5.7732246470264</dd>\n",
       "\t<dt>CAtBat</dt>\n",
       "\t\t<dd>-0.130079783913646</dd>\n",
       "\t<dt>CRuns</dt>\n",
       "\t\t<dd>1.40824900877044</dd>\n",
       "\t<dt>CRBI</dt>\n",
       "\t\t<dd>0.774312153250204</dd>\n",
       "\t<dt>CWalks</dt>\n",
       "\t\t<dd>-0.830826351501743</dd>\n",
       "\t<dt>DivisionW</dt>\n",
       "\t\t<dd>-112.380057493543</dd>\n",
       "\t<dt>PutOuts</dt>\n",
       "\t\t<dd>0.297372596603942</dd>\n",
       "\t<dt>Assists</dt>\n",
       "\t\t<dd>0.283168028635278</dd>\n",
       "</dl>\n"
      ],
      "text/latex": [
       "\\begin{description*}\n",
       "\\item[(Intercept)] 162.535442040545\n",
       "\\item[AtBat] -2.16865005340437\n",
       "\\item[Hits] 6.91801749476659\n",
       "\\item[Walks] 5.7732246470264\n",
       "\\item[CAtBat] -0.130079783913646\n",
       "\\item[CRuns] 1.40824900877044\n",
       "\\item[CRBI] 0.774312153250204\n",
       "\\item[CWalks] -0.830826351501743\n",
       "\\item[DivisionW] -112.380057493543\n",
       "\\item[PutOuts] 0.297372596603942\n",
       "\\item[Assists] 0.283168028635278\n",
       "\\end{description*}\n"
      ],
      "text/markdown": [
       "(Intercept)\n",
       ":   162.535442040545AtBat\n",
       ":   -2.16865005340437Hits\n",
       ":   6.91801749476659Walks\n",
       ":   5.7732246470264CAtBat\n",
       ":   -0.130079783913646CRuns\n",
       ":   1.40824900877044CRBI\n",
       ":   0.774312153250204CWalks\n",
       ":   -0.830826351501743DivisionW\n",
       ":   -112.380057493543PutOuts\n",
       ":   0.297372596603942Assists\n",
       ":   0.283168028635278\n",
       "\n"
      ],
      "text/plain": [
       " (Intercept)        AtBat         Hits        Walks       CAtBat        CRuns \n",
       " 162.5354420   -2.1686501    6.9180175    5.7732246   -0.1300798    1.4082490 \n",
       "        CRBI       CWalks    DivisionW      PutOuts      Assists \n",
       "   0.7743122   -0.8308264 -112.3800575    0.2973726    0.2831680 "
      ]
     },
     "metadata": {},
     "output_type": "display_data"
    }
   ],
   "source": [
    "reg_best <- regsubsets(Salary ~ ., data = Hitters, nvmax = 19)\n",
    "\n",
    "coef(reg_best, 10)"
   ]
  },
  {
   "cell_type": "markdown",
   "metadata": {},
   "source": [
    "## Ridge Regression and the Lasso\n",
    "\n",
    "We will use the glmnet package in order to perform ridge regression and\n",
    "the lasso. The main function in this package is glmnet(), which can be used\n",
    "to fit ridge regression models, lasso models, and more. This function has\n",
    "slightly different syntax from other model-fitting functions that we have\n",
    "encountered thus far in this book. In particular, we must pass in an x\n",
    "matrix as well as a y vector, and we do not use the y ∼ x syntax. We will\n",
    "now perform ridge regression and the lasso in order to predict Salary on\n",
    "the Hitters data."
   ]
  },
  {
   "cell_type": "code",
   "execution_count": 33,
   "metadata": {
    "vscode": {
     "languageId": "r"
    }
   },
   "outputs": [
    {
     "name": "stderr",
     "output_type": "stream",
     "text": [
      "Warning message:\n",
      "\"package 'glmnet' was built under R version 3.6.3\"Loading required package: Matrix\n",
      "Loaded glmnet 4.1-1\n"
     ]
    }
   ],
   "source": [
    "library(glmnet)\n",
    "\n",
    "x <- model.matrix(Salary ~ ., data = Hitters)[ , -1]\n",
    "\n",
    "y <- Hitters$Salary"
   ]
  },
  {
   "cell_type": "markdown",
   "metadata": {},
   "source": [
    "The model.matrix() function is particularly useful for creating x; not only\n",
    "does it produce a matrix corresponding to the 19 predictors but it also\n",
    "automatically transforms any qualitative variables into dummy variables. The latter property is important because glmnet() can only take numerical,\n",
    "quantitative inputs."
   ]
  },
  {
   "cell_type": "markdown",
   "metadata": {},
   "source": [
    "## Ridge Regression\n",
    "\n",
    "The glmnet() function has an alpha argument that determines what type\n",
    "of model is fit. If alpha=0 then a ridge regression model is fit, and if alpha=1\n",
    "then a lasso model is fit."
   ]
  },
  {
   "cell_type": "code",
   "execution_count": 34,
   "metadata": {
    "vscode": {
     "languageId": "r"
    }
   },
   "outputs": [],
   "source": [
    "grid <- 10^seq(10, -2, length = 100)\n",
    "\n",
    "ridge_mod <- glmnet(x, y, alpha = 0, lambda = grid)"
   ]
  },
  {
   "cell_type": "markdown",
   "metadata": {},
   "source": [
    "By default the glmnet() function performs ridge regression for an automatically\n",
    "selected range of λ values. However, here we have chosen to implement\n",
    "the function over a grid of values ranging from λ = 10^10 to λ = 10^−2, essentially\n",
    "covering the full range of scenarios from the null model containing\n",
    "only the intercept, to the least squares fit. As we will see, we can also compute\n",
    "model fits for a particular value of λ that is not one of the original\n",
    "grid values. Note that by default, the glmnet() function standardizes the\n",
    "variables so that they are on the same scale. To turn off this default setting,\n",
    "use the argument standardize = FALSE."
   ]
  },
  {
   "cell_type": "markdown",
   "metadata": {},
   "source": [
    "Associated with each value of λ is a vector of ridge regression coefficients,\n",
    "stored in a matrix that can be accessed by coef(). In this case, it is a 20×100\n",
    "matrix, with 20 rows (one for each predictor, plus an intercept) and 100\n",
    "columns (one for each value of λ)."
   ]
  },
  {
   "cell_type": "code",
   "execution_count": 35,
   "metadata": {
    "vscode": {
     "languageId": "r"
    }
   },
   "outputs": [
    {
     "data": {
      "text/html": [
       "<ol class=list-inline>\n",
       "\t<li>20</li>\n",
       "\t<li>100</li>\n",
       "</ol>\n"
      ],
      "text/latex": [
       "\\begin{enumerate*}\n",
       "\\item 20\n",
       "\\item 100\n",
       "\\end{enumerate*}\n"
      ],
      "text/markdown": [
       "1. 20\n",
       "2. 100\n",
       "\n",
       "\n"
      ],
      "text/plain": [
       "[1]  20 100"
      ]
     },
     "metadata": {},
     "output_type": "display_data"
    }
   ],
   "source": [
    "dim(coef(ridge_mod))"
   ]
  },
  {
   "cell_type": "markdown",
   "metadata": {},
   "source": [
    "We expect the coefficient estimates to be much smaller, in terms of ℓ2 norm,\n",
    "when a large value of λ is used, as compared to when a small value of λ is\n",
    "used. These are the coefficients when λ = 11,498, along with their ℓ2 norm:"
   ]
  },
  {
   "cell_type": "code",
   "execution_count": 36,
   "metadata": {
    "vscode": {
     "languageId": "r"
    }
   },
   "outputs": [
    {
     "data": {
      "text/html": [
       "11497.5699539774"
      ],
      "text/latex": [
       "11497.5699539774"
      ],
      "text/markdown": [
       "11497.5699539774"
      ],
      "text/plain": [
       "[1] 11497.57"
      ]
     },
     "metadata": {},
     "output_type": "display_data"
    }
   ],
   "source": [
    "ridge_mod$lambda[50]"
   ]
  },
  {
   "cell_type": "code",
   "execution_count": 37,
   "metadata": {
    "vscode": {
     "languageId": "r"
    }
   },
   "outputs": [
    {
     "data": {
      "text/html": [
       "<dl class=dl-horizontal>\n",
       "\t<dt>(Intercept)</dt>\n",
       "\t\t<dd>407.356050200416</dd>\n",
       "\t<dt>AtBat</dt>\n",
       "\t\t<dd>0.0369571817501359</dd>\n",
       "\t<dt>Hits</dt>\n",
       "\t\t<dd>0.138180343807892</dd>\n",
       "\t<dt>HmRun</dt>\n",
       "\t\t<dd>0.524629975886911</dd>\n",
       "\t<dt>Runs</dt>\n",
       "\t\t<dd>0.230701522621179</dd>\n",
       "\t<dt>RBI</dt>\n",
       "\t\t<dd>0.239841458504058</dd>\n",
       "\t<dt>Walks</dt>\n",
       "\t\t<dd>0.289618741049884</dd>\n",
       "\t<dt>Years</dt>\n",
       "\t\t<dd>1.10770292908555</dd>\n",
       "\t<dt>CAtBat</dt>\n",
       "\t\t<dd>0.00313181522151328</dd>\n",
       "\t<dt>CHits</dt>\n",
       "\t\t<dd>0.0116536373557531</dd>\n",
       "\t<dt>CHmRun</dt>\n",
       "\t\t<dd>0.0875456697555949</dd>\n",
       "\t<dt>CRuns</dt>\n",
       "\t\t<dd>0.0233798823693758</dd>\n",
       "\t<dt>CRBI</dt>\n",
       "\t\t<dd>0.0241383203685686</dd>\n",
       "\t<dt>CWalks</dt>\n",
       "\t\t<dd>0.0250154205993732</dd>\n",
       "\t<dt>LeagueN</dt>\n",
       "\t\t<dd>0.0850281135625444</dd>\n",
       "\t<dt>DivisionW</dt>\n",
       "\t\t<dd>-6.21544097273146</dd>\n",
       "\t<dt>PutOuts</dt>\n",
       "\t\t<dd>0.0164825767604547</dd>\n",
       "\t<dt>Assists</dt>\n",
       "\t\t<dd>0.00261298804528183</dd>\n",
       "\t<dt>Errors</dt>\n",
       "\t\t<dd>-0.0205026903654579</dd>\n",
       "\t<dt>NewLeagueN</dt>\n",
       "\t\t<dd>0.301433531372699</dd>\n",
       "</dl>\n"
      ],
      "text/latex": [
       "\\begin{description*}\n",
       "\\item[(Intercept)] 407.356050200416\n",
       "\\item[AtBat] 0.0369571817501359\n",
       "\\item[Hits] 0.138180343807892\n",
       "\\item[HmRun] 0.524629975886911\n",
       "\\item[Runs] 0.230701522621179\n",
       "\\item[RBI] 0.239841458504058\n",
       "\\item[Walks] 0.289618741049884\n",
       "\\item[Years] 1.10770292908555\n",
       "\\item[CAtBat] 0.00313181522151328\n",
       "\\item[CHits] 0.0116536373557531\n",
       "\\item[CHmRun] 0.0875456697555949\n",
       "\\item[CRuns] 0.0233798823693758\n",
       "\\item[CRBI] 0.0241383203685686\n",
       "\\item[CWalks] 0.0250154205993732\n",
       "\\item[LeagueN] 0.0850281135625444\n",
       "\\item[DivisionW] -6.21544097273146\n",
       "\\item[PutOuts] 0.0164825767604547\n",
       "\\item[Assists] 0.00261298804528183\n",
       "\\item[Errors] -0.0205026903654579\n",
       "\\item[NewLeagueN] 0.301433531372699\n",
       "\\end{description*}\n"
      ],
      "text/markdown": [
       "(Intercept)\n",
       ":   407.356050200416AtBat\n",
       ":   0.0369571817501359Hits\n",
       ":   0.138180343807892HmRun\n",
       ":   0.524629975886911Runs\n",
       ":   0.230701522621179RBI\n",
       ":   0.239841458504058Walks\n",
       ":   0.289618741049884Years\n",
       ":   1.10770292908555CAtBat\n",
       ":   0.00313181522151328CHits\n",
       ":   0.0116536373557531CHmRun\n",
       ":   0.0875456697555949CRuns\n",
       ":   0.0233798823693758CRBI\n",
       ":   0.0241383203685686CWalks\n",
       ":   0.0250154205993732LeagueN\n",
       ":   0.0850281135625444DivisionW\n",
       ":   -6.21544097273146PutOuts\n",
       ":   0.0164825767604547Assists\n",
       ":   0.00261298804528183Errors\n",
       ":   -0.0205026903654579NewLeagueN\n",
       ":   0.301433531372699\n",
       "\n"
      ],
      "text/plain": [
       "  (Intercept)         AtBat          Hits         HmRun          Runs \n",
       "407.356050200   0.036957182   0.138180344   0.524629976   0.230701523 \n",
       "          RBI         Walks         Years        CAtBat         CHits \n",
       "  0.239841459   0.289618741   1.107702929   0.003131815   0.011653637 \n",
       "       CHmRun         CRuns          CRBI        CWalks       LeagueN \n",
       "  0.087545670   0.023379882   0.024138320   0.025015421   0.085028114 \n",
       "    DivisionW       PutOuts       Assists        Errors    NewLeagueN \n",
       " -6.215440973   0.016482577   0.002612988  -0.020502690   0.301433531 "
      ]
     },
     "metadata": {},
     "output_type": "display_data"
    }
   ],
   "source": [
    "coef(ridge_mod)[, 50]"
   ]
  },
  {
   "cell_type": "markdown",
   "metadata": {},
   "source": [
    "In contrast, here are the coefficients when λ = 705, along with their ℓ2\n",
    "norm. Note the much larger ℓ2 norm of the coefficients associated with this\n",
    "smaller value of λ."
   ]
  },
  {
   "cell_type": "code",
   "execution_count": 38,
   "metadata": {
    "vscode": {
     "languageId": "r"
    }
   },
   "outputs": [
    {
     "data": {
      "text/html": [
       "705.480231071865"
      ],
      "text/latex": [
       "705.480231071865"
      ],
      "text/markdown": [
       "705.480231071865"
      ],
      "text/plain": [
       "[1] 705.4802"
      ]
     },
     "metadata": {},
     "output_type": "display_data"
    }
   ],
   "source": [
    "ridge_mod$lambda[60]"
   ]
  },
  {
   "cell_type": "code",
   "execution_count": 39,
   "metadata": {
    "vscode": {
     "languageId": "r"
    }
   },
   "outputs": [
    {
     "data": {
      "text/html": [
       "<dl class=dl-horizontal>\n",
       "\t<dt>(Intercept)</dt>\n",
       "\t\t<dd>54.3251995018372</dd>\n",
       "\t<dt>AtBat</dt>\n",
       "\t\t<dd>0.112111145878249</dd>\n",
       "\t<dt>Hits</dt>\n",
       "\t\t<dd>0.656224085323628</dd>\n",
       "\t<dt>HmRun</dt>\n",
       "\t\t<dd>1.17980909638777</dd>\n",
       "\t<dt>Runs</dt>\n",
       "\t\t<dd>0.937697128927054</dd>\n",
       "\t<dt>RBI</dt>\n",
       "\t\t<dd>0.847185458771521</dd>\n",
       "\t<dt>Walks</dt>\n",
       "\t\t<dd>1.31987948048781</dd>\n",
       "\t<dt>Years</dt>\n",
       "\t\t<dd>2.59640424574253</dd>\n",
       "\t<dt>CAtBat</dt>\n",
       "\t\t<dd>0.0108341254432856</dd>\n",
       "\t<dt>CHits</dt>\n",
       "\t\t<dd>0.0467455700054452</dd>\n",
       "\t<dt>CHmRun</dt>\n",
       "\t\t<dd>0.337773183143353</dd>\n",
       "\t<dt>CRuns</dt>\n",
       "\t\t<dd>0.0935552830000676</dd>\n",
       "\t<dt>CRBI</dt>\n",
       "\t\t<dd>0.0978040232271687</dd>\n",
       "\t<dt>CWalks</dt>\n",
       "\t\t<dd>0.0718961166304866</dd>\n",
       "\t<dt>LeagueN</dt>\n",
       "\t\t<dd>13.6837019095343</dd>\n",
       "\t<dt>DivisionW</dt>\n",
       "\t\t<dd>-54.658777504592</dd>\n",
       "\t<dt>PutOuts</dt>\n",
       "\t\t<dd>0.118522894134745</dd>\n",
       "\t<dt>Assists</dt>\n",
       "\t\t<dd>0.01606037317599</dd>\n",
       "\t<dt>Errors</dt>\n",
       "\t\t<dd>-0.703586547290985</dd>\n",
       "\t<dt>NewLeagueN</dt>\n",
       "\t\t<dd>8.61181213448926</dd>\n",
       "</dl>\n"
      ],
      "text/latex": [
       "\\begin{description*}\n",
       "\\item[(Intercept)] 54.3251995018372\n",
       "\\item[AtBat] 0.112111145878249\n",
       "\\item[Hits] 0.656224085323628\n",
       "\\item[HmRun] 1.17980909638777\n",
       "\\item[Runs] 0.937697128927054\n",
       "\\item[RBI] 0.847185458771521\n",
       "\\item[Walks] 1.31987948048781\n",
       "\\item[Years] 2.59640424574253\n",
       "\\item[CAtBat] 0.0108341254432856\n",
       "\\item[CHits] 0.0467455700054452\n",
       "\\item[CHmRun] 0.337773183143353\n",
       "\\item[CRuns] 0.0935552830000676\n",
       "\\item[CRBI] 0.0978040232271687\n",
       "\\item[CWalks] 0.0718961166304866\n",
       "\\item[LeagueN] 13.6837019095343\n",
       "\\item[DivisionW] -54.658777504592\n",
       "\\item[PutOuts] 0.118522894134745\n",
       "\\item[Assists] 0.01606037317599\n",
       "\\item[Errors] -0.703586547290985\n",
       "\\item[NewLeagueN] 8.61181213448926\n",
       "\\end{description*}\n"
      ],
      "text/markdown": [
       "(Intercept)\n",
       ":   54.3251995018372AtBat\n",
       ":   0.112111145878249Hits\n",
       ":   0.656224085323628HmRun\n",
       ":   1.17980909638777Runs\n",
       ":   0.937697128927054RBI\n",
       ":   0.847185458771521Walks\n",
       ":   1.31987948048781Years\n",
       ":   2.59640424574253CAtBat\n",
       ":   0.0108341254432856CHits\n",
       ":   0.0467455700054452CHmRun\n",
       ":   0.337773183143353CRuns\n",
       ":   0.0935552830000676CRBI\n",
       ":   0.0978040232271687CWalks\n",
       ":   0.0718961166304866LeagueN\n",
       ":   13.6837019095343DivisionW\n",
       ":   -54.658777504592PutOuts\n",
       ":   0.118522894134745Assists\n",
       ":   0.01606037317599Errors\n",
       ":   -0.703586547290985NewLeagueN\n",
       ":   8.61181213448926\n",
       "\n"
      ],
      "text/plain": [
       " (Intercept)        AtBat         Hits        HmRun         Runs          RBI \n",
       " 54.32519950   0.11211115   0.65622409   1.17980910   0.93769713   0.84718546 \n",
       "       Walks        Years       CAtBat        CHits       CHmRun        CRuns \n",
       "  1.31987948   2.59640425   0.01083413   0.04674557   0.33777318   0.09355528 \n",
       "        CRBI       CWalks      LeagueN    DivisionW      PutOuts      Assists \n",
       "  0.09780402   0.07189612  13.68370191 -54.65877750   0.11852289   0.01606037 \n",
       "      Errors   NewLeagueN \n",
       " -0.70358655   8.61181213 "
      ]
     },
     "metadata": {},
     "output_type": "display_data"
    }
   ],
   "source": [
    "coef(ridge_mod)[, 60]"
   ]
  },
  {
   "cell_type": "code",
   "execution_count": 40,
   "metadata": {
    "vscode": {
     "languageId": "r"
    }
   },
   "outputs": [
    {
     "data": {
      "text/html": [
       "57.110014262533"
      ],
      "text/latex": [
       "57.110014262533"
      ],
      "text/markdown": [
       "57.110014262533"
      ],
      "text/plain": [
       "[1] 57.11001"
      ]
     },
     "metadata": {},
     "output_type": "display_data"
    }
   ],
   "source": [
    "sqrt(sum(coef(ridge_mod)[-1, 60]^2))"
   ]
  },
  {
   "cell_type": "markdown",
   "metadata": {},
   "source": [
    "We can use the predict() function for a number of purposes. For instance,\n",
    "we can obtain the ridge regression coefficients for a new value of λ, say 50:"
   ]
  },
  {
   "cell_type": "code",
   "execution_count": 41,
   "metadata": {
    "vscode": {
     "languageId": "r"
    }
   },
   "outputs": [
    {
     "data": {
      "text/html": [
       "<dl class=dl-horizontal>\n",
       "\t<dt>(Intercept)</dt>\n",
       "\t\t<dd>48.7661032921608</dd>\n",
       "\t<dt>AtBat</dt>\n",
       "\t\t<dd>-0.358099859376738</dd>\n",
       "\t<dt>Hits</dt>\n",
       "\t\t<dd>1.96935928646357</dd>\n",
       "\t<dt>HmRun</dt>\n",
       "\t\t<dd>-1.27824798145678</dd>\n",
       "\t<dt>Runs</dt>\n",
       "\t\t<dd>1.14589163211962</dd>\n",
       "\t<dt>RBI</dt>\n",
       "\t\t<dd>0.803829228437672</dd>\n",
       "\t<dt>Walks</dt>\n",
       "\t\t<dd>2.71618579623371</dd>\n",
       "\t<dt>Years</dt>\n",
       "\t\t<dd>-6.21831921727865</dd>\n",
       "\t<dt>CAtBat</dt>\n",
       "\t\t<dd>0.00544783719814918</dd>\n",
       "\t<dt>CHits</dt>\n",
       "\t\t<dd>0.10648951402342</dd>\n",
       "\t<dt>CHmRun</dt>\n",
       "\t\t<dd>0.624485956082661</dd>\n",
       "\t<dt>CRuns</dt>\n",
       "\t\t<dd>0.221498463760022</dd>\n",
       "\t<dt>CRBI</dt>\n",
       "\t\t<dd>0.218691380321248</dd>\n",
       "\t<dt>CWalks</dt>\n",
       "\t\t<dd>-0.150024548516927</dd>\n",
       "\t<dt>LeagueN</dt>\n",
       "\t\t<dd>45.9258855144158</dd>\n",
       "\t<dt>DivisionW</dt>\n",
       "\t\t<dd>-118.201136816368</dd>\n",
       "\t<dt>PutOuts</dt>\n",
       "\t\t<dd>0.250232154092559</dd>\n",
       "\t<dt>Assists</dt>\n",
       "\t\t<dd>0.121566461346767</dd>\n",
       "\t<dt>Errors</dt>\n",
       "\t\t<dd>-3.27859954463555</dd>\n",
       "\t<dt>NewLeagueN</dt>\n",
       "\t\t<dd>-9.4966803100264</dd>\n",
       "</dl>\n"
      ],
      "text/latex": [
       "\\begin{description*}\n",
       "\\item[(Intercept)] 48.7661032921608\n",
       "\\item[AtBat] -0.358099859376738\n",
       "\\item[Hits] 1.96935928646357\n",
       "\\item[HmRun] -1.27824798145678\n",
       "\\item[Runs] 1.14589163211962\n",
       "\\item[RBI] 0.803829228437672\n",
       "\\item[Walks] 2.71618579623371\n",
       "\\item[Years] -6.21831921727865\n",
       "\\item[CAtBat] 0.00544783719814918\n",
       "\\item[CHits] 0.10648951402342\n",
       "\\item[CHmRun] 0.624485956082661\n",
       "\\item[CRuns] 0.221498463760022\n",
       "\\item[CRBI] 0.218691380321248\n",
       "\\item[CWalks] -0.150024548516927\n",
       "\\item[LeagueN] 45.9258855144158\n",
       "\\item[DivisionW] -118.201136816368\n",
       "\\item[PutOuts] 0.250232154092559\n",
       "\\item[Assists] 0.121566461346767\n",
       "\\item[Errors] -3.27859954463555\n",
       "\\item[NewLeagueN] -9.4966803100264\n",
       "\\end{description*}\n"
      ],
      "text/markdown": [
       "(Intercept)\n",
       ":   48.7661032921608AtBat\n",
       ":   -0.358099859376738Hits\n",
       ":   1.96935928646357HmRun\n",
       ":   -1.27824798145678Runs\n",
       ":   1.14589163211962RBI\n",
       ":   0.803829228437672Walks\n",
       ":   2.71618579623371Years\n",
       ":   -6.21831921727865CAtBat\n",
       ":   0.00544783719814918CHits\n",
       ":   0.10648951402342CHmRun\n",
       ":   0.624485956082661CRuns\n",
       ":   0.221498463760022CRBI\n",
       ":   0.218691380321248CWalks\n",
       ":   -0.150024548516927LeagueN\n",
       ":   45.9258855144158DivisionW\n",
       ":   -118.201136816368PutOuts\n",
       ":   0.250232154092559Assists\n",
       ":   0.121566461346767Errors\n",
       ":   -3.27859954463555NewLeagueN\n",
       ":   -9.4966803100264\n",
       "\n"
      ],
      "text/plain": [
       "  (Intercept)         AtBat          Hits         HmRun          Runs \n",
       " 4.876610e+01 -3.580999e-01  1.969359e+00 -1.278248e+00  1.145892e+00 \n",
       "          RBI         Walks         Years        CAtBat         CHits \n",
       " 8.038292e-01  2.716186e+00 -6.218319e+00  5.447837e-03  1.064895e-01 \n",
       "       CHmRun         CRuns          CRBI        CWalks       LeagueN \n",
       " 6.244860e-01  2.214985e-01  2.186914e-01 -1.500245e-01  4.592589e+01 \n",
       "    DivisionW       PutOuts       Assists        Errors    NewLeagueN \n",
       "-1.182011e+02  2.502322e-01  1.215665e-01 -3.278600e+00 -9.496680e+00 "
      ]
     },
     "metadata": {},
     "output_type": "display_data"
    }
   ],
   "source": [
    "predict(ridge_mod, s = 50, type = \"coefficients\")[1:20, ]"
   ]
  },
  {
   "cell_type": "markdown",
   "metadata": {},
   "source": [
    "We now split the samples into a training set and a test set in order\n",
    "to estimate the test error of ridge regression and the lasso. There are two\n",
    "common ways to randomly split a data set. The first is to produce a random\n",
    "vector of TRUE, FALSE elements and select the observations corresponding to\n",
    "TRUE for the training data. The second is to randomly choose a subset of\n",
    "numbers between 1 and n; these can then be used as the indices for the\n",
    "training observations. The two approaches work equally well. We used the\n",
    "former method in Section 6.5.1. Here we demonstrate the latter approach.\n",
    "We first set a random seed so that the results obtained will be reproducible."
   ]
  },
  {
   "cell_type": "code",
   "execution_count": 43,
   "metadata": {
    "vscode": {
     "languageId": "r"
    }
   },
   "outputs": [],
   "source": [
    "set.seed(1)\n",
    "\n",
    "train <- sample(1:nrow(x), nrow(x) / 2)\n",
    "\n",
    "test <- (-train)\n",
    "\n",
    "y_test <- y[test]"
   ]
  },
  {
   "cell_type": "markdown",
   "metadata": {},
   "source": [
    "Next we fit a ridge regression model on the training set, and evaluate\n",
    "its MSE on the test set, using λ = 4. Note the use of the predict()\n",
    "function again. This time we get predictions for a test set, by replacing\n",
    "type=\"coefficients\" with the newx argument."
   ]
  },
  {
   "cell_type": "code",
   "execution_count": 47,
   "metadata": {
    "vscode": {
     "languageId": "r"
    }
   },
   "outputs": [
    {
     "data": {
      "text/html": [
       "142199.150722761"
      ],
      "text/latex": [
       "142199.150722761"
      ],
      "text/markdown": [
       "142199.150722761"
      ],
      "text/plain": [
       "[1] 142199.2"
      ]
     },
     "metadata": {},
     "output_type": "display_data"
    }
   ],
   "source": [
    "ridge_mod <- glmnet(x[train, ], y[train], alpha = 0, lambda = grid, thresh = 1e-12)\n",
    "\n",
    "ridge_pred <- predict(ridge_mod, s = 4, newx = x[test,])\n",
    "\n",
    "mean((ridge_pred - y_test)^2)"
   ]
  },
  {
   "cell_type": "markdown",
   "metadata": {},
   "source": [
    "The test MSE is 142,199. Note that if we had instead simply fit a model\n",
    "with just an intercept, we would have predicted each test observation using\n",
    "the mean of the training observations. In that case, we could compute the\n",
    "test set MSE like this:"
   ]
  },
  {
   "cell_type": "code",
   "execution_count": 48,
   "metadata": {
    "vscode": {
     "languageId": "r"
    }
   },
   "outputs": [
    {
     "data": {
      "text/html": [
       "224669.906736192"
      ],
      "text/latex": [
       "224669.906736192"
      ],
      "text/markdown": [
       "224669.906736192"
      ],
      "text/plain": [
       "[1] 224669.9"
      ]
     },
     "metadata": {},
     "output_type": "display_data"
    }
   ],
   "source": [
    "mean((mean(y[train]) - y[test])^2)"
   ]
  },
  {
   "cell_type": "markdown",
   "metadata": {},
   "source": [
    "We could also get the same result by fitting a ridge regression model with\n",
    "a very large value of λ. Note that 1e10 means 10^10."
   ]
  },
  {
   "cell_type": "code",
   "execution_count": 49,
   "metadata": {
    "vscode": {
     "languageId": "r"
    }
   },
   "outputs": [
    {
     "data": {
      "text/html": [
       "224669.833069663"
      ],
      "text/latex": [
       "224669.833069663"
      ],
      "text/markdown": [
       "224669.833069663"
      ],
      "text/plain": [
       "[1] 224669.8"
      ]
     },
     "metadata": {},
     "output_type": "display_data"
    }
   ],
   "source": [
    "ridge_pred <- predict(ridge_mod, s = 1e10, newx = x[test,])\n",
    "\n",
    "mean((ridge_pred - y_test)^2)"
   ]
  },
  {
   "cell_type": "markdown",
   "metadata": {},
   "source": [
    "So fitting a ridge regression model with λ = 4 leads to a much lower test\n",
    "MSE than fitting a model with just an intercept. We now check whether\n",
    "there is any benefit to performing ridge regression with λ = 4 instead of\n",
    "just performing least squares regression. Recall that least squares is simply\n",
    "ridge regression with λ = 0.8"
   ]
  },
  {
   "cell_type": "code",
   "execution_count": 53,
   "metadata": {
    "vscode": {
     "languageId": "r"
    }
   },
   "outputs": [
    {
     "data": {
      "text/html": [
       "168588.573185796"
      ],
      "text/latex": [
       "168588.573185796"
      ],
      "text/markdown": [
       "168588.573185796"
      ],
      "text/plain": [
       "[1] 168588.6"
      ]
     },
     "metadata": {},
     "output_type": "display_data"
    },
    {
     "data": {
      "text/plain": [
       "\n",
       "Call:\n",
       "lm(formula = y ~ x, subset = train)\n",
       "\n",
       "Coefficients:\n",
       "(Intercept)       xAtBat        xHits       xHmRun        xRuns         xRBI  \n",
       "   274.0145      -0.3521      -1.6377       5.8145       1.5424       1.1243  \n",
       "     xWalks       xYears      xCAtBat       xCHits      xCHmRun       xCRuns  \n",
       "     3.7287     -16.3773      -0.6412       3.1632       3.4008      -0.9739  \n",
       "      xCRBI      xCWalks     xLeagueN   xDivisionW     xPutOuts     xAssists  \n",
       "    -0.6005       0.3379     119.1486    -144.0831       0.1976       0.6804  \n",
       "    xErrors  xNewLeagueN  \n",
       "    -4.7128     -71.0951  \n"
      ]
     },
     "metadata": {},
     "output_type": "display_data"
    },
    {
     "data": {
      "text/html": [
       "<dl class=dl-horizontal>\n",
       "\t<dt>(Intercept)</dt>\n",
       "\t\t<dd>274.020099411171</dd>\n",
       "\t<dt>AtBat</dt>\n",
       "\t\t<dd>-0.352190040359066</dd>\n",
       "\t<dt>Hits</dt>\n",
       "\t\t<dd>-1.63713831624301</dd>\n",
       "\t<dt>HmRun</dt>\n",
       "\t\t<dd>5.81466916444922</dd>\n",
       "\t<dt>Runs</dt>\n",
       "\t\t<dd>1.54233614804163</dd>\n",
       "\t<dt>RBI</dt>\n",
       "\t\t<dd>1.12418373819324</dd>\n",
       "\t<dt>Walks</dt>\n",
       "\t\t<dd>3.72884063254251</dd>\n",
       "\t<dt>Years</dt>\n",
       "\t\t<dd>-16.3795195276059</dd>\n",
       "\t<dt>CAtBat</dt>\n",
       "\t\t<dd>-0.641123531289763</dd>\n",
       "\t<dt>CHits</dt>\n",
       "\t\t<dd>3.16294442513102</dd>\n",
       "\t<dt>CHmRun</dt>\n",
       "\t\t<dd>3.40052810127103</dd>\n",
       "\t<dt>CRuns</dt>\n",
       "\t\t<dd>-0.973940545112817</dd>\n",
       "\t<dt>CRBI</dt>\n",
       "\t\t<dd>-0.600397639660992</dd>\n",
       "\t<dt>CWalks</dt>\n",
       "\t\t<dd>0.337842206934086</dd>\n",
       "\t<dt>LeagueN</dt>\n",
       "\t\t<dd>119.143463714468</dd>\n",
       "\t<dt>DivisionW</dt>\n",
       "\t\t<dd>-144.085306139924</dd>\n",
       "\t<dt>PutOuts</dt>\n",
       "\t\t<dd>0.197630005419206</dd>\n",
       "\t<dt>Assists</dt>\n",
       "\t\t<dd>0.680420043718992</dd>\n",
       "\t<dt>Errors</dt>\n",
       "\t\t<dd>-4.71278790209915</dd>\n",
       "\t<dt>NewLeagueN</dt>\n",
       "\t\t<dd>-71.0898913709193</dd>\n",
       "</dl>\n"
      ],
      "text/latex": [
       "\\begin{description*}\n",
       "\\item[(Intercept)] 274.020099411171\n",
       "\\item[AtBat] -0.352190040359066\n",
       "\\item[Hits] -1.63713831624301\n",
       "\\item[HmRun] 5.81466916444922\n",
       "\\item[Runs] 1.54233614804163\n",
       "\\item[RBI] 1.12418373819324\n",
       "\\item[Walks] 3.72884063254251\n",
       "\\item[Years] -16.3795195276059\n",
       "\\item[CAtBat] -0.641123531289763\n",
       "\\item[CHits] 3.16294442513102\n",
       "\\item[CHmRun] 3.40052810127103\n",
       "\\item[CRuns] -0.973940545112817\n",
       "\\item[CRBI] -0.600397639660992\n",
       "\\item[CWalks] 0.337842206934086\n",
       "\\item[LeagueN] 119.143463714468\n",
       "\\item[DivisionW] -144.085306139924\n",
       "\\item[PutOuts] 0.197630005419206\n",
       "\\item[Assists] 0.680420043718992\n",
       "\\item[Errors] -4.71278790209915\n",
       "\\item[NewLeagueN] -71.0898913709193\n",
       "\\end{description*}\n"
      ],
      "text/markdown": [
       "(Intercept)\n",
       ":   274.020099411171AtBat\n",
       ":   -0.352190040359066Hits\n",
       ":   -1.63713831624301HmRun\n",
       ":   5.81466916444922Runs\n",
       ":   1.54233614804163RBI\n",
       ":   1.12418373819324Walks\n",
       ":   3.72884063254251Years\n",
       ":   -16.3795195276059CAtBat\n",
       ":   -0.641123531289763CHits\n",
       ":   3.16294442513102CHmRun\n",
       ":   3.40052810127103CRuns\n",
       ":   -0.973940545112817CRBI\n",
       ":   -0.600397639660992CWalks\n",
       ":   0.337842206934086LeagueN\n",
       ":   119.143463714468DivisionW\n",
       ":   -144.085306139924PutOuts\n",
       ":   0.197630005419206Assists\n",
       ":   0.680420043718992Errors\n",
       ":   -4.71278790209915NewLeagueN\n",
       ":   -71.0898913709193\n",
       "\n"
      ],
      "text/plain": [
       " (Intercept)        AtBat         Hits        HmRun         Runs          RBI \n",
       " 274.0200994   -0.3521900   -1.6371383    5.8146692    1.5423361    1.1241837 \n",
       "       Walks        Years       CAtBat        CHits       CHmRun        CRuns \n",
       "   3.7288406  -16.3795195   -0.6411235    3.1629444    3.4005281   -0.9739405 \n",
       "        CRBI       CWalks      LeagueN    DivisionW      PutOuts      Assists \n",
       "  -0.6003976    0.3378422  119.1434637 -144.0853061    0.1976300    0.6804200 \n",
       "      Errors   NewLeagueN \n",
       "  -4.7127879  -71.0898914 "
      ]
     },
     "metadata": {},
     "output_type": "display_data"
    }
   ],
   "source": [
    "ridge_pred <- predict(ridge_mod, s = 0, newx = x[test,], exact = T, x = x[train,], y = y[train])\n",
    "\n",
    "mean((ridge_pred - y_test)^2)\n",
    "\n",
    "lm(y ~ x, subset = train)\n",
    "\n",
    "predict(ridge_mod, s = 0, exact = T, type = \"coefficients\", x = x[train,], y = y[train])[1:20, ]"
   ]
  },
  {
   "cell_type": "markdown",
   "metadata": {},
   "source": [
    "In general, if we want to fit a (unpenalized) least squares model, then\n",
    "we should use the `lm()` function, since that function provides more useful\n",
    "outputs, such as standard errors and p-values for the coefficients.\n",
    "\n",
    "\n",
    "In general, instead of arbitrarily choosing `λ = 4`, it would be better to\n",
    "use cross-validation to choose the tuning parameter `λ`. We can do this using\n",
    "the built-in cross-validation function, `cv.glmnet()`. By default, the function\n",
    "performs ten-fold cross-validation, though this can be changed using the\n",
    "argument `nfolds`. Note that we set a random seed first so our results will\n",
    "be reproducible, since the choice of the cross-validation folds is random."
   ]
  },
  {
   "cell_type": "code",
   "execution_count": 57,
   "metadata": {
    "vscode": {
     "languageId": "r"
    }
   },
   "outputs": [
    {
     "data": {
      "text/html": [
       "326.08278854596"
      ],
      "text/latex": [
       "326.08278854596"
      ],
      "text/markdown": [
       "326.08278854596"
      ],
      "text/plain": [
       "[1] 326.0828"
      ]
     },
     "metadata": {},
     "output_type": "display_data"
    },
    {
     "data": {
      "image/png": "[encoded data removed]",
      "text/plain": [
       "plot without title"
      ]
     },
     "metadata": {},
     "output_type": "display_data"
    }
   ],
   "source": [
    "set.seed(1)\n",
    "\n",
    "cv_out <- cv.glmnet(x[train, ], y[train], alpha = 0)\n",
    "\n",
    "plot(cv_out)\n",
    "\n",
    "best_lam <- cv_out$lambda.min\n",
    "\n",
    "best_lam"
   ]
  },
  {
   "cell_type": "markdown",
   "metadata": {},
   "source": [
    "Therefore, we see that the value of λ that results in the smallest crossvalidation\n",
    "error is 326. What is the test MSE associated with this value of\n",
    "λ?"
   ]
  },
  {
   "cell_type": "code",
   "execution_count": 58,
   "metadata": {
    "vscode": {
     "languageId": "r"
    }
   },
   "outputs": [
    {
     "data": {
      "text/html": [
       "139856.643451371"
      ],
      "text/latex": [
       "139856.643451371"
      ],
      "text/markdown": [
       "139856.643451371"
      ],
      "text/plain": [
       "[1] 139856.6"
      ]
     },
     "metadata": {},
     "output_type": "display_data"
    }
   ],
   "source": [
    "ridge_pred <- predict(ridge_mod, s = best_lam, newx = x[test,])\n",
    "\n",
    "mean((ridge_pred - y_test)^2)"
   ]
  },
  {
   "cell_type": "markdown",
   "metadata": {},
   "source": [
    "This represents a further improvement over the test MSE that we got using\n",
    "`λ = 4`. Finally, we refit our ridge regression model on the full data set,\n",
    "using the value of `λ` chosen by cross-validation, and examine the coefficient\n",
    "estimates."
   ]
  },
  {
   "cell_type": "code",
   "execution_count": 59,
   "metadata": {
    "vscode": {
     "languageId": "r"
    }
   },
   "outputs": [
    {
     "data": {
      "text/html": [
       "<dl class=dl-horizontal>\n",
       "\t<dt>(Intercept)</dt>\n",
       "\t\t<dd>15.4620997522127</dd>\n",
       "\t<dt>AtBat</dt>\n",
       "\t\t<dd>0.076405744408737</dd>\n",
       "\t<dt>Hits</dt>\n",
       "\t\t<dd>0.863088007993752</dd>\n",
       "\t<dt>HmRun</dt>\n",
       "\t\t<dd>0.59870362061258</dd>\n",
       "\t<dt>Runs</dt>\n",
       "\t\t<dd>1.0641654380962</dd>\n",
       "\t<dt>RBI</dt>\n",
       "\t\t<dd>0.878733369338381</dd>\n",
       "\t<dt>Walks</dt>\n",
       "\t\t<dd>1.62579483254393</dd>\n",
       "\t<dt>Years</dt>\n",
       "\t\t<dd>1.3534183973701</dd>\n",
       "\t<dt>CAtBat</dt>\n",
       "\t\t<dd>0.011316525347234</dd>\n",
       "\t<dt>CHits</dt>\n",
       "\t\t<dd>0.0573247232998315</dd>\n",
       "\t<dt>CHmRun</dt>\n",
       "\t\t<dd>0.405425800372236</dd>\n",
       "\t<dt>CRuns</dt>\n",
       "\t\t<dd>0.11455463521463</dd>\n",
       "\t<dt>CRBI</dt>\n",
       "\t\t<dd>0.12166649842296</dd>\n",
       "\t<dt>CWalks</dt>\n",
       "\t\t<dd>0.0529554072695689</dd>\n",
       "\t<dt>LeagueN</dt>\n",
       "\t\t<dd>22.1777061025632</dd>\n",
       "\t<dt>DivisionW</dt>\n",
       "\t\t<dd>-79.1868119978255</dd>\n",
       "\t<dt>PutOuts</dt>\n",
       "\t\t<dd>0.166485367462852</dd>\n",
       "\t<dt>Assists</dt>\n",
       "\t\t<dd>0.0295994798871748</dd>\n",
       "\t<dt>Errors</dt>\n",
       "\t\t<dd>-1.37068562253534</dd>\n",
       "\t<dt>NewLeagueN</dt>\n",
       "\t\t<dd>9.06869822325825</dd>\n",
       "</dl>\n"
      ],
      "text/latex": [
       "\\begin{description*}\n",
       "\\item[(Intercept)] 15.4620997522127\n",
       "\\item[AtBat] 0.076405744408737\n",
       "\\item[Hits] 0.863088007993752\n",
       "\\item[HmRun] 0.59870362061258\n",
       "\\item[Runs] 1.0641654380962\n",
       "\\item[RBI] 0.878733369338381\n",
       "\\item[Walks] 1.62579483254393\n",
       "\\item[Years] 1.3534183973701\n",
       "\\item[CAtBat] 0.011316525347234\n",
       "\\item[CHits] 0.0573247232998315\n",
       "\\item[CHmRun] 0.405425800372236\n",
       "\\item[CRuns] 0.11455463521463\n",
       "\\item[CRBI] 0.12166649842296\n",
       "\\item[CWalks] 0.0529554072695689\n",
       "\\item[LeagueN] 22.1777061025632\n",
       "\\item[DivisionW] -79.1868119978255\n",
       "\\item[PutOuts] 0.166485367462852\n",
       "\\item[Assists] 0.0295994798871748\n",
       "\\item[Errors] -1.37068562253534\n",
       "\\item[NewLeagueN] 9.06869822325825\n",
       "\\end{description*}\n"
      ],
      "text/markdown": [
       "(Intercept)\n",
       ":   15.4620997522127AtBat\n",
       ":   0.076405744408737Hits\n",
       ":   0.863088007993752HmRun\n",
       ":   0.59870362061258Runs\n",
       ":   1.0641654380962RBI\n",
       ":   0.878733369338381Walks\n",
       ":   1.62579483254393Years\n",
       ":   1.3534183973701CAtBat\n",
       ":   0.011316525347234CHits\n",
       ":   0.0573247232998315CHmRun\n",
       ":   0.405425800372236CRuns\n",
       ":   0.11455463521463CRBI\n",
       ":   0.12166649842296CWalks\n",
       ":   0.0529554072695689LeagueN\n",
       ":   22.1777061025632DivisionW\n",
       ":   -79.1868119978255PutOuts\n",
       ":   0.166485367462852Assists\n",
       ":   0.0295994798871748Errors\n",
       ":   -1.37068562253534NewLeagueN\n",
       ":   9.06869822325825\n",
       "\n"
      ],
      "text/plain": [
       " (Intercept)        AtBat         Hits        HmRun         Runs          RBI \n",
       " 15.46209975   0.07640574   0.86308801   0.59870362   1.06416544   0.87873337 \n",
       "       Walks        Years       CAtBat        CHits       CHmRun        CRuns \n",
       "  1.62579483   1.35341840   0.01131653   0.05732472   0.40542580   0.11455464 \n",
       "        CRBI       CWalks      LeagueN    DivisionW      PutOuts      Assists \n",
       "  0.12166650   0.05295541  22.17770610 -79.18681200   0.16648537   0.02959948 \n",
       "      Errors   NewLeagueN \n",
       " -1.37068562   9.06869822 "
      ]
     },
     "metadata": {},
     "output_type": "display_data"
    }
   ],
   "source": [
    "out <- glmnet(x, y, alpha = 0, lambda = grid, nfolds = 10)\n",
    "\n",
    "\n",
    "predict(out, type = \"coefficients\", s = best_lam)[1:20, ]"
   ]
  },
  {
   "cell_type": "markdown",
   "metadata": {},
   "source": [
    "# The Lasso\n",
    "\n",
    "We saw that ridge regression with a wise choice of `λ` can outperform least\n",
    "squares as well as the null model on the Hitters data set. We now ask\n",
    "whether the lasso can yield either a more accurate or a more interpretable\n",
    "model than ridge regression. In order to fit a lasso model, we once again\n",
    "use the `glmnet()` function; however, this time we use the argument `alpha=1`.\n",
    "Other than that change, we proceed just as we did in fitting a ridge model."
   ]
  },
  {
   "cell_type": "code",
   "execution_count": 60,
   "metadata": {
    "vscode": {
     "languageId": "r"
    }
   },
   "outputs": [
    {
     "name": "stderr",
     "output_type": "stream",
     "text": [
      "Warning message in regularize.values(x, y, ties, missing(ties)):\n",
      "\"collapsing to unique 'x' values\""
     ]
    },
    {
     "data": {
      "image/png": "[encoded data removed]",
      "text/plain": [
       "plot without title"
      ]
     },
     "metadata": {},
     "output_type": "display_data"
    }
   ],
   "source": [
    "lasso_mod <- glmnet(x[train,], y[train], alpha = 1, lambda = grid)\n",
    "\n",
    "plot(lasso_mod)"
   ]
  },
  {
   "cell_type": "markdown",
   "metadata": {},
   "source": [
    "> We can see from the coefficient plot that depending on the choice of tuning\n",
    "parameter, some of the coefficients will be exactly equal to zero. We now\n",
    "perform cross-validation and compute the associated test error."
   ]
  },
  {
   "cell_type": "code",
   "execution_count": 61,
   "metadata": {
    "vscode": {
     "languageId": "r"
    }
   },
   "outputs": [
    {
     "data": {
      "image/png": "[encoded data removed]",
      "text/plain": [
       "plot without title"
      ]
     },
     "metadata": {},
     "output_type": "display_data"
    }
   ],
   "source": [
    "set.seed(1)\n",
    "\n",
    "cv_out <- cv.glmnet(x[train, ], y[train], alpha = 1)\n",
    "\n",
    "plot(cv_out)"
   ]
  },
  {
   "cell_type": "code",
   "execution_count": 62,
   "metadata": {
    "vscode": {
     "languageId": "r"
    }
   },
   "outputs": [
    {
     "data": {
      "text/html": [
       "143673.618543046"
      ],
      "text/latex": [
       "143673.618543046"
      ],
      "text/markdown": [
       "143673.618543046"
      ],
      "text/plain": [
       "[1] 143673.6"
      ]
     },
     "metadata": {},
     "output_type": "display_data"
    }
   ],
   "source": [
    "best_lam <- cv_out$lambda.min\n",
    "\n",
    "lasso_pred <- predict(lasso_mod, s = best_lam, newx = x[test,])\n",
    "\n",
    "mean((lasso_pred - y_test)^2)"
   ]
  },
  {
   "cell_type": "markdown",
   "metadata": {},
   "source": [
    "This is substantially lower than the test set MSE of the null model and of\n",
    "least squares, and very similar to the test MSE of ridge regression with λ\n",
    "chosen by cross-validation.\n",
    "However, the lasso has a substantial advantage over ridge regression in\n",
    "that the resulting coefficient estimates are sparse. Here we see that 8 of the 19 coefficient estimates are exactly zero. So the lasso model with λ chosen\n",
    "by cross-validation contains only eleven variables."
   ]
  },
  {
   "cell_type": "code",
   "execution_count": 63,
   "metadata": {
    "vscode": {
     "languageId": "r"
    }
   },
   "outputs": [
    {
     "data": {
      "text/html": [
       "<dl class=dl-horizontal>\n",
       "\t<dt>(Intercept)</dt>\n",
       "\t\t<dd>1.27479059109959</dd>\n",
       "\t<dt>AtBat</dt>\n",
       "\t\t<dd>-0.054971427331518</dd>\n",
       "\t<dt>Hits</dt>\n",
       "\t\t<dd>2.18034583361294</dd>\n",
       "\t<dt>HmRun</dt>\n",
       "\t\t<dd>0</dd>\n",
       "\t<dt>Runs</dt>\n",
       "\t\t<dd>0</dd>\n",
       "\t<dt>RBI</dt>\n",
       "\t\t<dd>0</dd>\n",
       "\t<dt>Walks</dt>\n",
       "\t\t<dd>2.29192406458189</dd>\n",
       "\t<dt>Years</dt>\n",
       "\t\t<dd>-0.338061091664961</dd>\n",
       "\t<dt>CAtBat</dt>\n",
       "\t\t<dd>0</dd>\n",
       "\t<dt>CHits</dt>\n",
       "\t\t<dd>0</dd>\n",
       "\t<dt>CHmRun</dt>\n",
       "\t\t<dd>0.0282501287940462</dd>\n",
       "\t<dt>CRuns</dt>\n",
       "\t\t<dd>0.2162838490676</dd>\n",
       "\t<dt>CRBI</dt>\n",
       "\t\t<dd>0.417125367645419</dd>\n",
       "\t<dt>CWalks</dt>\n",
       "\t\t<dd>0</dd>\n",
       "\t<dt>LeagueN</dt>\n",
       "\t\t<dd>20.286150231074</dd>\n",
       "\t<dt>DivisionW</dt>\n",
       "\t\t<dd>-116.167558696372</dd>\n",
       "\t<dt>PutOuts</dt>\n",
       "\t\t<dd>0.237523845868754</dd>\n",
       "\t<dt>Assists</dt>\n",
       "\t\t<dd>0</dd>\n",
       "\t<dt>Errors</dt>\n",
       "\t\t<dd>-0.856291484604417</dd>\n",
       "\t<dt>NewLeagueN</dt>\n",
       "\t\t<dd>0</dd>\n",
       "</dl>\n"
      ],
      "text/latex": [
       "\\begin{description*}\n",
       "\\item[(Intercept)] 1.27479059109959\n",
       "\\item[AtBat] -0.054971427331518\n",
       "\\item[Hits] 2.18034583361294\n",
       "\\item[HmRun] 0\n",
       "\\item[Runs] 0\n",
       "\\item[RBI] 0\n",
       "\\item[Walks] 2.29192406458189\n",
       "\\item[Years] -0.338061091664961\n",
       "\\item[CAtBat] 0\n",
       "\\item[CHits] 0\n",
       "\\item[CHmRun] 0.0282501287940462\n",
       "\\item[CRuns] 0.2162838490676\n",
       "\\item[CRBI] 0.417125367645419\n",
       "\\item[CWalks] 0\n",
       "\\item[LeagueN] 20.286150231074\n",
       "\\item[DivisionW] -116.167558696372\n",
       "\\item[PutOuts] 0.237523845868754\n",
       "\\item[Assists] 0\n",
       "\\item[Errors] -0.856291484604417\n",
       "\\item[NewLeagueN] 0\n",
       "\\end{description*}\n"
      ],
      "text/markdown": [
       "(Intercept)\n",
       ":   1.27479059109959AtBat\n",
       ":   -0.054971427331518Hits\n",
       ":   2.18034583361294HmRun\n",
       ":   0Runs\n",
       ":   0RBI\n",
       ":   0Walks\n",
       ":   2.29192406458189Years\n",
       ":   -0.338061091664961CAtBat\n",
       ":   0CHits\n",
       ":   0CHmRun\n",
       ":   0.0282501287940462CRuns\n",
       ":   0.2162838490676CRBI\n",
       ":   0.417125367645419CWalks\n",
       ":   0LeagueN\n",
       ":   20.286150231074DivisionW\n",
       ":   -116.167558696372PutOuts\n",
       ":   0.237523845868754Assists\n",
       ":   0Errors\n",
       ":   -0.856291484604417NewLeagueN\n",
       ":   0\n",
       "\n"
      ],
      "text/plain": [
       "  (Intercept)         AtBat          Hits         HmRun          Runs \n",
       "   1.27479059   -0.05497143    2.18034583    0.00000000    0.00000000 \n",
       "          RBI         Walks         Years        CAtBat         CHits \n",
       "   0.00000000    2.29192406   -0.33806109    0.00000000    0.00000000 \n",
       "       CHmRun         CRuns          CRBI        CWalks       LeagueN \n",
       "   0.02825013    0.21628385    0.41712537    0.00000000   20.28615023 \n",
       "    DivisionW       PutOuts       Assists        Errors    NewLeagueN \n",
       "-116.16755870    0.23752385    0.00000000   -0.85629148    0.00000000 "
      ]
     },
     "metadata": {},
     "output_type": "display_data"
    }
   ],
   "source": [
    "out <- glmnet(x, y, alpha = 1, lambda = grid)\n",
    "\n",
    "lasso_coef <- predict(out, type = \"coefficients\", s = best_lam)[1:20, ]\n",
    "\n",
    "lasso_coef"
   ]
  },
  {
   "cell_type": "markdown",
   "metadata": {},
   "source": [
    "# PCR and PLS Regression Methods\n",
    "\n",
    "Principal components regression (PCR) can be performed using the `pcr()`\n",
    "function, which is part of the pls library.We now apply PCR to the Hitters\n",
    "data, in order to predict Salary. Again, we ensure that the missing values\n",
    "have been removed from the data,"
   ]
  },
  {
   "cell_type": "code",
   "execution_count": 64,
   "metadata": {
    "vscode": {
     "languageId": "r"
    }
   },
   "outputs": [
    {
     "name": "stderr",
     "output_type": "stream",
     "text": [
      "\n",
      "Attaching package: 'pls'\n",
      "\n",
      "The following object is masked from 'package:stats':\n",
      "\n",
      "    loadings\n",
      "\n"
     ]
    }
   ],
   "source": [
    "library(pls)\n",
    "\n",
    "set.seed(2)\n",
    "\n",
    "pcr_fit <- pcr(Salary ~ ., data = Hitters, scale = TRUE, validation = \"CV\")"
   ]
  },
  {
   "cell_type": "markdown",
   "metadata": {},
   "source": [
    "The syntax for the `pcr()` function is similar to that for lm(), with a few\n",
    "additional options. Setting scale = TRUE has the effect of standardizing each\n",
    "predictor, prior to generating the principal components, so that\n",
    "the scale on which each variable is measured will not have an effect. Setting\n",
    "validation = \"CV\" causes pcr() to compute the ten-fold cross-validation\n",
    "error for each possible value of M, the number of principal components\n",
    "used. The resulting fit can be examined using summary()."
   ]
  },
  {
   "cell_type": "code",
   "execution_count": 65,
   "metadata": {
    "vscode": {
     "languageId": "r"
    }
   },
   "outputs": [
    {
     "name": "stdout",
     "output_type": "stream",
     "text": [
      "Data: \tX dimension: 263 19 \n",
      "\tY dimension: 263 1\n",
      "Fit method: svdpc\n",
      "Number of components considered: 19\n",
      "\n",
      "VALIDATION: RMSEP\n",
      "Cross-validated using 10 random segments.\n",
      "       (Intercept)  1 comps  2 comps  3 comps  4 comps  5 comps  6 comps\n",
      "CV             452    351.9    353.2    355.0    352.8    348.4    343.6\n",
      "adjCV          452    351.6    352.7    354.4    352.1    347.6    342.7\n",
      "       7 comps  8 comps  9 comps  10 comps  11 comps  12 comps  13 comps\n",
      "CV       345.5    347.7    349.6     351.4     352.1     353.5     358.2\n",
      "adjCV    344.7    346.7    348.5     350.1     350.7     352.0     356.5\n",
      "       14 comps  15 comps  16 comps  17 comps  18 comps  19 comps\n",
      "CV        349.7     349.4     339.9     341.6     339.2     339.6\n",
      "adjCV     348.0     347.7     338.2     339.7     337.2     337.6\n",
      "\n",
      "TRAINING: % variance explained\n",
      "        1 comps  2 comps  3 comps  4 comps  5 comps  6 comps  7 comps  8 comps\n",
      "X         38.31    60.16    70.84    79.03    84.29    88.63    92.26    94.96\n",
      "Salary    40.63    41.58    42.17    43.22    44.90    46.48    46.69    46.75\n",
      "        9 comps  10 comps  11 comps  12 comps  13 comps  14 comps  15 comps\n",
      "X         96.28     97.26     97.98     98.65     99.15     99.47     99.75\n",
      "Salary    46.86     47.76     47.82     47.85     48.10     50.40     50.55\n",
      "        16 comps  17 comps  18 comps  19 comps\n",
      "X          99.89     99.97     99.99    100.00\n",
      "Salary     53.01     53.85     54.61     54.61\n"
     ]
    }
   ],
   "source": [
    "summary(pcr_fit)"
   ]
  },
  {
   "cell_type": "markdown",
   "metadata": {},
   "source": [
    "The CV score is provided for each possible number of components, ranging\n",
    "from M = 0 onwards. (We have printed the CV output only up to M = 4.)\n",
    "Note that pcr() reports the root mean squared error; in order to obtain\n",
    "the usual MSE, we must square this quantity. For instance, a root mean\n",
    "squared error of 352.8 corresponds to an MSE of 352.82 = 124,468.\n",
    "One can also plot the cross-validation scores using the \n",
    "validationplot()\n",
    "function. Using val.type = \"MSEP\" will cause the cross-validation MSE to\n",
    "be plotted."
   ]
  },
  {
   "cell_type": "code",
   "execution_count": 66,
   "metadata": {
    "vscode": {
     "languageId": "r"
    }
   },
   "outputs": [
    {
     "data": {
      "image/png": "[encoded data removed]",
      "text/plain": [
       "Plot with title \"Salary\""
      ]
     },
     "metadata": {},
     "output_type": "display_data"
    }
   ],
   "source": [
    "validationplot(pcr_fit, val.type = \"MSEP\")"
   ]
  },
  {
   "cell_type": "markdown",
   "metadata": {},
   "source": [
    "We see that the smallest cross-validation error occurs when M = 18 components\n",
    "are used. This is barely fewer than M = 19, which amounts to\n",
    "simply performing least squares, because when all of the components are\n",
    "used in PCR no dimension reduction occurs. However, from the plot we\n",
    "also see that the cross-validation error is roughly the same when only one\n",
    "component is included in the model. This suggests that a model that uses\n",
    "just a small number of components might suffice.\n",
    "\n",
    "The summary() function also provides the percentage of variance explained\n",
    "in the predictors and in the response using different numbers of components. Briefly,\n",
    "we can think of this as the amount of information about the predictors or\n",
    "the response that is captured using M principal components. For example,\n",
    "setting M = 1 only captures 38.31% of all the variance, or information, in\n",
    "the predictors. In contrast, using M = 5 increases the value to 84.29 %. If\n",
    "we were to use all M = p = 19 components, this would increase to 100 %."
   ]
  },
  {
   "cell_type": "code",
   "execution_count": 67,
   "metadata": {
    "vscode": {
     "languageId": "r"
    }
   },
   "outputs": [
    {
     "data": {
      "image/png": "[encoded data removed]",
      "text/plain": [
       "Plot with title \"Salary\""
      ]
     },
     "metadata": {},
     "output_type": "display_data"
    }
   ],
   "source": [
    "set.seed(1)\n",
    "\n",
    "pcr_fit <- pcr(Salary ~ ., data = Hitters, subset = train, scale = TRUE, validation = \"CV\")\n",
    "\n",
    "validationplot(pcr_fit, val.type = \"MSEP\")"
   ]
  },
  {
   "cell_type": "markdown",
   "metadata": {},
   "source": [
    "> Now we find that the lowest cross-validation error occurs when M = 5\n",
    "components are used. We compute the test MSE as follows."
   ]
  },
  {
   "cell_type": "code",
   "execution_count": 69,
   "metadata": {
    "vscode": {
     "languageId": "r"
    }
   },
   "outputs": [
    {
     "data": {
      "text/html": [
       "142811.810376319"
      ],
      "text/latex": [
       "142811.810376319"
      ],
      "text/markdown": [
       "142811.810376319"
      ],
      "text/plain": [
       "[1] 142811.8"
      ]
     },
     "metadata": {},
     "output_type": "display_data"
    }
   ],
   "source": [
    "pcr_pred <- predict(pcr_fit, x[test,], ncomp = 5)\n",
    "\n",
    "mean((pcr_pred - y_test)^2)"
   ]
  },
  {
   "cell_type": "markdown",
   "metadata": {},
   "source": [
    "This test set MSE is competitive with the results obtained using ridge regression\n",
    "and the lasso. However, as a result of the way PCR is implemented,\n",
    "the final model is more difficult to interpret because it does not perform\n",
    "any kind of variable selection or even directly produce coefficient estimates."
   ]
  },
  {
   "cell_type": "code",
   "execution_count": 71,
   "metadata": {
    "vscode": {
     "languageId": "r"
    }
   },
   "outputs": [
    {
     "name": "stdout",
     "output_type": "stream",
     "text": [
      "Data: \tX dimension: 263 19 \n",
      "\tY dimension: 263 1\n",
      "Fit method: svdpc\n",
      "Number of components considered: 5\n",
      "TRAINING: % variance explained\n",
      "   1 comps  2 comps  3 comps  4 comps  5 comps\n",
      "X    38.31    60.16    70.84    79.03    84.29\n",
      "y    40.63    41.58    42.17    43.22    44.90\n"
     ]
    }
   ],
   "source": [
    "# Finally, we fit PCR on the full data set, using M = 5, the number of components identified by cross-validation\n",
    "\n",
    "pcr_fit <- pcr(y ~ x, scale = TRUE, ncomp = 5)\n",
    "\n",
    "summary(pcr_fit)"
   ]
  },
  {
   "cell_type": "markdown",
   "metadata": {},
   "source": [
    "# Partial Least Squares"
   ]
  },
  {
   "cell_type": "code",
   "execution_count": 73,
   "metadata": {
    "vscode": {
     "languageId": "r"
    }
   },
   "outputs": [
    {
     "name": "stdout",
     "output_type": "stream",
     "text": [
      "Data: \tX dimension: 131 19 \n",
      "\tY dimension: 131 1\n",
      "Fit method: kernelpls\n",
      "Number of components considered: 19\n",
      "\n",
      "VALIDATION: RMSEP\n",
      "Cross-validated using 10 random segments.\n",
      "       (Intercept)  1 comps  2 comps  3 comps  4 comps  5 comps  6 comps\n",
      "CV           428.3    325.5    329.9    328.8    339.0    338.9    340.1\n",
      "adjCV        428.3    325.0    328.2    327.2    336.6    336.1    336.6\n",
      "       7 comps  8 comps  9 comps  10 comps  11 comps  12 comps  13 comps\n",
      "CV       339.0    347.1    346.4     343.4     341.5     345.4     356.4\n",
      "adjCV    336.2    343.4    342.8     340.2     338.3     341.8     351.1\n",
      "       14 comps  15 comps  16 comps  17 comps  18 comps  19 comps\n",
      "CV        348.4     349.1     350.0     344.2     344.5     345.0\n",
      "adjCV     344.2     345.0     345.9     340.4     340.6     341.1\n",
      "\n",
      "TRAINING: % variance explained\n",
      "        1 comps  2 comps  3 comps  4 comps  5 comps  6 comps  7 comps  8 comps\n",
      "X         39.13    48.80    60.09    75.07    78.58    81.12    88.21    90.71\n",
      "Salary    46.36    50.72    52.23    53.03    54.07    54.77    55.05    55.66\n",
      "        9 comps  10 comps  11 comps  12 comps  13 comps  14 comps  15 comps\n",
      "X         93.17     96.05     97.08     97.61     97.97     98.70     99.12\n",
      "Salary    55.95     56.12     56.47     56.68     57.37     57.76     58.08\n",
      "        16 comps  17 comps  18 comps  19 comps\n",
      "X          99.61     99.70     99.95    100.00\n",
      "Salary     58.17     58.49     58.56     58.62\n"
     ]
    }
   ],
   "source": [
    "set.seed(1)\n",
    "\n",
    "pls_fit <- plsr(Salary ~ ., data = Hitters, scale = TRUE, subset = train, validation = \"CV\")\n",
    "\n",
    "\n",
    "summary(pls_fit)"
   ]
  },
  {
   "cell_type": "markdown",
   "metadata": {},
   "source": [
    "The lowest cross-validation error occurs when only M = 1 partial least\n",
    "squares directions are used. We now evaluate the corresponding test set\n",
    "MSE."
   ]
  },
  {
   "cell_type": "code",
   "execution_count": 75,
   "metadata": {
    "vscode": {
     "languageId": "r"
    }
   },
   "outputs": [
    {
     "data": {
      "text/html": [
       "151995.259555806"
      ],
      "text/latex": [
       "151995.259555806"
      ],
      "text/markdown": [
       "151995.259555806"
      ],
      "text/plain": [
       "[1] 151995.3"
      ]
     },
     "metadata": {},
     "output_type": "display_data"
    }
   ],
   "source": [
    "pls_pred <- predict(pls_fit, x[test,], ncomp = 1)\n",
    "\n",
    "mean((pls_pred - y_test)^2)"
   ]
  },
  {
   "cell_type": "markdown",
   "metadata": {},
   "source": [
    "The test MSE is comparable to, but slightly higher than, the test MSE\n",
    "obtained using ridge regression, the lasso, and PCR."
   ]
  },
  {
   "cell_type": "code",
   "execution_count": 76,
   "metadata": {
    "vscode": {
     "languageId": "r"
    }
   },
   "outputs": [
    {
     "name": "stdout",
     "output_type": "stream",
     "text": [
      "Data: \tX dimension: 263 19 \n",
      "\tY dimension: 263 1\n",
      "Fit method: kernelpls\n",
      "Number of components considered: 1\n",
      "TRAINING: % variance explained\n",
      "        1 comps\n",
      "X         38.08\n",
      "Salary    43.05\n"
     ]
    }
   ],
   "source": [
    "#Finally, we perform PLS using the full data set, using M = 1, the number of components identified by cross-validation.\n",
    "\n",
    "\n",
    "pls_fit <- plsr(Salary ~ ., data = Hitters, scale = TRUE, ncomp = 1)\n",
    "\n",
    "summary(pls_fit)"
   ]
  },
  {
   "cell_type": "markdown",
   "metadata": {},
   "source": [
    "Notice that the percentage of variance in Salary that the one-component\n",
    "PLS fit explains, 43.05 %, is almost as much as that explained using the final\n",
    "five-component model PCR fit, 44.90 %. This is because PCR only attempts\n",
    "to maximize the amount of variance explained in the predictors, while PLS\n",
    "searches for directions that explain variance in both the predictors and the\n",
    "response."
   ]
  }
 ],
 "metadata": {
  "kernelspec": {
   "display_name": "R",
   "language": "R",
   "name": "ir"
  },
  "language_info": {
   "codemirror_mode": "r",
   "file_extension": ".r",
   "mimetype": "text/x-r-source",
   "name": "R",
   "pygments_lexer": "r",
   "version": "3.6.1"
  },
  "orig_nbformat": 4
 },
 "nbformat": 4,
 "nbformat_minor": 2
}
